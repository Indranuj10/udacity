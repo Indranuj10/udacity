{
 "cells": [
  {
   "cell_type": "markdown",
   "metadata": {},
   "source": [
    "## Code Sets Exercise 2: Procedure Code Grouping - Solution"
   ]
  },
  {
   "cell_type": "markdown",
   "metadata": {},
   "source": [
    "### Datasets \n",
    "- 2018 CA inpatient dataset - https://data.chhs.ca.gov/dataset/hospital-inpatient-diagnosis-procedure-and-external-cause-codes/\n",
    "- Attribution to CA https://data.chhs.ca.gov/pages/terms\n",
    "\n",
    "### Instructions\n",
    "Please use the above dataset from the state of California that provides the total inpatient diagnosis counts using the ICD10 - PCS code set. \n",
    "1. Give the codes that have 'CORONARY ARTERY\" in the description\n",
    "2. What percentage of primary procedure codes could be grouped at the B category level? \n",
    "3. What is the highest percentage grouping you can make with 3 characters for the secondary procedure code? \n"
   ]
  },
  {
   "cell_type": "code",
   "execution_count": null,
   "metadata": {},
   "outputs": [],
   "source": [
    "import pandas as pd\n",
    "import numpy as np"
   ]
  },
  {
   "cell_type": "code",
   "execution_count": null,
   "metadata": {},
   "outputs": [],
   "source": [
    "ca_icd_pc_path = './ICD-10-PCS-Table 1.csv'"
   ]
  },
  {
   "cell_type": "code",
   "execution_count": null,
   "metadata": {},
   "outputs": [],
   "source": [
    "#last row is malformed\n",
    "proc_df = pd.read_csv(ca_icd_pc_path).fillna(0)[:-1]"
   ]
  },
  {
   "cell_type": "code",
   "execution_count": null,
   "metadata": {},
   "outputs": [],
   "source": [
    "proc_df.head()"
   ]
  },
  {
   "cell_type": "markdown",
   "metadata": {},
   "source": [
    "### Solution\n",
    "**1. Give the codes that have 'CORONARY ARTERY\" in the description**"
   ]
  },
  {
   "cell_type": "code",
   "execution_count": null,
   "metadata": {},
   "outputs": [],
   "source": [
    "coronary_df = proc_df[proc_df['ProcedureDesc'].str.contains('CORONARY ARTERY')]\n",
    "coronary_df"
   ]
  },
  {
   "cell_type": "markdown",
   "metadata": {},
   "source": [
    "**2. What percentage of primary procedure codes could be grouped at the B category level?**"
   ]
  },
  {
   "cell_type": "code",
   "execution_count": null,
   "metadata": {},
   "outputs": [],
   "source": [
    "B_cat_level_sum = sum(coronary_df[coronary_df['ProcedureCode'].str.startswith('B')]['PrimaryProc'].astype(int))\n",
    "B_cat_level_sum"
   ]
  },
  {
   "cell_type": "code",
   "execution_count": null,
   "metadata": {},
   "outputs": [],
   "source": [
    "total_primary_proc = sum(coronary_df['PrimaryProc'].astype(int))\n",
    "total_primary_proc"
   ]
  },
  {
   "cell_type": "code",
   "execution_count": null,
   "metadata": {},
   "outputs": [],
   "source": [
    "float(B_cat_level_sum/total_primary_proc)"
   ]
  },
  {
   "cell_type": "markdown",
   "metadata": {},
   "source": [
    "**3. What is the highest percentage grouping you can make with 3 characters for the secondary procedure code?** "
   ]
  },
  {
   "cell_type": "code",
   "execution_count": null,
   "metadata": {},
   "outputs": [],
   "source": [
    "three_code_list = set(coronary_df['ProcedureCode'].str[0:3])\n",
    "three_code_list"
   ]
  },
  {
   "cell_type": "code",
   "execution_count": null,
   "metadata": {},
   "outputs": [],
   "source": [
    "def calculate_percent_grouped(df, three_letter_code):\n",
    "    second_group_level_sum = sum(df[df['ProcedureCode'].str.startswith(three_letter_code)]['SecondProc'].astype(int))\n",
    "    total_secondary_proc = sum(df['SecondProc'].astype(int))\n",
    "    print(\"Three letter code:{}\\nPercent Grouped:{}\".format( three_letter_code, \n",
    "                                                            float(second_group_level_sum/total_secondary_proc)))"
   ]
  },
  {
   "cell_type": "code",
   "execution_count": null,
   "metadata": {},
   "outputs": [],
   "source": [
    "for c in three_code_list:\n",
    "    calculate_percent_grouped(coronary_df, c)"
   ]
  }
 ],
 "metadata": {
  "kernelspec": {
   "display_name": "Python 3",
   "language": "python",
   "name": "python3"
  },
  "language_info": {
   "codemirror_mode": {
    "name": "ipython",
    "version": 3
   },
   "file_extension": ".py",
   "mimetype": "text/x-python",
   "name": "python",
   "nbconvert_exporter": "python",
   "pygments_lexer": "ipython3",
   "version": "3.7.6"
  }
 },
 "nbformat": 4,
 "nbformat_minor": 4
}
