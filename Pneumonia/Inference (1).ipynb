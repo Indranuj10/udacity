{
 "cells": [
  {
   "cell_type": "code",
   "execution_count": 1,
   "metadata": {},
   "outputs": [
    {
     "name": "stderr",
     "output_type": "stream",
     "text": [
      "Using TensorFlow backend.\n"
     ]
    }
   ],
   "source": [
    "import numpy as np\n",
    "import pandas as pd\n",
    "import pydicom\n",
    "%matplotlib inline\n",
    "import matplotlib.pyplot as plt\n",
    "import keras \n",
    "from keras.models import Sequential\n",
    "from keras.layers import Dense\n",
    "from keras.models import model_from_json\n",
    "import numpy\n",
    "import os\n",
    "from PIL import Image\n",
    "import cv2"
   ]
  },
  {
   "cell_type": "code",
   "execution_count": 7,
   "metadata": {},
   "outputs": [
    {
     "name": "stdout",
     "output_type": "stream",
     "text": [
      "Defaulting to user installation because normal site-packages is not writeable\n",
      "Requirement already satisfied: opencv-python in /root/.local/lib/python3.7/site-packages (4.2.0.34)\n",
      "Requirement already satisfied: numpy>=1.14.5 in /opt/conda/lib/python3.7/site-packages (from opencv-python) (1.18.1)\n",
      "Note: you may need to restart the kernel to use updated packages.\n"
     ]
    }
   ],
   "source": [
    "\n",
    "\n",
    "pip install opencv-python"
   ]
  },
  {
   "cell_type": "code",
   "execution_count": 2,
   "metadata": {},
   "outputs": [],
   "source": [
    "import numpy as np # linear algebra\n",
    "import pandas as pd # data processing, CSV file I/O (e.g. pd.read_csv)\n",
    "import os\n",
    "from glob import glob\n",
    "%matplotlib inline\n",
    "import matplotlib.pyplot as plt\n",
    "from random import sample\n",
    "\n",
    "from itertools import chain\n",
    "from random import sample \n",
    "import scipy\n",
    "import sklearn.model_selection as skl\n",
    "import tensorflow as tf\n",
    "from skimage import io\n",
    "\n",
    "from keras.preprocessing.image import ImageDataGenerator\n",
    "from keras.layers import GlobalAveragePooling2D, Dense, Dropout, Flatten, Conv2D, MaxPooling2D\n",
    "from keras.models import Sequential, Model\n",
    "from keras.applications.vgg16 import VGG16\n",
    "from keras.applications.resnet import ResNet50 \n",
    "from keras.optimizers import Adam\n",
    "from keras.callbacks import ModelCheckpoint, LearningRateScheduler, EarlyStopping, ReduceLROnPlateau\n",
    "\n",
    "from sklearn.preprocessing import binarize\n",
    "\n",
    "from sklearn.metrics import roc_curve, auc, precision_recall_curve, average_precision_score, plot_precision_recall_curve, f1_score, confusion_matrix\n",
    "##Import any other stats/DL/ML packages you may need here. E.g. Keras, scikit-learn, etc."
   ]
  },
  {
   "cell_type": "code",
   "execution_count": null,
   "metadata": {},
   "outputs": [],
   "source": [
    "# # This function reads in a .dcm file, checks the important fields for our device, and returns a numpy array\n",
    "# # of just the imaging data\n",
    "# def check_dicom(filename): \n",
    "#     # todo\n",
    "    \n",
    "# #     print('Load file {} ...'.format(filename))\n",
    "# #     ds = pydicom.dcmread(filename)       \n",
    "# #     img = ds.pixel_array\n",
    "#     return img\n",
    "    \n",
    "    \n",
    "# # This function takes the numpy array output by check_dicom and \n",
    "# # runs the appropriate pre-processing needed for our model input\n",
    "# def preprocess_image(img,img_mean,img_std,img_size): \n",
    "#     # todo\n",
    "    \n",
    "#     return proc_img\n",
    "\n",
    "# # This function loads in our trained model w/ weights and compiles it \n",
    "# def load_model(model_path, weight_path):\n",
    "#     # todo\n",
    "    \n",
    "    \n",
    "#     return model\n",
    "\n",
    "# # This function uses our device's threshold parameters to predict whether or not\n",
    "# # the image shows the presence of pneumonia using our trained model\n",
    "# def predict_image(model, img, thresh): \n",
    "#     # todo    \n",
    "    \n",
    "#     return prediction "
   ]
  },
  {
   "cell_type": "code",
   "execution_count": 8,
   "metadata": {},
   "outputs": [],
   "source": [
    "# This function reads in a .dcm file, checks the important fields for our device, and returns a numpy array\n",
    "# of just the imaging data\n",
    "def check_dicom(filename): \n",
    "    # todo\n",
    "    \n",
    "    print('Load file {} ...'.format(filename))\n",
    "    ds = pydicom.dcmread(filename)\n",
    "    if (ds.BodyPartExamined !='CHEST') | (ds.Modality !='DX') | (ds.PatientPosition !='PA'):\n",
    "        img=None\n",
    "    else:\n",
    "        img = ds.pixel_array\n",
    "    return img\n",
    "    \n",
    "    \n",
    "# This function takes the numpy array output by check_dicom and \n",
    "# runs the appropriate pre-processing needed for our model input\n",
    "# def preprocess_image(img): \n",
    "#     # todo\n",
    "#     img = Image.fromarray(img)\n",
    "#     #img = cv2.cvtColor(img, cv2.COLOR_GRAY2RGB)\n",
    "#     img = cv2.cvtColor(np.float32(img), cv2.COLOR_GRAY2RGB)\n",
    "#     #img=img.convert(\"RGB\")\n",
    "#     #img=img.resize(224,224)\n",
    "#     #img=cv2.resize(img,(224,224))\n",
    "#     img=cv2.resize(np.float32(img),(224,224))\n",
    "#     img=np.asarray(img)\n",
    "#     proc_img=img / 255.0\n",
    "#     return proc_img\n",
    "def preprocess_image(img): \n",
    "    # todo\n",
    "    print(f'Before img.shape={img.shape},  type(img)={type(img)}')\n",
    "    #     img = Image.fromarray(img, 'RGB')\n",
    "    #     img=img.resize(224,224,3)\n",
    "    from skimage.transform import resize\n",
    "    img = img[:,:,None]\n",
    "    img = resize(img, (224,224, 3))  \n",
    "    print(f'After img.shape={img.shape},  type(img)={type(img)}')        \n",
    "    \n",
    "    img=np.asarray(img)\n",
    "    proc_img=img / 255.0\n",
    "    return proc_img\n",
    "\n",
    "# This function loads in our trained model w/ weights and compiles it \n",
    "def load_model(model_path, weight_path):\n",
    "    # todo\n",
    "    json_file = open(model_path, 'r')\n",
    "    loaded_model_json = json_file.read()\n",
    "    json_file.close()\n",
    "    model = model_from_json(loaded_model_json)\n",
    "    model.load_weights(weight_path)\n",
    "    return model\n",
    "\n",
    "# This function uses our device's threshold parameters to predict whether or not\n",
    "# the image shows the presence of pneumonia using our trained model\n",
    "def predict_image(model, img, thresh): \n",
    "    # todo  \n",
    "    img = np.expand_dims(img, axis=0)\n",
    "    value = model.predict(img)\n",
    "\n",
    "    if value> thresh:\n",
    "        print('Pneumonia Present')\n",
    "\n",
    "    else:\n",
    "        print(\"No Pneumonia\")\n",
    "#return prediction "
   ]
  },
  {
   "cell_type": "code",
   "execution_count": 9,
   "metadata": {},
   "outputs": [
    {
     "name": "stdout",
     "output_type": "stream",
     "text": [
      "Load file test1.dcm ...\n",
      "Before img.shape=(1024, 1024),  type(img)=<class 'numpy.ndarray'>\n",
      "After img.shape=(224, 224, 3),  type(img)=<class 'numpy.ndarray'>\n",
      "Pneumonia Present\n",
      "Load file test2.dcm ...\n",
      "Load file test3.dcm ...\n",
      "Load file test4.dcm ...\n",
      "Load file test5.dcm ...\n",
      "Load file test6.dcm ...\n"
     ]
    }
   ],
   "source": [
    "test_dicoms = ['test1.dcm','test2.dcm','test3.dcm','test4.dcm','test5.dcm','test6.dcm']\n",
    "\n",
    "model_path = 'my_model.json'\n",
    "weight_path = 'xray_class_new_model2.best.hdf5'\n",
    "\n",
    "IMG_SIZE=(1,224,224,3) # This might be different if you did not use vgg16\n",
    "# # img_mean = # loads the mean image value they used during training preprocessing\n",
    "# # img_std = # loads the std dev image value they used during training preprocessing\n",
    "\n",
    "my_model = load_model(model_path, weight_path)#loads model\n",
    "thresh = 0.5 #loads the threshold they chose for model classification \n",
    "\n",
    "# # use the .dcm files to test your prediction\n",
    "for i in test_dicoms:\n",
    "    \n",
    "    img = np.array([])\n",
    "    img = check_dicom(i)\n",
    "    \n",
    "    if img is None:\n",
    "        continue\n",
    "        \n",
    "    img_proc = preprocess_image(img)\n",
    "    pred = predict_image(my_model,img_proc,thresh)\n",
    "    #print(pred)"
   ]
  },
  {
   "cell_type": "code",
   "execution_count": null,
   "metadata": {},
   "outputs": [],
   "source": []
  }
 ],
 "metadata": {
  "kernelspec": {
   "display_name": "Python 3",
   "language": "python",
   "name": "python3"
  },
  "language_info": {
   "codemirror_mode": {
    "name": "ipython",
    "version": 3
   },
   "file_extension": ".py",
   "mimetype": "text/x-python",
   "name": "python",
   "nbconvert_exporter": "python",
   "pygments_lexer": "ipython3",
   "version": "3.7.6"
  }
 },
 "nbformat": 4,
 "nbformat_minor": 2
}
