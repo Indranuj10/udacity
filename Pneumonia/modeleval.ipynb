{
 "cells": [
  {
   "cell_type": "code",
   "execution_count": 1,
   "metadata": {},
   "outputs": [
    {
     "name": "stderr",
     "output_type": "stream",
     "text": [
      "Using TensorFlow backend.\n"
     ]
    }
   ],
   "source": [
    "import numpy as np \n",
    "import pandas as pd \n",
    "import os\n",
    "from glob import glob\n",
    "%matplotlib inline\n",
    "import matplotlib.pyplot as plt\n",
    "import tensorflow as tf\n",
    "from skimage import io\n",
    "\n",
    "from keras.preprocessing.image import ImageDataGenerator\n",
    "from keras.layers import GlobalAveragePooling2D, Dense, Dropout, Flatten, Conv2D, MaxPooling2D\n",
    "from keras.models import Sequential, Model\n",
    "from keras.applications.vgg16 import VGG16\n",
    "from keras.applications.resnet import ResNet50 \n",
    "from keras.optimizers import Adam\n",
    "from keras.callbacks import ModelCheckpoint, LearningRateScheduler, EarlyStopping, ReduceLROnPlateau"
   ]
  },
  {
   "cell_type": "code",
   "execution_count": 2,
   "metadata": {},
   "outputs": [],
   "source": [
    "train_df = pd.read_csv('train.csv')\n",
    "valid_df = pd.read_csv('test.csv')"
   ]
  },
  {
   "cell_type": "markdown",
   "metadata": {},
   "source": [
    "## Setting up the image augmentation from last Lesson: "
   ]
  },
  {
   "cell_type": "code",
   "execution_count": 3,
   "metadata": {},
   "outputs": [],
   "source": [
    "IMG_SIZE = (224, 224)"
   ]
  },
  {
   "cell_type": "code",
   "execution_count": 4,
   "metadata": {},
   "outputs": [
    {
     "name": "stdout",
     "output_type": "stream",
     "text": [
      "Found 20 validated image filenames belonging to 2 classes.\n",
      "Found 6 validated image filenames belonging to 2 classes.\n"
     ]
    }
   ],
   "source": [
    "train_idg = ImageDataGenerator(rescale=1. / 255.0,\n",
    "                              horizontal_flip = True, \n",
    "                              vertical_flip = False, \n",
    "                              height_shift_range= 0.1, \n",
    "                              width_shift_range=0.1, \n",
    "                              rotation_range=20, \n",
    "                              shear_range = 0.1,\n",
    "                              zoom_range=0.1)\n",
    "\n",
    "train_gen = train_idg.flow_from_dataframe(dataframe=train_df, \n",
    "                                         directory=None, \n",
    "                                         x_col = 'img_path',\n",
    "                                         y_col = 'class',\n",
    "                                         class_mode = 'binary',\n",
    "                                         target_size = IMG_SIZE, \n",
    "                                         batch_size = 9\n",
    "                                         )\n",
    "\n",
    "# Note that the validation data should not be augmented! We only want to do some basic intensity rescaling here\n",
    "val_idg = ImageDataGenerator(rescale=1. / 255.0\n",
    "                                 )\n",
    "\n",
    "val_gen = val_idg.flow_from_dataframe(dataframe=valid_df, \n",
    "                                         directory=None, \n",
    "                                         x_col = 'img_path',\n",
    "                                         y_col = 'class',\n",
    "                                         class_mode = 'binary',\n",
    "                                         target_size = IMG_SIZE, \n",
    "                                         batch_size = 6) ## We've only been provided with 6 validation images"
   ]
  },
  {
   "cell_type": "code",
   "execution_count": 5,
   "metadata": {},
   "outputs": [],
   "source": [
    "## Pull a single large batch of random validation data for testing after each epoch\n",
    "testX, testY = val_gen.next()"
   ]
  },
  {
   "cell_type": "markdown",
   "metadata": {},
   "source": [
    "## Now we'll load in VGG16 with pre-trained ImageNet weights: "
   ]
  },
  {
   "cell_type": "code",
   "execution_count": 6,
   "metadata": {},
   "outputs": [
    {
     "name": "stdout",
     "output_type": "stream",
     "text": [
      "Downloading data from https://github.com/fchollet/deep-learning-models/releases/download/v0.1/vgg16_weights_tf_dim_ordering_tf_kernels.h5\n",
      "553467904/553467096 [==============================] - 8s 0us/step\n"
     ]
    }
   ],
   "source": [
    "model = VGG16(include_top=True, weights='imagenet')"
   ]
  },
  {
   "cell_type": "code",
   "execution_count": 7,
   "metadata": {},
   "outputs": [],
   "source": [
    "transfer_layer = model.get_layer('block5_pool')\n",
    "vgg_model = Model(inputs=model.input,\n",
    "                   outputs=transfer_layer.output)"
   ]
  },
  {
   "cell_type": "code",
   "execution_count": 8,
   "metadata": {},
   "outputs": [],
   "source": [
    "## Now, choose which layers of VGG16 we actually want to fine-tune (if any)\n",
    "## Here, we'll freeze all but the last convolutional layer\n",
    "for layer in vgg_model.layers[0:17]:\n",
    "    layer.trainable = False"
   ]
  },
  {
   "cell_type": "code",
   "execution_count": 9,
   "metadata": {},
   "outputs": [],
   "source": [
    "new_model = Sequential()\n",
    "\n",
    "# Add the convolutional part of the VGG16 model from above.\n",
    "new_model.add(vgg_model)\n",
    "\n",
    "# Flatten the output of the VGG16 model because it is from a\n",
    "# convolutional layer.\n",
    "new_model.add(Flatten())\n",
    "\n",
    "# Add a dropout-layer which may prevent overfitting and\n",
    "# improve generalization ability to unseen data e.g. the test-set.\n",
    "new_model.add(Dropout(0.5))\n",
    "\n",
    "# Add a dense (aka. fully-connected) layer.\n",
    "# This is for combining features that the VGG16 model has\n",
    "# recognized in the image.\n",
    "new_model.add(Dense(1024, activation='relu'))\n",
    "\n",
    "# Add a dropout-layer which may prevent overfitting and\n",
    "# improve generalization ability to unseen data e.g. the test-set.\n",
    "new_model.add(Dropout(0.5))\n",
    "\n",
    "# Add a dense (aka. fully-connected) layer.\n",
    "# This is for combining features that the VGG16 model has\n",
    "# recognized in the image.\n",
    "new_model.add(Dense(512, activation='relu'))\n",
    "\n",
    "# Add a dropout-layer which may prevent overfitting and\n",
    "# improve generalization ability to unseen data e.g. the test-set.\n",
    "new_model.add(Dropout(0.5))\n",
    "\n",
    "# Add a dense (aka. fully-connected) layer.\n",
    "# This is for combining features that the VGG16 model has\n",
    "# recognized in the image.\n",
    "new_model.add(Dense(256, activation='relu'))\n",
    "\n",
    "# Add a dense (aka. fully-connected) layer.\n",
    "# Change the activation function to sigmoid \n",
    "# so output of the last layer is in the range of [0,1] \n",
    "new_model.add(Dense(1, activation='sigmoid'))"
   ]
  },
  {
   "cell_type": "code",
   "execution_count": 10,
   "metadata": {},
   "outputs": [
    {
     "name": "stdout",
     "output_type": "stream",
     "text": [
      "Model: \"sequential_1\"\n",
      "_________________________________________________________________\n",
      "Layer (type)                 Output Shape              Param #   \n",
      "=================================================================\n",
      "model_1 (Model)              (None, 7, 7, 512)         14714688  \n",
      "_________________________________________________________________\n",
      "flatten_1 (Flatten)          (None, 25088)             0         \n",
      "_________________________________________________________________\n",
      "dropout_1 (Dropout)          (None, 25088)             0         \n",
      "_________________________________________________________________\n",
      "dense_1 (Dense)              (None, 1024)              25691136  \n",
      "_________________________________________________________________\n",
      "dropout_2 (Dropout)          (None, 1024)              0         \n",
      "_________________________________________________________________\n",
      "dense_2 (Dense)              (None, 512)               524800    \n",
      "_________________________________________________________________\n",
      "dropout_3 (Dropout)          (None, 512)               0         \n",
      "_________________________________________________________________\n",
      "dense_3 (Dense)              (None, 256)               131328    \n",
      "_________________________________________________________________\n",
      "dense_4 (Dense)              (None, 1)                 257       \n",
      "=================================================================\n",
      "Total params: 41,062,209\n",
      "Trainable params: 28,707,329\n",
      "Non-trainable params: 12,354,880\n",
      "_________________________________________________________________\n"
     ]
    }
   ],
   "source": [
    "new_model.summary()"
   ]
  },
  {
   "cell_type": "code",
   "execution_count": 11,
   "metadata": {},
   "outputs": [],
   "source": [
    "## Set our optimizer, loss function, and learning rate\n",
    "optimizer = Adam(lr=1e-4)\n",
    "loss = 'binary_crossentropy'\n",
    "metrics = ['binary_accuracy']"
   ]
  },
  {
   "cell_type": "code",
   "execution_count": 12,
   "metadata": {},
   "outputs": [],
   "source": [
    "new_model.compile(optimizer=optimizer, loss=loss, metrics=metrics)"
   ]
  },
  {
   "cell_type": "code",
   "execution_count": 13,
   "metadata": {},
   "outputs": [
    {
     "name": "stdout",
     "output_type": "stream",
     "text": [
      "Epoch 1/10\n",
      "3/3 [==============================] - 6s 2s/step - loss: 0.8883 - binary_accuracy: 0.4000 - val_loss: 0.6811 - val_binary_accuracy: 0.5000\n",
      "Epoch 2/10\n",
      "3/3 [==============================] - 1s 167ms/step - loss: 0.6798 - binary_accuracy: 0.6000 - val_loss: 0.6815 - val_binary_accuracy: 0.5000\n",
      "Epoch 3/10\n",
      "3/3 [==============================] - 1s 211ms/step - loss: 0.9432 - binary_accuracy: 0.4500 - val_loss: 0.8257 - val_binary_accuracy: 0.5000\n",
      "Epoch 4/10\n",
      "3/3 [==============================] - 2s 539ms/step - loss: 0.9024 - binary_accuracy: 0.4500 - val_loss: 0.9049 - val_binary_accuracy: 0.5000\n",
      "Epoch 5/10\n",
      "3/3 [==============================] - 0s 160ms/step - loss: 0.7255 - binary_accuracy: 0.6000 - val_loss: 0.8908 - val_binary_accuracy: 0.5000\n",
      "Epoch 6/10\n",
      "3/3 [==============================] - 1s 183ms/step - loss: 0.7952 - binary_accuracy: 0.6000 - val_loss: 0.8782 - val_binary_accuracy: 0.5000\n",
      "Epoch 7/10\n",
      "3/3 [==============================] - 0s 161ms/step - loss: 0.6901 - binary_accuracy: 0.7000 - val_loss: 0.6831 - val_binary_accuracy: 0.5000\n",
      "Epoch 8/10\n",
      "3/3 [==============================] - 1s 194ms/step - loss: 0.5468 - binary_accuracy: 0.6500 - val_loss: 0.6041 - val_binary_accuracy: 0.6667\n",
      "Epoch 9/10\n",
      "3/3 [==============================] - 0s 158ms/step - loss: 0.8564 - binary_accuracy: 0.5000 - val_loss: 0.5552 - val_binary_accuracy: 0.8333\n",
      "Epoch 10/10\n",
      "3/3 [==============================] - 1s 178ms/step - loss: 0.8310 - binary_accuracy: 0.6500 - val_loss: 0.5492 - val_binary_accuracy: 0.6667\n"
     ]
    }
   ],
   "source": [
    "## Run for 10 epochs to see if any learning occurs:\n",
    "history = new_model.fit_generator(train_gen, \n",
    "                                  validation_data = (testX, testY), \n",
    "                                  epochs = 10)"
   ]
  },
  {
   "cell_type": "code",
   "execution_count": 16,
   "metadata": {},
   "outputs": [
    {
     "name": "stdout",
     "output_type": "stream",
     "text": [
      "<keras.callbacks.callbacks.History object at 0x7fe8a00f0f90>\n"
     ]
    }
   ],
   "source": [
    " print(history)"
   ]
  },
  {
   "cell_type": "code",
   "execution_count": 18,
   "metadata": {},
   "outputs": [
    {
     "data": {
      "text/plain": [
       "[0.9688325524330139,\n",
       " 0.6127082496881485,\n",
       " 0.88915154337883,\n",
       " 0.8771079689264297,\n",
       " 0.729568263888359,\n",
       " 0.8956621587276459,\n",
       " 0.6627564713358879,\n",
       " 0.6224441960453987,\n",
       " 0.851685157418251,\n",
       " 0.6577342420816421]"
      ]
     },
     "execution_count": 18,
     "metadata": {},
     "output_type": "execute_result"
    }
   ],
   "source": [
    "history.history[\"loss\"]"
   ]
  },
  {
   "cell_type": "code",
   "execution_count": 15,
   "metadata": {},
   "outputs": [
    {
     "data": {
      "text/plain": [
       "10"
      ]
     },
     "execution_count": 15,
     "metadata": {},
     "output_type": "execute_result"
    }
   ],
   "source": [
    "len(history.history[\"loss\"])"
   ]
  },
  {
   "cell_type": "code",
   "execution_count": 19,
   "metadata": {},
   "outputs": [],
   "source": [
    "# Define a function here that will plot loss, val_loss, binary_accuracy, and val_binary_accuracy over all of \n",
    "# your epochs: \n",
    "def plot_history(history):\n",
    "    N = len(history.history[\"loss\"])\n",
    "    plt.style.use(\"ggplot\")\n",
    "    plt.figure()\n",
    "    plt.plot(np.arange(0, N), history.history[\"loss\"], label=\"train_loss\")\n",
    "    plt.plot(np.arange(0, N), history.history[\"val_loss\"], label=\"val_loss\")\n",
    "    plt.plot(np.arange(0, N), history.history[\"binary_accuracy\"], label=\"train_acc\")\n",
    "    plt.plot(np.arange(0, N), history.history[\"val_binary_accuracy\"], label=\"val_acc\")\n",
    "    plt.title(\"Training Loss and Accuracy on Dataset\")\n",
    "    plt.xlabel(\"Epoch #\")\n",
    "    plt.ylabel(\"Loss/Accuracy\")\n",
    "    plt.legend(loc=\"lower left\")"
   ]
  },
  {
   "cell_type": "code",
   "execution_count": 20,
   "metadata": {},
   "outputs": [
    {
     "data": {
      "image/png": "[encoded data removed]",
      "text/plain": [
       "<Figure size 432x288 with 1 Axes>"
      ]
     },
     "metadata": {},
     "output_type": "display_data"
    }
   ],
   "source": [
    "plot_history(history)"
   ]
  },
  {
   "cell_type": "markdown",
   "metadata": {},
   "source": [
    "Based on the plot above, it looks like our model stopped learning after 7 epochs. You can tell this by looking at the decline in val_loss from epochs 0-7. "
   ]
  },
  {
   "cell_type": "markdown",
   "metadata": {},
   "source": [
    "## Try a model with less dropout, same learning rate: "
   ]
  },
  {
   "cell_type": "code",
   "execution_count": 21,
   "metadata": {},
   "outputs": [],
   "source": [
    "new_model = Sequential()\n",
    "\n",
    "# Add the convolutional part of the VGG16 model from above.\n",
    "new_model.add(vgg_model)\n",
    "\n",
    "# Flatten the output of the VGG16 model because it is from a\n",
    "# convolutional layer.\n",
    "new_model.add(Flatten())\n",
    "\n",
    "# Add a dense (aka. fully-connected) layer.\n",
    "# This is for combining features that the VGG16 model has\n",
    "# recognized in the image.\n",
    "new_model.add(Dense(1024, activation='relu'))\n",
    "\n",
    "# Add a dropout-layer which may prevent overfitting and\n",
    "# improve generalization ability to unseen data e.g. the test-set.\n",
    "new_model.add(Dropout(0.3))\n",
    "\n",
    "# Add a dense (aka. fully-connected) layer.\n",
    "# This is for combining features that the VGG16 model has\n",
    "# recognized in the image.\n",
    "new_model.add(Dense(512, activation='relu'))\n",
    "\n",
    "# Add a dropout-layer which may prevent overfitting and\n",
    "# improve generalization ability to unseen data e.g. the test-set.\n",
    "new_model.add(Dropout(0.3))\n",
    "\n",
    "# Add a dense (aka. fully-connected) layer.\n",
    "# This is for combining features that the VGG16 model has\n",
    "# recognized in the image.\n",
    "new_model.add(Dense(256, activation='relu'))\n",
    "\n",
    "# Add a dense (aka. fully-connected) layer.\n",
    "# Change the activation function to sigmoid \n",
    "# so output of the last layer is in the range of [0,1] \n",
    "new_model.add(Dense(1, activation='sigmoid'))"
   ]
  },
  {
   "cell_type": "code",
   "execution_count": 22,
   "metadata": {},
   "outputs": [],
   "source": [
    "new_model.compile(optimizer=optimizer, loss=loss, metrics=metrics)"
   ]
  },
  {
   "cell_type": "code",
   "execution_count": 23,
   "metadata": {},
   "outputs": [
    {
     "name": "stdout",
     "output_type": "stream",
     "text": [
      "Epoch 1/10\n",
      "3/3 [==============================] - 1s 378ms/step - loss: 0.6762 - binary_accuracy: 0.5500 - val_loss: 0.6632 - val_binary_accuracy: 0.6667\n",
      "Epoch 2/10\n",
      "3/3 [==============================] - 1s 169ms/step - loss: 0.5411 - binary_accuracy: 0.7500 - val_loss: 0.6399 - val_binary_accuracy: 0.6667\n",
      "Epoch 3/10\n",
      "3/3 [==============================] - 1s 186ms/step - loss: 0.6304 - binary_accuracy: 0.5000 - val_loss: 0.5618 - val_binary_accuracy: 0.6667\n",
      "Epoch 4/10\n",
      "3/3 [==============================] - 1s 179ms/step - loss: 0.7896 - binary_accuracy: 0.5000 - val_loss: 0.5583 - val_binary_accuracy: 0.6667\n",
      "Epoch 5/10\n",
      "3/3 [==============================] - 1s 184ms/step - loss: 0.3162 - binary_accuracy: 0.9000 - val_loss: 0.8411 - val_binary_accuracy: 0.6667\n",
      "Epoch 6/10\n",
      "3/3 [==============================] - 1s 183ms/step - loss: 0.5308 - binary_accuracy: 0.7000 - val_loss: 0.7553 - val_binary_accuracy: 0.6667\n",
      "Epoch 7/10\n",
      "3/3 [==============================] - 1s 173ms/step - loss: 0.4369 - binary_accuracy: 0.7500 - val_loss: 0.5218 - val_binary_accuracy: 0.8333\n",
      "Epoch 8/10\n",
      "3/3 [==============================] - 1s 198ms/step - loss: 0.6777 - binary_accuracy: 0.7000 - val_loss: 1.1824 - val_binary_accuracy: 0.6667\n",
      "Epoch 9/10\n",
      "3/3 [==============================] - 1s 187ms/step - loss: 0.4619 - binary_accuracy: 0.7000 - val_loss: 1.3127 - val_binary_accuracy: 0.6667\n",
      "Epoch 10/10\n",
      "3/3 [==============================] - 1s 193ms/step - loss: 0.5136 - binary_accuracy: 0.7000 - val_loss: 0.5611 - val_binary_accuracy: 0.8333\n"
     ]
    }
   ],
   "source": [
    "history = new_model.fit_generator(train_gen, \n",
    "                                  validation_data = (testX, testY), \n",
    "                                  epochs = 10)"
   ]
  },
  {
   "cell_type": "code",
   "execution_count": 24,
   "metadata": {},
   "outputs": [
    {
     "data": {
      "image/png": "[encoded data removed]",
      "text/plain": [
       "<Figure size 432x288 with 1 Axes>"
      ]
     },
     "metadata": {},
     "output_type": "display_data"
    }
   ],
   "source": [
    "plot_history(history)"
   ]
  },
  {
   "cell_type": "markdown",
   "metadata": {},
   "source": [
    "With less dropout, it looks like the model got worse since the train_loss dropped dramatically but the val_loss increased."
   ]
  },
  {
   "cell_type": "markdown",
   "metadata": {},
   "source": [
    "## Finally, try a model with the same amount of dropout as you initiall had, but a slower learning rate: "
   ]
  },
  {
   "cell_type": "code",
   "execution_count": 25,
   "metadata": {},
   "outputs": [],
   "source": [
    "new_model = Sequential()\n",
    "\n",
    "# Add the convolutional part of the VGG16 model from above.\n",
    "new_model.add(vgg_model)\n",
    "\n",
    "# Flatten the output of the VGG16 model because it is from a\n",
    "# convolutional layer.\n",
    "new_model.add(Flatten())\n",
    "\n",
    "# Add a dropout-layer which may prevent overfitting and\n",
    "# improve generalization ability to unseen data e.g. the test-set.\n",
    "new_model.add(Dropout(0.5))\n",
    "\n",
    "# Add a dense (aka. fully-connected) layer.\n",
    "# This is for combining features that the VGG16 model has\n",
    "# recognized in the image.\n",
    "new_model.add(Dense(1024, activation='relu'))\n",
    "\n",
    "# Add a dropout-layer which may prevent overfitting and\n",
    "# improve generalization ability to unseen data e.g. the test-set.\n",
    "new_model.add(Dropout(0.5))\n",
    "\n",
    "# Add a dense (aka. fully-connected) layer.\n",
    "# This is for combining features that the VGG16 model has\n",
    "# recognized in the image.\n",
    "new_model.add(Dense(512, activation='relu'))\n",
    "\n",
    "# Add a dropout-layer which may prevent overfitting and\n",
    "# improve generalization ability to unseen data e.g. the test-set.\n",
    "new_model.add(Dropout(0.5))\n",
    "\n",
    "# Add a dense (aka. fully-connected) layer.\n",
    "# This is for combining features that the VGG16 model has\n",
    "# recognized in the image.\n",
    "new_model.add(Dense(256, activation='relu'))\n",
    "\n",
    "# Add a dense (aka. fully-connected) layer.\n",
    "# Change the activation function to sigmoid \n",
    "# so output of the last layer is in the range of [0,1] \n",
    "new_model.add(Dense(1, activation='sigmoid'))"
   ]
  },
  {
   "cell_type": "code",
   "execution_count": 26,
   "metadata": {},
   "outputs": [],
   "source": [
    "## Set our optimizer, loss function, and learning rate\n",
    "optimizer = Adam(lr=1e-6)\n",
    "loss = 'binary_crossentropy'\n",
    "metrics = ['binary_accuracy']"
   ]
  },
  {
   "cell_type": "code",
   "execution_count": 27,
   "metadata": {},
   "outputs": [],
   "source": [
    "new_model.compile(optimizer=optimizer, loss=loss, metrics=metrics)"
   ]
  },
  {
   "cell_type": "code",
   "execution_count": 28,
   "metadata": {},
   "outputs": [
    {
     "name": "stdout",
     "output_type": "stream",
     "text": [
      "Epoch 1/10\n",
      "3/3 [==============================] - 1s 446ms/step - loss: 0.8033 - binary_accuracy: 0.5500 - val_loss: 0.6963 - val_binary_accuracy: 0.5000\n",
      "Epoch 2/10\n",
      "3/3 [==============================] - 1s 168ms/step - loss: 0.9214 - binary_accuracy: 0.4000 - val_loss: 0.6962 - val_binary_accuracy: 0.5000\n",
      "Epoch 3/10\n",
      "3/3 [==============================] - 1s 176ms/step - loss: 0.8649 - binary_accuracy: 0.4500 - val_loss: 0.6961 - val_binary_accuracy: 0.5000\n",
      "Epoch 4/10\n",
      "3/3 [==============================] - 1s 186ms/step - loss: 0.7909 - binary_accuracy: 0.5000 - val_loss: 0.6958 - val_binary_accuracy: 0.5000\n",
      "Epoch 5/10\n",
      "3/3 [==============================] - 0s 161ms/step - loss: 0.7083 - binary_accuracy: 0.6000 - val_loss: 0.6954 - val_binary_accuracy: 0.5000\n",
      "Epoch 6/10\n",
      "3/3 [==============================] - 1s 176ms/step - loss: 0.8689 - binary_accuracy: 0.5500 - val_loss: 0.6949 - val_binary_accuracy: 0.5000\n",
      "Epoch 7/10\n",
      "3/3 [==============================] - 1s 212ms/step - loss: 0.9401 - binary_accuracy: 0.4000 - val_loss: 0.6944 - val_binary_accuracy: 0.5000\n",
      "Epoch 8/10\n",
      "3/3 [==============================] - 1s 180ms/step - loss: 0.7948 - binary_accuracy: 0.5500 - val_loss: 0.6940 - val_binary_accuracy: 0.5000\n",
      "Epoch 9/10\n",
      "3/3 [==============================] - 1s 174ms/step - loss: 0.6959 - binary_accuracy: 0.4500 - val_loss: 0.6936 - val_binary_accuracy: 0.5000\n",
      "Epoch 10/10\n",
      "3/3 [==============================] - 1s 216ms/step - loss: 0.7789 - binary_accuracy: 0.4000 - val_loss: 0.6931 - val_binary_accuracy: 0.5000\n"
     ]
    }
   ],
   "source": [
    "history = new_model.fit_generator(train_gen, \n",
    "                                  validation_data = (testX, testY), \n",
    "                                  epochs = 10)"
   ]
  },
  {
   "cell_type": "code",
   "execution_count": 29,
   "metadata": {},
   "outputs": [
    {
     "data": {
      "image/png": "[encoded data removed]",
      "text/plain": [
       "<Figure size 432x288 with 1 Axes>"
      ]
     },
     "metadata": {},
     "output_type": "display_data"
    }
   ],
   "source": [
    "plot_history(history)"
   ]
  },
  {
   "cell_type": "markdown",
   "metadata": {},
   "source": [
    "The performance with this architecture and parameters is pretty unstable, and also isn't learning based on the flat val_loss curve. We see, however, that between epoch 3 and 8 the train_loss goes down, which indicates that while the model was learning _something,_ it was essentially just learning to overfit on the training data. "
   ]
  },
  {
   "cell_type": "code",
   "execution_count": null,
   "metadata": {},
   "outputs": [],
   "source": []
  }
 ],
 "metadata": {
  "kernelspec": {
   "display_name": "Python 3",
   "language": "python",
   "name": "python3"
  },
  "language_info": {
   "codemirror_mode": {
    "name": "ipython",
    "version": 3
   },
   "file_extension": ".py",
   "mimetype": "text/x-python",
   "name": "python",
   "nbconvert_exporter": "python",
   "pygments_lexer": "ipython3",
   "version": "3.7.6"
  }
 },
 "nbformat": 4,
 "nbformat_minor": 2
}
