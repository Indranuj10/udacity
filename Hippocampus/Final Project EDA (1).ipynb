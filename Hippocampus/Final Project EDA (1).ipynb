{
 "cells": [
  {
   "cell_type": "markdown",
   "metadata": {},
   "source": [
    "# Preparing the dataset for hippocampus segmentation\n",
    "\n",
    "In this notebook you will use the skills and methods that we have talked about during our EDA Lesson to prepare the hippocampus dataset using Python. Follow the Notebook, writing snippets of code where directed so using Task comments, similar to the one below, which expects you to put the proper imports in place. Write your code directly in the cell with TASK comment. Feel free to add cells as you see fit, but please make sure that code that performs that tasked activity sits in the same cell as the Task comment.\n"
   ]
  },
  {
   "cell_type": "code",
   "execution_count": 2,
   "metadata": {},
   "outputs": [],
   "source": [
    "# TASK: Import the following libraries that we will use: nibabel, matplotlib, numpy\n",
    "\n",
    "import matplotlib.pyplot as plt\n",
    "import matplotlib.cm as cm\n",
    "import numpy.ma as ma\n",
    "import numpy as np\n",
    "import torch\n",
    "import torch.nn as nn\n",
    "import torch.nn.functional as F\n",
    "import nibabel as nib\n",
    "from collections import OrderedDict\n",
    "import torch.optim as optim\n",
    "\n",
    "import pydicom\n",
    "import numpy as np\n",
    "import matplotlib.pyplot as plt\n",
    "import os\n",
    "import shutil"
   ]
  },
  {
   "cell_type": "markdown",
   "metadata": {},
   "source": [
    "It will help your understanding of the data a lot if you were able to use a tool that allows you to view NIFTI volumes, like [3D Slicer](https://www.slicer.org/). I will refer to Slicer throughout this Notebook and will be pasting some images showing what your output might look like."
   ]
  },
  {
   "cell_type": "markdown",
   "metadata": {},
   "source": [
    "## Loading NIFTI images using NiBabel\n",
    "\n",
    "NiBabel is a python library for working with neuro-imaging formats (including NIFTI) that we have used in some of the exercises throughout the course. Our volumes and labels are in NIFTI format, so we will use nibabel to load and inspect them.\n",
    "\n",
    "NiBabel documentation could be found here: https://nipy.org/nibabel/\n",
    "\n",
    "Our dataset sits in two directories - *images* and *labels*. Each image is represented by a single file (we are fortunate to have our data converted to NIFTI) and has a corresponding label file which is named the same as the image file.\n",
    "\n",
    "Note that our dataset is \"dirty\". There are a few images and labels that are not quite right. They should be quite obvious to notice, though. The dataset contains an equal amount of \"correct\" volumes and corresponding labels, and you don't need to alter values of any samples in order to get the clean dataset."
   ]
  },
  {
   "cell_type": "code",
   "execution_count": 3,
   "metadata": {},
   "outputs": [],
   "source": [
    "# TASK: Your data sits in directory /data/TrainingSet.\n",
    "# Load an image and a segmentation mask into variables called image and label\n",
    "\n"
   ]
  },
  {
   "cell_type": "code",
   "execution_count": 4,
   "metadata": {},
   "outputs": [],
   "source": [
    "path = r\"/data/TrainingSet/images\"\n",
    "image = np.array([[(os.path.join(dp, f), nib.load(os.path.join(dp, f))) for f in files]\n",
    "                   for dp,_,files in os.walk(path) if len(files) != 0])"
   ]
  },
  {
   "cell_type": "code",
   "execution_count": 5,
   "metadata": {},
   "outputs": [
    {
     "data": {
      "text/plain": [
       "array([[['/data/TrainingSet/images/hippocampus_376.nii.gz',\n",
       "         <nibabel.nifti1.Nifti1Image object at 0x7fde3c1d19a0>],\n",
       "        ['/data/TrainingSet/images/hippocampus_165.nii.gz',\n",
       "         <nibabel.nifti1.Nifti1Image object at 0x7fde3c1d1cd0>],\n",
       "        ['/data/TrainingSet/images/hippocampus_286.nii.gz',\n",
       "         <nibabel.nifti1.Nifti1Image object at 0x7fde3c1d1ee0>],\n",
       "        ['/data/TrainingSet/images/hippocampus_152.nii.gz',\n",
       "         <nibabel.nifti1.Nifti1Image object at 0x7fddf222a1c0>],\n",
       "        ['/data/TrainingSet/images/hippocampus_176.nii.gz',\n",
       "         <nibabel.nifti1.Nifti1Image object at 0x7fddf222a0a0>],\n",
       "        ['/data/TrainingSet/images/hippocampus_096.nii.gz',\n",
       "         <nibabel.nifti1.Nifti1Image object at 0x7fddf222a490>],\n",
       "        ['/data/TrainingSet/images/hippocampus_068.nii.gz',\n",
       "         <nibabel.nifti1.Nifti1Image object at 0x7fddf222a580>],\n",
       "        ['/data/TrainingSet/images/hippocampus_289.nii.gz',\n",
       "         <nibabel.nifti1.Nifti1Image object at 0x7fddf222afd0>],\n",
       "        ['/data/TrainingSet/images/hippocampus_260.nii.gz',\n",
       "         <nibabel.nifti1.Nifti1Image object at 0x7fddf222c1c0>],\n",
       "        ['/data/TrainingSet/images/hippocampus_171.nii.gz',\n",
       "         <nibabel.nifti1.Nifti1Image object at 0x7fddf222c100>],\n",
       "        ['/data/TrainingSet/images/hippocampus_296.nii.gz',\n",
       "         <nibabel.nifti1.Nifti1Image object at 0x7fddf222c370>],\n",
       "        ['/data/TrainingSet/images/hippocampus_142.nii.gz',\n",
       "         <nibabel.nifti1.Nifti1Image object at 0x7fddf222c4c0>],\n",
       "        ['/data/TrainingSet/images/hippocampus_375.nii.gz',\n",
       "         <nibabel.nifti1.Nifti1Image object at 0x7fddf222ce80>],\n",
       "        ['/data/TrainingSet/images/hippocampus_097.nii.gz',\n",
       "         <nibabel.nifti1.Nifti1Image object at 0x7fddf222e280>],\n",
       "        ['/data/TrainingSet/images/hippocampus_064.nii.gz',\n",
       "         <nibabel.nifti1.Nifti1Image object at 0x7fddf222c070>],\n",
       "        ['/data/TrainingSet/images/hippocampus_108.nii.gz',\n",
       "         <nibabel.nifti1.Nifti1Image object at 0x7fde3c1d18b0>],\n",
       "        ['/data/TrainingSet/images/hippocampus_070.nii.gz',\n",
       "         <nibabel.nifti1.Nifti1Image object at 0x7fddf222a4c0>],\n",
       "        ['/data/TrainingSet/images/hippocampus_329.nii.gz',\n",
       "         <nibabel.nifti1.Nifti1Image object at 0x7fddf222e070>],\n",
       "        ['/data/TrainingSet/images/hippocampus_107.nii.gz',\n",
       "         <nibabel.nifti1.Nifti1Image object at 0x7fddf222e5e0>],\n",
       "        ['/data/TrainingSet/images/hippocampus_090.nii.gz',\n",
       "         <nibabel.nifti1.Nifti1Image object at 0x7fddf222e250>],\n",
       "        ['/data/TrainingSet/images/hippocampus_092.nii.gz',\n",
       "         <nibabel.nifti1.Nifti1Image object at 0x7fddf222eac0>],\n",
       "        ['/data/TrainingSet/images/hippocampus_318.nii.gz',\n",
       "         <nibabel.nifti1.Nifti1Image object at 0x7fddf222f1f0>],\n",
       "        ['/data/TrainingSet/images/hippocampus_333.nii.gz',\n",
       "         <nibabel.nifti1.Nifti1Image object at 0x7fddf222f280>],\n",
       "        ['/data/TrainingSet/images/hippocampus_123.nii.gz',\n",
       "         <nibabel.nifti1.Nifti1Image object at 0x7fddf222f640>],\n",
       "        ['/data/TrainingSet/images/hippocampus_037.nii.gz',\n",
       "         <nibabel.nifti1.Nifti1Image object at 0x7fddf222f4f0>],\n",
       "        ['/data/TrainingSet/images/hippocampus_023.nii.gz',\n",
       "         <nibabel.nifti1.Nifti1Image object at 0x7fddf222ff70>],\n",
       "        ['/data/TrainingSet/images/hippocampus_330.nii.gz',\n",
       "         <nibabel.nifti1.Nifti1Image object at 0x7fde3c137280>],\n",
       "        ['/data/TrainingSet/images/hippocampus_374.nii.gz',\n",
       "         <nibabel.nifti1.Nifti1Image object at 0x7fde3c137070>],\n",
       "        ['/data/TrainingSet/images/hippocampus_380.nii.gz',\n",
       "         <nibabel.nifti1.Nifti1Image object at 0x7fde3c137370>],\n",
       "        ['/data/TrainingSet/images/hippocampus_056.nii.gz',\n",
       "         <nibabel.nifti1.Nifti1Image object at 0x7fde3c137220>],\n",
       "        ['/data/TrainingSet/images/hippocampus_040.nii.gz',\n",
       "         <nibabel.nifti1.Nifti1Image object at 0x7fde3c1376d0>],\n",
       "        ['/data/TrainingSet/images/hippocampus_127.nii.gz',\n",
       "         <nibabel.nifti1.Nifti1Image object at 0x7fde3c138310>],\n",
       "        ['/data/TrainingSet/images/hippocampus_163.nii.gz',\n",
       "         <nibabel.nifti1.Nifti1Image object at 0x7fde3c138070>],\n",
       "        ['/data/TrainingSet/images/hippocampus_146.nii.gz',\n",
       "         <nibabel.nifti1.Nifti1Image object at 0x7fde3c1385b0>],\n",
       "        ['/data/TrainingSet/images/hippocampus_050.nii.gz',\n",
       "         <nibabel.nifti1.Nifti1Image object at 0x7fde3c138130>],\n",
       "        ['/data/TrainingSet/images/hippocampus_279.nii.gz',\n",
       "         <nibabel.nifti1.Nifti1Image object at 0x7fde3c138e50>],\n",
       "        ['/data/TrainingSet/images/hippocampus_224.nii.gz',\n",
       "         <nibabel.nifti1.Nifti1Image object at 0x7fde3c13c1f0>],\n",
       "        ['/data/TrainingSet/images/hippocampus_301.nii.gz',\n",
       "         <nibabel.nifti1.Nifti1Image object at 0x7fde3c13c0d0>],\n",
       "        ['/data/TrainingSet/images/hippocampus_160.nii.gz',\n",
       "         <nibabel.nifti1.Nifti1Image object at 0x7fde3c13c460>],\n",
       "        ['/data/TrainingSet/images/hippocampus_352.nii.gz',\n",
       "         <nibabel.nifti1.Nifti1Image object at 0x7fde3c13c5e0>],\n",
       "        ['/data/TrainingSet/images/hippocampus_114.nii.gz',\n",
       "         <nibabel.nifti1.Nifti1Image object at 0x7fde3c13cf70>],\n",
       "        ['/data/TrainingSet/images/hippocampus_089.nii.gz',\n",
       "         <nibabel.nifti1.Nifti1Image object at 0x7fde3c13e400>],\n",
       "        ['/data/TrainingSet/images/hippocampus_205.nii.gz',\n",
       "         <nibabel.nifti1.Nifti1Image object at 0x7fde3c13c490>],\n",
       "        ['/data/TrainingSet/images/hippocampus_026.nii.gz',\n",
       "         <nibabel.nifti1.Nifti1Image object at 0x7fde3c138a00>],\n",
       "        ['/data/TrainingSet/images/hippocampus_225.nii.gz',\n",
       "         <nibabel.nifti1.Nifti1Image object at 0x7fde3c1383a0>],\n",
       "        ['/data/TrainingSet/images/hippocampus_295.nii.gz',\n",
       "         <nibabel.nifti1.Nifti1Image object at 0x7fddf222f340>],\n",
       "        ['/data/TrainingSet/images/hippocampus_045.nii.gz',\n",
       "         <nibabel.nifti1.Nifti1Image object at 0x7fddf222f0d0>],\n",
       "        ['/data/TrainingSet/images/hippocampus_390.nii.gz',\n",
       "         <nibabel.nifti1.Nifti1Image object at 0x7fddf222e100>],\n",
       "        ['/data/TrainingSet/images/hippocampus_075.nii.gz',\n",
       "         <nibabel.nifti1.Nifti1Image object at 0x7fde3c13e040>],\n",
       "        ['/data/TrainingSet/images/hippocampus_197.nii.gz',\n",
       "         <nibabel.nifti1.Nifti1Image object at 0x7fde3c13e760>],\n",
       "        ['/data/TrainingSet/images/hippocampus_087.nii.gz',\n",
       "         <nibabel.nifti1.Nifti1Image object at 0x7fde3c13e670>],\n",
       "        ['/data/TrainingSet/images/hippocampus_370.nii.gz',\n",
       "         <nibabel.nifti1.Nifti1Image object at 0x7fde3c13ec40>],\n",
       "        ['/data/TrainingSet/images/hippocampus_336.nii.gz',\n",
       "         <nibabel.nifti1.Nifti1Image object at 0x7fde3c143550>],\n",
       "        ['/data/TrainingSet/images/hippocampus_145.nii.gz',\n",
       "         <nibabel.nifti1.Nifti1Image object at 0x7fde3c143400>],\n",
       "        ['/data/TrainingSet/images/hippocampus_035.nii.gz',\n",
       "         <nibabel.nifti1.Nifti1Image object at 0x7fde3c143310>],\n",
       "        ['/data/TrainingSet/images/hippocampus_195.nii.gz',\n",
       "         <nibabel.nifti1.Nifti1Image object at 0x7fde3c143160>],\n",
       "        ['/data/TrainingSet/images/hippocampus_385.nii.gz',\n",
       "         <nibabel.nifti1.Nifti1Image object at 0x7fde3c143eb0>],\n",
       "        ['/data/TrainingSet/images/hippocampus_189.nii.gz',\n",
       "         <nibabel.nifti1.Nifti1Image object at 0x7fde3c1450a0>],\n",
       "        ['/data/TrainingSet/images/hippocampus_060.nii.gz',\n",
       "         <nibabel.nifti1.Nifti1Image object at 0x7fde3c145730>],\n",
       "        ['/data/TrainingSet/images/hippocampus_132.nii.gz',\n",
       "         <nibabel.nifti1.Nifti1Image object at 0x7fde3c1455e0>],\n",
       "        ['/data/TrainingSet/images/hippocampus_361.nii.gz',\n",
       "         <nibabel.nifti1.Nifti1Image object at 0x7fde3c145040>],\n",
       "        ['/data/TrainingSet/images/hippocampus_174.nii.gz',\n",
       "         <nibabel.nifti1.Nifti1Image object at 0x7fde3c145820>],\n",
       "        ['/data/TrainingSet/images/hippocampus_150.nii.gz',\n",
       "         <nibabel.nifti1.Nifti1Image object at 0x7fde3c147100>],\n",
       "        ['/data/TrainingSet/images/hippocampus_094.nii.gz',\n",
       "         <nibabel.nifti1.Nifti1Image object at 0x7fde3c147520>],\n",
       "        ['/data/TrainingSet/images/hippocampus_316.nii.gz',\n",
       "         <nibabel.nifti1.Nifti1Image object at 0x7fde3c147460>],\n",
       "        ['/data/TrainingSet/images/hippocampus_345.nii.gz',\n",
       "         <nibabel.nifti1.Nifti1Image object at 0x7fde3c147370>],\n",
       "        ['/data/TrainingSet/images/hippocampus_308.nii.gz',\n",
       "         <nibabel.nifti1.Nifti1Image object at 0x7fde3c147970>],\n",
       "        ['/data/TrainingSet/images/hippocampus_250.nii.gz',\n",
       "         <nibabel.nifti1.Nifti1Image object at 0x7fde3c149070>],\n",
       "        ['/data/TrainingSet/images/hippocampus_245.nii.gz',\n",
       "         <nibabel.nifti1.Nifti1Image object at 0x7fde3c149520>],\n",
       "        ['/data/TrainingSet/images/hippocampus_105.nii.gz',\n",
       "         <nibabel.nifti1.Nifti1Image object at 0x7fde3c1496d0>],\n",
       "        ['/data/TrainingSet/images/hippocampus_039.nii.gz',\n",
       "         <nibabel.nifti1.Nifti1Image object at 0x7fde3c147250>],\n",
       "        ['/data/TrainingSet/images/hippocampus_372.nii.gz',\n",
       "         <nibabel.nifti1.Nifti1Image object at 0x7fde3c145460>],\n",
       "        ['/data/TrainingSet/images/hippocampus_003.nii.gz',\n",
       "         <nibabel.nifti1.Nifti1Image object at 0x7fde3c145d90>],\n",
       "        ['/data/TrainingSet/images/hippocampus_259.nii.gz',\n",
       "         <nibabel.nifti1.Nifti1Image object at 0x7fde3c1436a0>],\n",
       "        ['/data/TrainingSet/images/hippocampus_340.nii.gz',\n",
       "         <nibabel.nifti1.Nifti1Image object at 0x7fddf222fcd0>],\n",
       "        ['/data/TrainingSet/images/hippocampus_219.nii.gz',\n",
       "         <nibabel.nifti1.Nifti1Image object at 0x7fde3c13e0a0>],\n",
       "        ['/data/TrainingSet/images/hippocampus_302.nii.gz',\n",
       "         <nibabel.nifti1.Nifti1Image object at 0x7fde3c149610>],\n",
       "        ['/data/TrainingSet/images/hippocampus_366.nii.gz',\n",
       "         <nibabel.nifti1.Nifti1Image object at 0x7fde3c149190>],\n",
       "        ['/data/TrainingSet/images/hippocampus_025.nii.gz',\n",
       "         <nibabel.nifti1.Nifti1Image object at 0x7fde3c149e50>],\n",
       "        ['/data/TrainingSet/images/hippocampus_019.nii.gz',\n",
       "         <nibabel.nifti1.Nifti1Image object at 0x7fde3c1502e0>],\n",
       "        ['/data/TrainingSet/images/hippocampus_109.nii.gz',\n",
       "         <nibabel.nifti1.Nifti1Image object at 0x7fde3c150100>],\n",
       "        ['/data/TrainingSet/images/hippocampus_299.nii.gz',\n",
       "         <nibabel.nifti1.Nifti1Image object at 0x7fde3c150430>],\n",
       "        ['/data/TrainingSet/images/hippocampus_155.nii.gz',\n",
       "         <nibabel.nifti1.Nifti1Image object at 0x7fde3c150610>],\n",
       "        ['/data/TrainingSet/images/hippocampus_381.nii.gz',\n",
       "         <nibabel.nifti1.Nifti1Image object at 0x7fde3c150af0>],\n",
       "        ['/data/TrainingSet/images/hippocampus_057.nii.gz',\n",
       "         <nibabel.nifti1.Nifti1Image object at 0x7fde3c152250>],\n",
       "        ['/data/TrainingSet/images/hippocampus_294.nii.gz',\n",
       "         <nibabel.nifti1.Nifti1Image object at 0x7fde3c152040>],\n",
       "        ['/data/TrainingSet/images/hippocampus_033.nii.gz',\n",
       "         <nibabel.nifti1.Nifti1Image object at 0x7fde3c152070>],\n",
       "        ['/data/TrainingSet/images/hippocampus_373.nii.gz',\n",
       "         <nibabel.nifti1.Nifti1Image object at 0x7fde3c152610>],\n",
       "        ['/data/TrainingSet/images/hippocampus_232.nii.gz',\n",
       "         <nibabel.nifti1.Nifti1Image object at 0x7fde3c152310>],\n",
       "        ['/data/TrainingSet/images/hippocampus_166.nii.gz',\n",
       "         <nibabel.nifti1.Nifti1Image object at 0x7fde3c1533a0>],\n",
       "        ['/data/TrainingSet/images/hippocampus_305.nii.gz',\n",
       "         <nibabel.nifti1.Nifti1Image object at 0x7fde3c153100>],\n",
       "        ['/data/TrainingSet/images/hippocampus_233.nii.gz',\n",
       "         <nibabel.nifti1.Nifti1Image object at 0x7fde3c153130>],\n",
       "        ['/data/TrainingSet/images/hippocampus_249.nii.gz',\n",
       "         <nibabel.nifti1.Nifti1Image object at 0x7fde3c153640>],\n",
       "        ['/data/TrainingSet/images/hippocampus_203.nii.gz',\n",
       "         <nibabel.nifti1.Nifti1Image object at 0x7fde3c153ac0>],\n",
       "        ['/data/TrainingSet/images/hippocampus_393.nii.gz',\n",
       "         <nibabel.nifti1.Nifti1Image object at 0x7fde3c1562b0>],\n",
       "        ['/data/TrainingSet/images/hippocampus_251.nii.gz',\n",
       "         <nibabel.nifti1.Nifti1Image object at 0x7fde3c1560d0>],\n",
       "        ['/data/TrainingSet/images/hippocampus_341.nii.gz',\n",
       "         <nibabel.nifti1.Nifti1Image object at 0x7fde3c156130>],\n",
       "        ['/data/TrainingSet/images/hippocampus_287.nii.gz',\n",
       "         <nibabel.nifti1.Nifti1Image object at 0x7fde3c156e50>],\n",
       "        ['/data/TrainingSet/images/hippocampus_126.nii.gz',\n",
       "         <nibabel.nifti1.Nifti1Image object at 0x7fde3c156dc0>],\n",
       "        ['/data/TrainingSet/images/hippocampus_130.nii.gz',\n",
       "         <nibabel.nifti1.Nifti1Image object at 0x7fde3c156430>],\n",
       "        ['/data/TrainingSet/images/hippocampus_158.nii.gz',\n",
       "         <nibabel.nifti1.Nifti1Image object at 0x7fde3c1530d0>],\n",
       "        ['/data/TrainingSet/images/hippocampus_149.nii.gz',\n",
       "         <nibabel.nifti1.Nifti1Image object at 0x7fde3c152100>],\n",
       "        ['/data/TrainingSet/images/hippocampus_190.nii.gz',\n",
       "         <nibabel.nifti1.Nifti1Image object at 0x7fde3c150550>],\n",
       "        ['/data/TrainingSet/images/hippocampus_084.nii.gz',\n",
       "         <nibabel.nifti1.Nifti1Image object at 0x7fddf222e340>],\n",
       "        ['/data/TrainingSet/images/hippocampus_269.nii.gz',\n",
       "         <nibabel.nifti1.Nifti1Image object at 0x7fde3c143940>],\n",
       "        ['/data/TrainingSet/images/hippocampus_257.nii.gz',\n",
       "         <nibabel.nifti1.Nifti1Image object at 0x7fde3c15c1c0>],\n",
       "        ['/data/TrainingSet/images/hippocampus_067.nii.gz',\n",
       "         <nibabel.nifti1.Nifti1Image object at 0x7fde3c15c220>],\n",
       "        ['/data/TrainingSet/images/hippocampus_095.nii.gz',\n",
       "         <nibabel.nifti1.Nifti1Image object at 0x7fde3c15c7c0>],\n",
       "        ['/data/TrainingSet/images/hippocampus_298.nii.gz',\n",
       "         <nibabel.nifti1.Nifti1Image object at 0x7fde3c15c0d0>],\n",
       "        ['/data/TrainingSet/images/hippocampus_387.nii.gz',\n",
       "         <nibabel.nifti1.Nifti1Image object at 0x7fde3c15c910>],\n",
       "        ['/data/TrainingSet/images/hippocampus_252.nii.gz',\n",
       "         <nibabel.nifti1.Nifti1Image object at 0x7fde3c1621c0>],\n",
       "        ['/data/TrainingSet/images/hippocampus_106.nii.gz',\n",
       "         <nibabel.nifti1.Nifti1Image object at 0x7fde3c162070>],\n",
       "        ['/data/TrainingSet/images/hippocampus_004.nii.gz',\n",
       "         <nibabel.nifti1.Nifti1Image object at 0x7fde3c162400>],\n",
       "        ['/data/TrainingSet/images/hippocampus_235.nii.gz',\n",
       "         <nibabel.nifti1.Nifti1Image object at 0x7fde3c162580>],\n",
       "        ['/data/TrainingSet/images/hippocampus_378.nii.gz',\n",
       "         <nibabel.nifti1.Nifti1Image object at 0x7fde3c162b20>],\n",
       "        ['/data/TrainingSet/images/hippocampus_194.nii.gz',\n",
       "         <nibabel.nifti1.Nifti1Image object at 0x7fde3c163190>],\n",
       "        ['/data/TrainingSet/images/hippocampus_093.nii.gz',\n",
       "         <nibabel.nifti1.Nifti1Image object at 0x7fde3c1630a0>],\n",
       "        ['/data/TrainingSet/images/hippocampus_017.nii.gz',\n",
       "         <nibabel.nifti1.Nifti1Image object at 0x7fde3c163340>],\n",
       "        ['/data/TrainingSet/images/hippocampus_367.nii.gz',\n",
       "         <nibabel.nifti1.Nifti1Image object at 0x7fde3c163460>],\n",
       "        ['/data/TrainingSet/images/hippocampus_185.nii.gz',\n",
       "         <nibabel.nifti1.Nifti1Image object at 0x7fde3c163e20>],\n",
       "        ['/data/TrainingSet/images/hippocampus_321.nii.gz',\n",
       "         <nibabel.nifti1.Nifti1Image object at 0x7fde3c16b1c0>],\n",
       "        ['/data/TrainingSet/images/hippocampus_024.nii.gz',\n",
       "         <nibabel.nifti1.Nifti1Image object at 0x7fde3c16b040>],\n",
       "        ['/data/TrainingSet/images/hippocampus_041.nii.gz',\n",
       "         <nibabel.nifti1.Nifti1Image object at 0x7fde3c16b250>],\n",
       "        ['/data/TrainingSet/images/hippocampus_162.nii.gz',\n",
       "         <nibabel.nifti1.Nifti1Image object at 0x7fde3c16b490>],\n",
       "        ['/data/TrainingSet/images/hippocampus_138.nii.gz',\n",
       "         <nibabel.nifti1.Nifti1Image object at 0x7fde3c16be50>],\n",
       "        ['/data/TrainingSet/images/hippocampus_243.nii.gz',\n",
       "         <nibabel.nifti1.Nifti1Image object at 0x7fde3c16e1f0>],\n",
       "        ['/data/TrainingSet/images/hippocampus_338.nii.gz',\n",
       "         <nibabel.nifti1.Nifti1Image object at 0x7fde3c16b3a0>],\n",
       "        ['/data/TrainingSet/images/hippocampus_048.nii.gz',\n",
       "         <nibabel.nifti1.Nifti1Image object at 0x7fde3c163640>],\n",
       "        ['/data/TrainingSet/images/hippocampus_331.nii.gz',\n",
       "         <nibabel.nifti1.Nifti1Image object at 0x7fde3c163ca0>],\n",
       "        ['/data/TrainingSet/images/hippocampus_334.nii.gz',\n",
       "         <nibabel.nifti1.Nifti1Image object at 0x7fde3c1625b0>],\n",
       "        ['/data/TrainingSet/images/hippocampus_217.nii.gz',\n",
       "         <nibabel.nifti1.Nifti1Image object at 0x7fde3c152370>],\n",
       "        ['/data/TrainingSet/images/hippocampus_282.nii.gz',\n",
       "         <nibabel.nifti1.Nifti1Image object at 0x7fde3c15c550>],\n",
       "        ['/data/TrainingSet/images/hippocampus_228.nii.gz',\n",
       "         <nibabel.nifti1.Nifti1Image object at 0x7fde3c16e550>],\n",
       "        ['/data/TrainingSet/images/hippocampus_337.nii.gz',\n",
       "         <nibabel.nifti1.Nifti1Image object at 0x7fde3c16e640>],\n",
       "        ['/data/TrainingSet/images/hippocampus_368.nii.gz',\n",
       "         <nibabel.nifti1.Nifti1Image object at 0x7fde3c16e8e0>],\n",
       "        ['/data/TrainingSet/images/hippocampus_226.nii.gz',\n",
       "         <nibabel.nifti1.Nifti1Image object at 0x7fde3c16ef40>],\n",
       "        ['/data/TrainingSet/images/hippocampus_058.nii.gz',\n",
       "         <nibabel.nifti1.Nifti1Image object at 0x7fde3c173130>],\n",
       "        ['/data/TrainingSet/images/hippocampus_014.nii.gz',\n",
       "         <nibabel.nifti1.Nifti1Image object at 0x7fde3c173430>],\n",
       "        ['/data/TrainingSet/images/hippocampus_394.nii.gz',\n",
       "         <nibabel.nifti1.Nifti1Image object at 0x7fde3c173070>],\n",
       "        ['/data/TrainingSet/images/hippocampus_088.nii.gz',\n",
       "         <nibabel.nifti1.Nifti1Image object at 0x7fde3c173310>],\n",
       "        ['/data/TrainingSet/images/hippocampus_309.nii.gz',\n",
       "         <nibabel.nifti1.Nifti1Image object at 0x7fde3c173e20>],\n",
       "        ['/data/TrainingSet/images/hippocampus_091.nii.gz',\n",
       "         <nibabel.nifti1.Nifti1Image object at 0x7fddf08ea040>],\n",
       "        ['/data/TrainingSet/images/hippocampus_036.nii.gz',\n",
       "         <nibabel.nifti1.Nifti1Image object at 0x7fddf08ea640>],\n",
       "        ['/data/TrainingSet/images/hippocampus_007.nii.gz',\n",
       "         <nibabel.nifti1.Nifti1Image object at 0x7fddf08ea520>],\n",
       "        ['/data/TrainingSet/images/hippocampus_288.nii.gz',\n",
       "         <nibabel.nifti1.Nifti1Image object at 0x7fddf08ea250>],\n",
       "        ['/data/TrainingSet/images/hippocampus_216.nii.gz',\n",
       "         <nibabel.nifti1.Nifti1Image object at 0x7fddf08eadf0>],\n",
       "        ['/data/TrainingSet/images/hippocampus_248.nii.gz',\n",
       "         <nibabel.nifti1.Nifti1Image object at 0x7fddf08c3160>],\n",
       "        ['/data/TrainingSet/images/hippocampus_227.nii.gz',\n",
       "         <nibabel.nifti1.Nifti1Image object at 0x7fddf08c3220>],\n",
       "        ['/data/TrainingSet/images/hippocampus_332.nii.gz',\n",
       "         <nibabel.nifti1.Nifti1Image object at 0x7fddf08c3580>],\n",
       "        ['/data/TrainingSet/images/hippocampus_099.nii.gz',\n",
       "         <nibabel.nifti1.Nifti1Image object at 0x7fddf08c35e0>],\n",
       "        ['/data/TrainingSet/images/hippocampus_234.nii.gz',\n",
       "         <nibabel.nifti1.Nifti1Image object at 0x7fddf08c3ca0>],\n",
       "        ['/data/TrainingSet/images/hippocampus_052.nii.gz',\n",
       "         <nibabel.nifti1.Nifti1Image object at 0x7fddf08c50d0>],\n",
       "        ['/data/TrainingSet/images/hippocampus_199.nii.gz',\n",
       "         <nibabel.nifti1.Nifti1Image object at 0x7fddf08c5190>],\n",
       "        ['/data/TrainingSet/images/hippocampus_169.nii.gz',\n",
       "         <nibabel.nifti1.Nifti1Image object at 0x7fddf08c5550>],\n",
       "        ['/data/TrainingSet/images/hippocampus_280.nii.gz',\n",
       "         <nibabel.nifti1.Nifti1Image object at 0x7fddf08c3400>],\n",
       "        ['/data/TrainingSet/images/hippocampus_020.nii.gz',\n",
       "         <nibabel.nifti1.Nifti1Image object at 0x7fddf08ea6d0>],\n",
       "        ['/data/TrainingSet/images/hippocampus_265.nii.gz',\n",
       "         <nibabel.nifti1.Nifti1Image object at 0x7fddf08ea850>],\n",
       "        ['/data/TrainingSet/images/hippocampus_135.nii.gz',\n",
       "         <nibabel.nifti1.Nifti1Image object at 0x7fde3c173d60>],\n",
       "        ['/data/TrainingSet/images/hippocampus_212.nii.gz',\n",
       "         <nibabel.nifti1.Nifti1Image object at 0x7fde3c15c820>],\n",
       "        ['/data/TrainingSet/images/hippocampus_175.nii.gz',\n",
       "         <nibabel.nifti1.Nifti1Image object at 0x7fde3c16e130>],\n",
       "        ['/data/TrainingSet/images/hippocampus_133.nii.gz',\n",
       "         <nibabel.nifti1.Nifti1Image object at 0x7fddf08c5520>],\n",
       "        ['/data/TrainingSet/images/hippocampus_006.nii.gz',\n",
       "         <nibabel.nifti1.Nifti1Image object at 0x7fddf08c54c0>],\n",
       "        ['/data/TrainingSet/images/hippocampus_015.nii.gz',\n",
       "         <nibabel.nifti1.Nifti1Image object at 0x7fddf08c5790>],\n",
       "        ['/data/TrainingSet/images/hippocampus_360.nii.gz',\n",
       "         <nibabel.nifti1.Nifti1Image object at 0x7fddf08dc3a0>],\n",
       "        ['/data/TrainingSet/images/hippocampus_322.nii.gz',\n",
       "         <nibabel.nifti1.Nifti1Image object at 0x7fddf08dc130>],\n",
       "        ['/data/TrainingSet/images/hippocampus_101.nii.gz',\n",
       "         <nibabel.nifti1.Nifti1Image object at 0x7fddf08dc1c0>],\n",
       "        ['/data/TrainingSet/images/hippocampus_144.nii.gz',\n",
       "         <nibabel.nifti1.Nifti1Image object at 0x7fddf08dcf10>],\n",
       "        ['/data/TrainingSet/images/hippocampus_311.nii.gz',\n",
       "         <nibabel.nifti1.Nifti1Image object at 0x7fddf08dcd00>],\n",
       "        ['/data/TrainingSet/images/hippocampus_238.nii.gz',\n",
       "         <nibabel.nifti1.Nifti1Image object at 0x7fddf08e83d0>],\n",
       "        ['/data/TrainingSet/images/hippocampus_001.nii.gz',\n",
       "         <nibabel.nifti1.Nifti1Image object at 0x7fddf08e8130>],\n",
       "        ['/data/TrainingSet/images/hippocampus_261.nii.gz',\n",
       "         <nibabel.nifti1.Nifti1Image object at 0x7fddf08e80a0>],\n",
       "        ['/data/TrainingSet/images/hippocampus_207.nii.gz',\n",
       "         <nibabel.nifti1.Nifti1Image object at 0x7fddf08e8fd0>],\n",
       "        ['/data/TrainingSet/images/hippocampus_184.nii.gz',\n",
       "         <nibabel.nifti1.Nifti1Image object at 0x7fddf08e3430>],\n",
       "        ['/data/TrainingSet/images/hippocampus_044.nii.gz',\n",
       "         <nibabel.nifti1.Nifti1Image object at 0x7fddf08e33a0>],\n",
       "        ['/data/TrainingSet/images/hippocampus_386.nii.gz',\n",
       "         <nibabel.nifti1.Nifti1Image object at 0x7fddf08e3190>],\n",
       "        ['/data/TrainingSet/images/hippocampus_290.nii.gz',\n",
       "         <nibabel.nifti1.Nifti1Image object at 0x7fddf08e30a0>],\n",
       "        ['/data/TrainingSet/images/hippocampus_310.nii.gz',\n",
       "         <nibabel.nifti1.Nifti1Image object at 0x7fddf08e3550>],\n",
       "        ['/data/TrainingSet/images/hippocampus_148.nii.gz',\n",
       "         <nibabel.nifti1.Nifti1Image object at 0x7fddf08df6a0>],\n",
       "        ['/data/TrainingSet/images/hippocampus_118.nii.gz',\n",
       "         <nibabel.nifti1.Nifti1Image object at 0x7fddf08df460>],\n",
       "        ['/data/TrainingSet/images/hippocampus_231.nii.gz',\n",
       "         <nibabel.nifti1.Nifti1Image object at 0x7fddf08df400>],\n",
       "        ['/data/TrainingSet/images/hippocampus_178.nii.gz',\n",
       "         <nibabel.nifti1.Nifti1Image object at 0x7fddf08df190>],\n",
       "        ['/data/TrainingSet/images/hippocampus_264.nii.gz',\n",
       "         <nibabel.nifti1.Nifti1Image object at 0x7fddf08dfd60>],\n",
       "        ['/data/TrainingSet/images/hippocampus_358.nii.gz',\n",
       "         <nibabel.nifti1.Nifti1Image object at 0x7fddf08dfa30>],\n",
       "        ['/data/TrainingSet/images/hippocampus_276.nii.gz',\n",
       "         <nibabel.nifti1.Nifti1Image object at 0x7fddf08df9a0>],\n",
       "        ['/data/TrainingSet/images/hippocampus_363.nii.gz',\n",
       "         <nibabel.nifti1.Nifti1Image object at 0x7fddf08e3d00>],\n",
       "        ['/data/TrainingSet/images/hippocampus_193.nii.gz',\n",
       "         <nibabel.nifti1.Nifti1Image object at 0x7fddf08e80d0>],\n",
       "        ['/data/TrainingSet/images/hippocampus_204.nii.gz',\n",
       "         <nibabel.nifti1.Nifti1Image object at 0x7fddf08dc490>],\n",
       "        ['/data/TrainingSet/images/hippocampus_389.nii.gz',\n",
       "         <nibabel.nifti1.Nifti1Image object at 0x7fde3c16eac0>],\n",
       "        ['/data/TrainingSet/images/hippocampus_343.nii.gz',\n",
       "         <nibabel.nifti1.Nifti1Image object at 0x7fddf08c5820>],\n",
       "        ['/data/TrainingSet/images/hippocampus_230.nii.gz',\n",
       "         <nibabel.nifti1.Nifti1Image object at 0x7fddf08db250>],\n",
       "        ['/data/TrainingSet/images/hippocampus_350.nii.gz',\n",
       "         <nibabel.nifti1.Nifti1Image object at 0x7fddf08db0d0>],\n",
       "        ['/data/TrainingSet/images/hippocampus_125.nii.gz',\n",
       "         <nibabel.nifti1.Nifti1Image object at 0x7fddf08db460>],\n",
       "        ['/data/TrainingSet/images/hippocampus_051.nii.gz',\n",
       "         <nibabel.nifti1.Nifti1Image object at 0x7fddf08db4f0>],\n",
       "        ['/data/TrainingSet/images/hippocampus_304.nii.gz',\n",
       "         <nibabel.nifti1.Nifti1Image object at 0x7fddf08dbf10>],\n",
       "        ['/data/TrainingSet/images/hippocampus_188.nii.gz',\n",
       "         <nibabel.nifti1.Nifti1Image object at 0x7fddf08d1280>],\n",
       "        ['/data/TrainingSet/images/hippocampus_143.nii.gz',\n",
       "         <nibabel.nifti1.Nifti1Image object at 0x7fddf08d10d0>],\n",
       "        ['/data/TrainingSet/images/hippocampus_353.nii.gz',\n",
       "         <nibabel.nifti1.Nifti1Image object at 0x7fddf08d1400>],\n",
       "        ['/data/TrainingSet/images/hippocampus_065.nii.gz',\n",
       "         <nibabel.nifti1.Nifti1Image object at 0x7fddf08d15e0>],\n",
       "        ['/data/TrainingSet/images/hippocampus_104.nii.gz',\n",
       "         <nibabel.nifti1.Nifti1Image object at 0x7fddf08d1c70>],\n",
       "        ['/data/TrainingSet/images/hippocampus_351.nii.gz',\n",
       "         <nibabel.nifti1.Nifti1Image object at 0x7fddf08d0220>],\n",
       "        ['/data/TrainingSet/images/hippocampus_008.nii.gz',\n",
       "         <nibabel.nifti1.Nifti1Image object at 0x7fddf08d00a0>],\n",
       "        ['/data/TrainingSet/images/hippocampus_281.nii.gz',\n",
       "         <nibabel.nifti1.Nifti1Image object at 0x7fddf08d02e0>],\n",
       "        ['/data/TrainingSet/images/hippocampus_317.nii.gz',\n",
       "         <nibabel.nifti1.Nifti1Image object at 0x7fddf08d0550>],\n",
       "        ['/data/TrainingSet/images/hippocampus_236.nii.gz',\n",
       "         <nibabel.nifti1.Nifti1Image object at 0x7fddf08d0820>],\n",
       "        ['/data/TrainingSet/images/hippocampus_170.nii.gz',\n",
       "         <nibabel.nifti1.Nifti1Image object at 0x7fddf08c2280>],\n",
       "        ['/data/TrainingSet/images/hippocampus_077.nii.gz',\n",
       "         <nibabel.nifti1.Nifti1Image object at 0x7fddf08c21f0>],\n",
       "        ['/data/TrainingSet/images/hippocampus_173.nii.gz',\n",
       "         <nibabel.nifti1.Nifti1Image object at 0x7fddf08c2070>],\n",
       "        ['/data/TrainingSet/images/hippocampus_049.nii.gz',\n",
       "         <nibabel.nifti1.Nifti1Image object at 0x7fddf08c2640>],\n",
       "        ['/data/TrainingSet/images/hippocampus_292.nii.gz',\n",
       "         <nibabel.nifti1.Nifti1Image object at 0x7fddf08c2910>],\n",
       "        ['/data/TrainingSet/images/hippocampus_229.nii.gz',\n",
       "         <nibabel.nifti1.Nifti1Image object at 0x7fddf08b42b0>],\n",
       "        ['/data/TrainingSet/images/hippocampus_335.nii.gz',\n",
       "         <nibabel.nifti1.Nifti1Image object at 0x7fddf08c2160>],\n",
       "        ['/data/TrainingSet/images/hippocampus_253.nii.gz',\n",
       "         <nibabel.nifti1.Nifti1Image object at 0x7fddf08d0640>],\n",
       "        ['/data/TrainingSet/images/hippocampus_263.nii.gz',\n",
       "         <nibabel.nifti1.Nifti1Image object at 0x7fddf08d13a0>],\n",
       "        ['/data/TrainingSet/images/hippocampus_314.nii.gz',\n",
       "         <nibabel.nifti1.Nifti1Image object at 0x7fddf08d1550>],\n",
       "        ['/data/TrainingSet/images/hippocampus_355.nii.gz',\n",
       "         <nibabel.nifti1.Nifti1Image object at 0x7fddf08e81f0>],\n",
       "        ['/data/TrainingSet/images/hippocampus_221.nii.gz',\n",
       "         <nibabel.nifti1.Nifti1Image object at 0x7fddf08db820>],\n",
       "        ['/data/TrainingSet/images/hippocampus_320.nii.gz',\n",
       "         <nibabel.nifti1.Nifti1Image object at 0x7fddf08b44f0>],\n",
       "        ['/data/TrainingSet/images/hippocampus_011.nii.gz',\n",
       "         <nibabel.nifti1.Nifti1Image object at 0x7fddf08b49d0>],\n",
       "        ['/data/TrainingSet/images/hippocampus_098.nii.gz',\n",
       "         <nibabel.nifti1.Nifti1Image object at 0x7fddf08b48b0>],\n",
       "        ['/data/TrainingSet/images/hippocampus_161.nii.gz',\n",
       "         <nibabel.nifti1.Nifti1Image object at 0x7fddf08b4f10>],\n",
       "        ['/data/TrainingSet/images/hippocampus_102.nii.gz',\n",
       "         <nibabel.nifti1.Nifti1Image object at 0x7fddf08d90a0>],\n",
       "        ['/data/TrainingSet/images/hippocampus_154.nii.gz',\n",
       "         <nibabel.nifti1.Nifti1Image object at 0x7fddf08d9490>],\n",
       "        ['/data/TrainingSet/images/hippocampus_157.nii.gz',\n",
       "         <nibabel.nifti1.Nifti1Image object at 0x7fddf08d9310>],\n",
       "        ['/data/TrainingSet/images/hippocampus_274.nii.gz',\n",
       "         <nibabel.nifti1.Nifti1Image object at 0x7fddf08d9250>],\n",
       "        ['/data/TrainingSet/images/hippocampus_327.nii.gz',\n",
       "         <nibabel.nifti1.Nifti1Image object at 0x7fddf08d9f40>],\n",
       "        ['/data/TrainingSet/images/hippocampus_297.nii.gz',\n",
       "         <nibabel.nifti1.Nifti1Image object at 0x7fddf08cd190>],\n",
       "        ['/data/TrainingSet/images/hippocampus_215.nii.gz',\n",
       "         <nibabel.nifti1.Nifti1Image object at 0x7fddf08cd4f0>],\n",
       "        ['/data/TrainingSet/images/hippocampus_074.nii.gz',\n",
       "         <nibabel.nifti1.Nifti1Image object at 0x7fddf08cd430>],\n",
       "        ['/data/TrainingSet/images/hippocampus_242.nii.gz',\n",
       "         <nibabel.nifti1.Nifti1Image object at 0x7fddf08cd340>],\n",
       "        ['/data/TrainingSet/images/hippocampus_319.nii.gz',\n",
       "         <nibabel.nifti1.Nifti1Image object at 0x7fddf08cdca0>],\n",
       "        ['/data/TrainingSet/images/hippocampus_046.nii.gz',\n",
       "         <nibabel.nifti1.Nifti1Image object at 0x7fddf20b1070>],\n",
       "        ['/data/TrainingSet/images/hippocampus_034.nii.gz',\n",
       "         <nibabel.nifti1.Nifti1Image object at 0x7fddf20b14f0>],\n",
       "        ['/data/TrainingSet/images/hippocampus_223.nii.gz',\n",
       "         <nibabel.nifti1.Nifti1Image object at 0x7fddf20b1400>],\n",
       "        ['/data/TrainingSet/images/hippocampus_328.nii.gz',\n",
       "         <nibabel.nifti1.Nifti1Image object at 0x7fddf20b1250>],\n",
       "        ['/data/TrainingSet/images/hippocampus_038.nii.gz',\n",
       "         <nibabel.nifti1.Nifti1Image object at 0x7fddf20b1cd0>],\n",
       "        ['/data/TrainingSet/images/hippocampus_180.nii.gz',\n",
       "         <nibabel.nifti1.Nifti1Image object at 0x7fddf20b6070>],\n",
       "        ['/data/TrainingSet/images/hippocampus_220.nii.gz',\n",
       "         <nibabel.nifti1.Nifti1Image object at 0x7fddf20b6160>],\n",
       "        ['/data/TrainingSet/images/hippocampus_383.nii.gz',\n",
       "         <nibabel.nifti1.Nifti1Image object at 0x7fddf20b6490>],\n",
       "        ['/data/TrainingSet/images/hippocampus_244.nii.gz',\n",
       "         <nibabel.nifti1.Nifti1Image object at 0x7fddf20b1370>],\n",
       "        ['/data/TrainingSet/images/hippocampus_277.nii.gz',\n",
       "         <nibabel.nifti1.Nifti1Image object at 0x7fddf08cd5e0>],\n",
       "        ['/data/TrainingSet/images/hippocampus_083.nii.gz',\n",
       "         <nibabel.nifti1.Nifti1Image object at 0x7fddf08cd370>],\n",
       "        ['/data/TrainingSet/images/hippocampus_010.nii.gz',\n",
       "         <nibabel.nifti1.Nifti1Image object at 0x7fddf08b4a90>],\n",
       "        ['/data/TrainingSet/images/hippocampus_042.nii.gz',\n",
       "         <nibabel.nifti1.Nifti1Image object at 0x7fddf08d9550>],\n",
       "        ['/data/TrainingSet/images/hippocampus_349.nii.gz',\n",
       "         <nibabel.nifti1.Nifti1Image object at 0x7fddf08d1a90>],\n",
       "        ['/data/TrainingSet/images/hippocampus_300.nii.gz',\n",
       "         <nibabel.nifti1.Nifti1Image object at 0x7fddf20b6400>],\n",
       "        ['/data/TrainingSet/images/hippocampus_164.nii.gz',\n",
       "         <nibabel.nifti1.Nifti1Image object at 0x7fddf20b6be0>],\n",
       "        ['/data/TrainingSet/images/hippocampus_303.nii.gz',\n",
       "         <nibabel.nifti1.Nifti1Image object at 0x7fddf20b66a0>],\n",
       "        ['/data/TrainingSet/images/hippocampus_326.nii.gz',\n",
       "         <nibabel.nifti1.Nifti1Image object at 0x7fddf20bb2e0>],\n",
       "        ['/data/TrainingSet/images/hippocampus_124.nii.gz',\n",
       "         <nibabel.nifti1.Nifti1Image object at 0x7fddf20bb070>],\n",
       "        ['/data/TrainingSet/images/hippocampus_268.nii.gz',\n",
       "         <nibabel.nifti1.Nifti1Image object at 0x7fddf20bb0a0>],\n",
       "        ['/data/TrainingSet/images/hippocampus_222.nii.gz',\n",
       "         <nibabel.nifti1.Nifti1Image object at 0x7fddf20bb5e0>],\n",
       "        ['/data/TrainingSet/images/hippocampus_053.nii.gz',\n",
       "         <nibabel.nifti1.Nifti1Image object at 0x7fddf20bb9a0>],\n",
       "        ['/data/TrainingSet/images/hippocampus_172.nii.gz',\n",
       "         <nibabel.nifti1.Nifti1Image object at 0x7fddf20bf340>],\n",
       "        ['/data/TrainingSet/images/hippocampus_156.nii.gz',\n",
       "         <nibabel.nifti1.Nifti1Image object at 0x7fddf20bf130>],\n",
       "        ['/data/TrainingSet/images/hippocampus_136.nii.gz',\n",
       "         <nibabel.nifti1.Nifti1Image object at 0x7fddf20bf190>],\n",
       "        ['/data/TrainingSet/images/hippocampus_177.nii.gz',\n",
       "         <nibabel.nifti1.Nifti1Image object at 0x7fddf20bfe50>],\n",
       "        ['/data/TrainingSet/images/hippocampus_181.nii.gz',\n",
       "         <nibabel.nifti1.Nifti1Image object at 0x7fddf20bfc40>],\n",
       "        ['/data/TrainingSet/images/hippocampus_354.nii.gz',\n",
       "         <nibabel.nifti1.Nifti1Image object at 0x7fddf20c1310>],\n",
       "        ['/data/TrainingSet/images/hippocampus_359.nii.gz',\n",
       "         <nibabel.nifti1.Nifti1Image object at 0x7fddf20c1100>],\n",
       "        ['/data/TrainingSet/images/hippocampus_141.nii.gz',\n",
       "         <nibabel.nifti1.Nifti1Image object at 0x7fddf20c1040>],\n",
       "        ['/data/TrainingSet/images/hippocampus_356.nii.gz',\n",
       "         <nibabel.nifti1.Nifti1Image object at 0x7fddf20c1f40>],\n",
       "        ['/data/TrainingSet/images/hippocampus_325.nii.gz',\n",
       "         <nibabel.nifti1.Nifti1Image object at 0x7fddf20c5520>],\n",
       "        ['/data/TrainingSet/images/hippocampus_210.nii.gz',\n",
       "         <nibabel.nifti1.Nifti1Image object at 0x7fddf20c53a0>]]],\n",
       "      dtype=object)"
      ]
     },
     "execution_count": 5,
     "metadata": {},
     "output_type": "execute_result"
    }
   ],
   "source": [
    "image"
   ]
  },
  {
   "cell_type": "code",
   "execution_count": 6,
   "metadata": {},
   "outputs": [
    {
     "data": {
      "text/plain": [
       "1"
      ]
     },
     "execution_count": 6,
     "metadata": {},
     "output_type": "execute_result"
    }
   ],
   "source": [
    "len(image)"
   ]
  },
  {
   "cell_type": "code",
   "execution_count": 7,
   "metadata": {},
   "outputs": [
    {
     "data": {
      "text/plain": [
       "array([['/data/TrainingSet/images/hippocampus_376.nii.gz',\n",
       "        <nibabel.nifti1.Nifti1Image object at 0x7fde3c1d19a0>],\n",
       "       ['/data/TrainingSet/images/hippocampus_165.nii.gz',\n",
       "        <nibabel.nifti1.Nifti1Image object at 0x7fde3c1d1cd0>],\n",
       "       ['/data/TrainingSet/images/hippocampus_286.nii.gz',\n",
       "        <nibabel.nifti1.Nifti1Image object at 0x7fde3c1d1ee0>],\n",
       "       ['/data/TrainingSet/images/hippocampus_152.nii.gz',\n",
       "        <nibabel.nifti1.Nifti1Image object at 0x7fddf222a1c0>],\n",
       "       ['/data/TrainingSet/images/hippocampus_176.nii.gz',\n",
       "        <nibabel.nifti1.Nifti1Image object at 0x7fddf222a0a0>],\n",
       "       ['/data/TrainingSet/images/hippocampus_096.nii.gz',\n",
       "        <nibabel.nifti1.Nifti1Image object at 0x7fddf222a490>],\n",
       "       ['/data/TrainingSet/images/hippocampus_068.nii.gz',\n",
       "        <nibabel.nifti1.Nifti1Image object at 0x7fddf222a580>],\n",
       "       ['/data/TrainingSet/images/hippocampus_289.nii.gz',\n",
       "        <nibabel.nifti1.Nifti1Image object at 0x7fddf222afd0>],\n",
       "       ['/data/TrainingSet/images/hippocampus_260.nii.gz',\n",
       "        <nibabel.nifti1.Nifti1Image object at 0x7fddf222c1c0>],\n",
       "       ['/data/TrainingSet/images/hippocampus_171.nii.gz',\n",
       "        <nibabel.nifti1.Nifti1Image object at 0x7fddf222c100>],\n",
       "       ['/data/TrainingSet/images/hippocampus_296.nii.gz',\n",
       "        <nibabel.nifti1.Nifti1Image object at 0x7fddf222c370>],\n",
       "       ['/data/TrainingSet/images/hippocampus_142.nii.gz',\n",
       "        <nibabel.nifti1.Nifti1Image object at 0x7fddf222c4c0>],\n",
       "       ['/data/TrainingSet/images/hippocampus_375.nii.gz',\n",
       "        <nibabel.nifti1.Nifti1Image object at 0x7fddf222ce80>],\n",
       "       ['/data/TrainingSet/images/hippocampus_097.nii.gz',\n",
       "        <nibabel.nifti1.Nifti1Image object at 0x7fddf222e280>],\n",
       "       ['/data/TrainingSet/images/hippocampus_064.nii.gz',\n",
       "        <nibabel.nifti1.Nifti1Image object at 0x7fddf222c070>],\n",
       "       ['/data/TrainingSet/images/hippocampus_108.nii.gz',\n",
       "        <nibabel.nifti1.Nifti1Image object at 0x7fde3c1d18b0>],\n",
       "       ['/data/TrainingSet/images/hippocampus_070.nii.gz',\n",
       "        <nibabel.nifti1.Nifti1Image object at 0x7fddf222a4c0>],\n",
       "       ['/data/TrainingSet/images/hippocampus_329.nii.gz',\n",
       "        <nibabel.nifti1.Nifti1Image object at 0x7fddf222e070>],\n",
       "       ['/data/TrainingSet/images/hippocampus_107.nii.gz',\n",
       "        <nibabel.nifti1.Nifti1Image object at 0x7fddf222e5e0>],\n",
       "       ['/data/TrainingSet/images/hippocampus_090.nii.gz',\n",
       "        <nibabel.nifti1.Nifti1Image object at 0x7fddf222e250>],\n",
       "       ['/data/TrainingSet/images/hippocampus_092.nii.gz',\n",
       "        <nibabel.nifti1.Nifti1Image object at 0x7fddf222eac0>],\n",
       "       ['/data/TrainingSet/images/hippocampus_318.nii.gz',\n",
       "        <nibabel.nifti1.Nifti1Image object at 0x7fddf222f1f0>],\n",
       "       ['/data/TrainingSet/images/hippocampus_333.nii.gz',\n",
       "        <nibabel.nifti1.Nifti1Image object at 0x7fddf222f280>],\n",
       "       ['/data/TrainingSet/images/hippocampus_123.nii.gz',\n",
       "        <nibabel.nifti1.Nifti1Image object at 0x7fddf222f640>],\n",
       "       ['/data/TrainingSet/images/hippocampus_037.nii.gz',\n",
       "        <nibabel.nifti1.Nifti1Image object at 0x7fddf222f4f0>],\n",
       "       ['/data/TrainingSet/images/hippocampus_023.nii.gz',\n",
       "        <nibabel.nifti1.Nifti1Image object at 0x7fddf222ff70>],\n",
       "       ['/data/TrainingSet/images/hippocampus_330.nii.gz',\n",
       "        <nibabel.nifti1.Nifti1Image object at 0x7fde3c137280>],\n",
       "       ['/data/TrainingSet/images/hippocampus_374.nii.gz',\n",
       "        <nibabel.nifti1.Nifti1Image object at 0x7fde3c137070>],\n",
       "       ['/data/TrainingSet/images/hippocampus_380.nii.gz',\n",
       "        <nibabel.nifti1.Nifti1Image object at 0x7fde3c137370>],\n",
       "       ['/data/TrainingSet/images/hippocampus_056.nii.gz',\n",
       "        <nibabel.nifti1.Nifti1Image object at 0x7fde3c137220>],\n",
       "       ['/data/TrainingSet/images/hippocampus_040.nii.gz',\n",
       "        <nibabel.nifti1.Nifti1Image object at 0x7fde3c1376d0>],\n",
       "       ['/data/TrainingSet/images/hippocampus_127.nii.gz',\n",
       "        <nibabel.nifti1.Nifti1Image object at 0x7fde3c138310>],\n",
       "       ['/data/TrainingSet/images/hippocampus_163.nii.gz',\n",
       "        <nibabel.nifti1.Nifti1Image object at 0x7fde3c138070>],\n",
       "       ['/data/TrainingSet/images/hippocampus_146.nii.gz',\n",
       "        <nibabel.nifti1.Nifti1Image object at 0x7fde3c1385b0>],\n",
       "       ['/data/TrainingSet/images/hippocampus_050.nii.gz',\n",
       "        <nibabel.nifti1.Nifti1Image object at 0x7fde3c138130>],\n",
       "       ['/data/TrainingSet/images/hippocampus_279.nii.gz',\n",
       "        <nibabel.nifti1.Nifti1Image object at 0x7fde3c138e50>],\n",
       "       ['/data/TrainingSet/images/hippocampus_224.nii.gz',\n",
       "        <nibabel.nifti1.Nifti1Image object at 0x7fde3c13c1f0>],\n",
       "       ['/data/TrainingSet/images/hippocampus_301.nii.gz',\n",
       "        <nibabel.nifti1.Nifti1Image object at 0x7fde3c13c0d0>],\n",
       "       ['/data/TrainingSet/images/hippocampus_160.nii.gz',\n",
       "        <nibabel.nifti1.Nifti1Image object at 0x7fde3c13c460>],\n",
       "       ['/data/TrainingSet/images/hippocampus_352.nii.gz',\n",
       "        <nibabel.nifti1.Nifti1Image object at 0x7fde3c13c5e0>],\n",
       "       ['/data/TrainingSet/images/hippocampus_114.nii.gz',\n",
       "        <nibabel.nifti1.Nifti1Image object at 0x7fde3c13cf70>],\n",
       "       ['/data/TrainingSet/images/hippocampus_089.nii.gz',\n",
       "        <nibabel.nifti1.Nifti1Image object at 0x7fde3c13e400>],\n",
       "       ['/data/TrainingSet/images/hippocampus_205.nii.gz',\n",
       "        <nibabel.nifti1.Nifti1Image object at 0x7fde3c13c490>],\n",
       "       ['/data/TrainingSet/images/hippocampus_026.nii.gz',\n",
       "        <nibabel.nifti1.Nifti1Image object at 0x7fde3c138a00>],\n",
       "       ['/data/TrainingSet/images/hippocampus_225.nii.gz',\n",
       "        <nibabel.nifti1.Nifti1Image object at 0x7fde3c1383a0>],\n",
       "       ['/data/TrainingSet/images/hippocampus_295.nii.gz',\n",
       "        <nibabel.nifti1.Nifti1Image object at 0x7fddf222f340>],\n",
       "       ['/data/TrainingSet/images/hippocampus_045.nii.gz',\n",
       "        <nibabel.nifti1.Nifti1Image object at 0x7fddf222f0d0>],\n",
       "       ['/data/TrainingSet/images/hippocampus_390.nii.gz',\n",
       "        <nibabel.nifti1.Nifti1Image object at 0x7fddf222e100>],\n",
       "       ['/data/TrainingSet/images/hippocampus_075.nii.gz',\n",
       "        <nibabel.nifti1.Nifti1Image object at 0x7fde3c13e040>],\n",
       "       ['/data/TrainingSet/images/hippocampus_197.nii.gz',\n",
       "        <nibabel.nifti1.Nifti1Image object at 0x7fde3c13e760>],\n",
       "       ['/data/TrainingSet/images/hippocampus_087.nii.gz',\n",
       "        <nibabel.nifti1.Nifti1Image object at 0x7fde3c13e670>],\n",
       "       ['/data/TrainingSet/images/hippocampus_370.nii.gz',\n",
       "        <nibabel.nifti1.Nifti1Image object at 0x7fde3c13ec40>],\n",
       "       ['/data/TrainingSet/images/hippocampus_336.nii.gz',\n",
       "        <nibabel.nifti1.Nifti1Image object at 0x7fde3c143550>],\n",
       "       ['/data/TrainingSet/images/hippocampus_145.nii.gz',\n",
       "        <nibabel.nifti1.Nifti1Image object at 0x7fde3c143400>],\n",
       "       ['/data/TrainingSet/images/hippocampus_035.nii.gz',\n",
       "        <nibabel.nifti1.Nifti1Image object at 0x7fde3c143310>],\n",
       "       ['/data/TrainingSet/images/hippocampus_195.nii.gz',\n",
       "        <nibabel.nifti1.Nifti1Image object at 0x7fde3c143160>],\n",
       "       ['/data/TrainingSet/images/hippocampus_385.nii.gz',\n",
       "        <nibabel.nifti1.Nifti1Image object at 0x7fde3c143eb0>],\n",
       "       ['/data/TrainingSet/images/hippocampus_189.nii.gz',\n",
       "        <nibabel.nifti1.Nifti1Image object at 0x7fde3c1450a0>],\n",
       "       ['/data/TrainingSet/images/hippocampus_060.nii.gz',\n",
       "        <nibabel.nifti1.Nifti1Image object at 0x7fde3c145730>],\n",
       "       ['/data/TrainingSet/images/hippocampus_132.nii.gz',\n",
       "        <nibabel.nifti1.Nifti1Image object at 0x7fde3c1455e0>],\n",
       "       ['/data/TrainingSet/images/hippocampus_361.nii.gz',\n",
       "        <nibabel.nifti1.Nifti1Image object at 0x7fde3c145040>],\n",
       "       ['/data/TrainingSet/images/hippocampus_174.nii.gz',\n",
       "        <nibabel.nifti1.Nifti1Image object at 0x7fde3c145820>],\n",
       "       ['/data/TrainingSet/images/hippocampus_150.nii.gz',\n",
       "        <nibabel.nifti1.Nifti1Image object at 0x7fde3c147100>],\n",
       "       ['/data/TrainingSet/images/hippocampus_094.nii.gz',\n",
       "        <nibabel.nifti1.Nifti1Image object at 0x7fde3c147520>],\n",
       "       ['/data/TrainingSet/images/hippocampus_316.nii.gz',\n",
       "        <nibabel.nifti1.Nifti1Image object at 0x7fde3c147460>],\n",
       "       ['/data/TrainingSet/images/hippocampus_345.nii.gz',\n",
       "        <nibabel.nifti1.Nifti1Image object at 0x7fde3c147370>],\n",
       "       ['/data/TrainingSet/images/hippocampus_308.nii.gz',\n",
       "        <nibabel.nifti1.Nifti1Image object at 0x7fde3c147970>],\n",
       "       ['/data/TrainingSet/images/hippocampus_250.nii.gz',\n",
       "        <nibabel.nifti1.Nifti1Image object at 0x7fde3c149070>],\n",
       "       ['/data/TrainingSet/images/hippocampus_245.nii.gz',\n",
       "        <nibabel.nifti1.Nifti1Image object at 0x7fde3c149520>],\n",
       "       ['/data/TrainingSet/images/hippocampus_105.nii.gz',\n",
       "        <nibabel.nifti1.Nifti1Image object at 0x7fde3c1496d0>],\n",
       "       ['/data/TrainingSet/images/hippocampus_039.nii.gz',\n",
       "        <nibabel.nifti1.Nifti1Image object at 0x7fde3c147250>],\n",
       "       ['/data/TrainingSet/images/hippocampus_372.nii.gz',\n",
       "        <nibabel.nifti1.Nifti1Image object at 0x7fde3c145460>],\n",
       "       ['/data/TrainingSet/images/hippocampus_003.nii.gz',\n",
       "        <nibabel.nifti1.Nifti1Image object at 0x7fde3c145d90>],\n",
       "       ['/data/TrainingSet/images/hippocampus_259.nii.gz',\n",
       "        <nibabel.nifti1.Nifti1Image object at 0x7fde3c1436a0>],\n",
       "       ['/data/TrainingSet/images/hippocampus_340.nii.gz',\n",
       "        <nibabel.nifti1.Nifti1Image object at 0x7fddf222fcd0>],\n",
       "       ['/data/TrainingSet/images/hippocampus_219.nii.gz',\n",
       "        <nibabel.nifti1.Nifti1Image object at 0x7fde3c13e0a0>],\n",
       "       ['/data/TrainingSet/images/hippocampus_302.nii.gz',\n",
       "        <nibabel.nifti1.Nifti1Image object at 0x7fde3c149610>],\n",
       "       ['/data/TrainingSet/images/hippocampus_366.nii.gz',\n",
       "        <nibabel.nifti1.Nifti1Image object at 0x7fde3c149190>],\n",
       "       ['/data/TrainingSet/images/hippocampus_025.nii.gz',\n",
       "        <nibabel.nifti1.Nifti1Image object at 0x7fde3c149e50>],\n",
       "       ['/data/TrainingSet/images/hippocampus_019.nii.gz',\n",
       "        <nibabel.nifti1.Nifti1Image object at 0x7fde3c1502e0>],\n",
       "       ['/data/TrainingSet/images/hippocampus_109.nii.gz',\n",
       "        <nibabel.nifti1.Nifti1Image object at 0x7fde3c150100>],\n",
       "       ['/data/TrainingSet/images/hippocampus_299.nii.gz',\n",
       "        <nibabel.nifti1.Nifti1Image object at 0x7fde3c150430>],\n",
       "       ['/data/TrainingSet/images/hippocampus_155.nii.gz',\n",
       "        <nibabel.nifti1.Nifti1Image object at 0x7fde3c150610>],\n",
       "       ['/data/TrainingSet/images/hippocampus_381.nii.gz',\n",
       "        <nibabel.nifti1.Nifti1Image object at 0x7fde3c150af0>],\n",
       "       ['/data/TrainingSet/images/hippocampus_057.nii.gz',\n",
       "        <nibabel.nifti1.Nifti1Image object at 0x7fde3c152250>],\n",
       "       ['/data/TrainingSet/images/hippocampus_294.nii.gz',\n",
       "        <nibabel.nifti1.Nifti1Image object at 0x7fde3c152040>],\n",
       "       ['/data/TrainingSet/images/hippocampus_033.nii.gz',\n",
       "        <nibabel.nifti1.Nifti1Image object at 0x7fde3c152070>],\n",
       "       ['/data/TrainingSet/images/hippocampus_373.nii.gz',\n",
       "        <nibabel.nifti1.Nifti1Image object at 0x7fde3c152610>],\n",
       "       ['/data/TrainingSet/images/hippocampus_232.nii.gz',\n",
       "        <nibabel.nifti1.Nifti1Image object at 0x7fde3c152310>],\n",
       "       ['/data/TrainingSet/images/hippocampus_166.nii.gz',\n",
       "        <nibabel.nifti1.Nifti1Image object at 0x7fde3c1533a0>],\n",
       "       ['/data/TrainingSet/images/hippocampus_305.nii.gz',\n",
       "        <nibabel.nifti1.Nifti1Image object at 0x7fde3c153100>],\n",
       "       ['/data/TrainingSet/images/hippocampus_233.nii.gz',\n",
       "        <nibabel.nifti1.Nifti1Image object at 0x7fde3c153130>],\n",
       "       ['/data/TrainingSet/images/hippocampus_249.nii.gz',\n",
       "        <nibabel.nifti1.Nifti1Image object at 0x7fde3c153640>],\n",
       "       ['/data/TrainingSet/images/hippocampus_203.nii.gz',\n",
       "        <nibabel.nifti1.Nifti1Image object at 0x7fde3c153ac0>],\n",
       "       ['/data/TrainingSet/images/hippocampus_393.nii.gz',\n",
       "        <nibabel.nifti1.Nifti1Image object at 0x7fde3c1562b0>],\n",
       "       ['/data/TrainingSet/images/hippocampus_251.nii.gz',\n",
       "        <nibabel.nifti1.Nifti1Image object at 0x7fde3c1560d0>],\n",
       "       ['/data/TrainingSet/images/hippocampus_341.nii.gz',\n",
       "        <nibabel.nifti1.Nifti1Image object at 0x7fde3c156130>],\n",
       "       ['/data/TrainingSet/images/hippocampus_287.nii.gz',\n",
       "        <nibabel.nifti1.Nifti1Image object at 0x7fde3c156e50>],\n",
       "       ['/data/TrainingSet/images/hippocampus_126.nii.gz',\n",
       "        <nibabel.nifti1.Nifti1Image object at 0x7fde3c156dc0>],\n",
       "       ['/data/TrainingSet/images/hippocampus_130.nii.gz',\n",
       "        <nibabel.nifti1.Nifti1Image object at 0x7fde3c156430>],\n",
       "       ['/data/TrainingSet/images/hippocampus_158.nii.gz',\n",
       "        <nibabel.nifti1.Nifti1Image object at 0x7fde3c1530d0>],\n",
       "       ['/data/TrainingSet/images/hippocampus_149.nii.gz',\n",
       "        <nibabel.nifti1.Nifti1Image object at 0x7fde3c152100>],\n",
       "       ['/data/TrainingSet/images/hippocampus_190.nii.gz',\n",
       "        <nibabel.nifti1.Nifti1Image object at 0x7fde3c150550>],\n",
       "       ['/data/TrainingSet/images/hippocampus_084.nii.gz',\n",
       "        <nibabel.nifti1.Nifti1Image object at 0x7fddf222e340>],\n",
       "       ['/data/TrainingSet/images/hippocampus_269.nii.gz',\n",
       "        <nibabel.nifti1.Nifti1Image object at 0x7fde3c143940>],\n",
       "       ['/data/TrainingSet/images/hippocampus_257.nii.gz',\n",
       "        <nibabel.nifti1.Nifti1Image object at 0x7fde3c15c1c0>],\n",
       "       ['/data/TrainingSet/images/hippocampus_067.nii.gz',\n",
       "        <nibabel.nifti1.Nifti1Image object at 0x7fde3c15c220>],\n",
       "       ['/data/TrainingSet/images/hippocampus_095.nii.gz',\n",
       "        <nibabel.nifti1.Nifti1Image object at 0x7fde3c15c7c0>],\n",
       "       ['/data/TrainingSet/images/hippocampus_298.nii.gz',\n",
       "        <nibabel.nifti1.Nifti1Image object at 0x7fde3c15c0d0>],\n",
       "       ['/data/TrainingSet/images/hippocampus_387.nii.gz',\n",
       "        <nibabel.nifti1.Nifti1Image object at 0x7fde3c15c910>],\n",
       "       ['/data/TrainingSet/images/hippocampus_252.nii.gz',\n",
       "        <nibabel.nifti1.Nifti1Image object at 0x7fde3c1621c0>],\n",
       "       ['/data/TrainingSet/images/hippocampus_106.nii.gz',\n",
       "        <nibabel.nifti1.Nifti1Image object at 0x7fde3c162070>],\n",
       "       ['/data/TrainingSet/images/hippocampus_004.nii.gz',\n",
       "        <nibabel.nifti1.Nifti1Image object at 0x7fde3c162400>],\n",
       "       ['/data/TrainingSet/images/hippocampus_235.nii.gz',\n",
       "        <nibabel.nifti1.Nifti1Image object at 0x7fde3c162580>],\n",
       "       ['/data/TrainingSet/images/hippocampus_378.nii.gz',\n",
       "        <nibabel.nifti1.Nifti1Image object at 0x7fde3c162b20>],\n",
       "       ['/data/TrainingSet/images/hippocampus_194.nii.gz',\n",
       "        <nibabel.nifti1.Nifti1Image object at 0x7fde3c163190>],\n",
       "       ['/data/TrainingSet/images/hippocampus_093.nii.gz',\n",
       "        <nibabel.nifti1.Nifti1Image object at 0x7fde3c1630a0>],\n",
       "       ['/data/TrainingSet/images/hippocampus_017.nii.gz',\n",
       "        <nibabel.nifti1.Nifti1Image object at 0x7fde3c163340>],\n",
       "       ['/data/TrainingSet/images/hippocampus_367.nii.gz',\n",
       "        <nibabel.nifti1.Nifti1Image object at 0x7fde3c163460>],\n",
       "       ['/data/TrainingSet/images/hippocampus_185.nii.gz',\n",
       "        <nibabel.nifti1.Nifti1Image object at 0x7fde3c163e20>],\n",
       "       ['/data/TrainingSet/images/hippocampus_321.nii.gz',\n",
       "        <nibabel.nifti1.Nifti1Image object at 0x7fde3c16b1c0>],\n",
       "       ['/data/TrainingSet/images/hippocampus_024.nii.gz',\n",
       "        <nibabel.nifti1.Nifti1Image object at 0x7fde3c16b040>],\n",
       "       ['/data/TrainingSet/images/hippocampus_041.nii.gz',\n",
       "        <nibabel.nifti1.Nifti1Image object at 0x7fde3c16b250>],\n",
       "       ['/data/TrainingSet/images/hippocampus_162.nii.gz',\n",
       "        <nibabel.nifti1.Nifti1Image object at 0x7fde3c16b490>],\n",
       "       ['/data/TrainingSet/images/hippocampus_138.nii.gz',\n",
       "        <nibabel.nifti1.Nifti1Image object at 0x7fde3c16be50>],\n",
       "       ['/data/TrainingSet/images/hippocampus_243.nii.gz',\n",
       "        <nibabel.nifti1.Nifti1Image object at 0x7fde3c16e1f0>],\n",
       "       ['/data/TrainingSet/images/hippocampus_338.nii.gz',\n",
       "        <nibabel.nifti1.Nifti1Image object at 0x7fde3c16b3a0>],\n",
       "       ['/data/TrainingSet/images/hippocampus_048.nii.gz',\n",
       "        <nibabel.nifti1.Nifti1Image object at 0x7fde3c163640>],\n",
       "       ['/data/TrainingSet/images/hippocampus_331.nii.gz',\n",
       "        <nibabel.nifti1.Nifti1Image object at 0x7fde3c163ca0>],\n",
       "       ['/data/TrainingSet/images/hippocampus_334.nii.gz',\n",
       "        <nibabel.nifti1.Nifti1Image object at 0x7fde3c1625b0>],\n",
       "       ['/data/TrainingSet/images/hippocampus_217.nii.gz',\n",
       "        <nibabel.nifti1.Nifti1Image object at 0x7fde3c152370>],\n",
       "       ['/data/TrainingSet/images/hippocampus_282.nii.gz',\n",
       "        <nibabel.nifti1.Nifti1Image object at 0x7fde3c15c550>],\n",
       "       ['/data/TrainingSet/images/hippocampus_228.nii.gz',\n",
       "        <nibabel.nifti1.Nifti1Image object at 0x7fde3c16e550>],\n",
       "       ['/data/TrainingSet/images/hippocampus_337.nii.gz',\n",
       "        <nibabel.nifti1.Nifti1Image object at 0x7fde3c16e640>],\n",
       "       ['/data/TrainingSet/images/hippocampus_368.nii.gz',\n",
       "        <nibabel.nifti1.Nifti1Image object at 0x7fde3c16e8e0>],\n",
       "       ['/data/TrainingSet/images/hippocampus_226.nii.gz',\n",
       "        <nibabel.nifti1.Nifti1Image object at 0x7fde3c16ef40>],\n",
       "       ['/data/TrainingSet/images/hippocampus_058.nii.gz',\n",
       "        <nibabel.nifti1.Nifti1Image object at 0x7fde3c173130>],\n",
       "       ['/data/TrainingSet/images/hippocampus_014.nii.gz',\n",
       "        <nibabel.nifti1.Nifti1Image object at 0x7fde3c173430>],\n",
       "       ['/data/TrainingSet/images/hippocampus_394.nii.gz',\n",
       "        <nibabel.nifti1.Nifti1Image object at 0x7fde3c173070>],\n",
       "       ['/data/TrainingSet/images/hippocampus_088.nii.gz',\n",
       "        <nibabel.nifti1.Nifti1Image object at 0x7fde3c173310>],\n",
       "       ['/data/TrainingSet/images/hippocampus_309.nii.gz',\n",
       "        <nibabel.nifti1.Nifti1Image object at 0x7fde3c173e20>],\n",
       "       ['/data/TrainingSet/images/hippocampus_091.nii.gz',\n",
       "        <nibabel.nifti1.Nifti1Image object at 0x7fddf08ea040>],\n",
       "       ['/data/TrainingSet/images/hippocampus_036.nii.gz',\n",
       "        <nibabel.nifti1.Nifti1Image object at 0x7fddf08ea640>],\n",
       "       ['/data/TrainingSet/images/hippocampus_007.nii.gz',\n",
       "        <nibabel.nifti1.Nifti1Image object at 0x7fddf08ea520>],\n",
       "       ['/data/TrainingSet/images/hippocampus_288.nii.gz',\n",
       "        <nibabel.nifti1.Nifti1Image object at 0x7fddf08ea250>],\n",
       "       ['/data/TrainingSet/images/hippocampus_216.nii.gz',\n",
       "        <nibabel.nifti1.Nifti1Image object at 0x7fddf08eadf0>],\n",
       "       ['/data/TrainingSet/images/hippocampus_248.nii.gz',\n",
       "        <nibabel.nifti1.Nifti1Image object at 0x7fddf08c3160>],\n",
       "       ['/data/TrainingSet/images/hippocampus_227.nii.gz',\n",
       "        <nibabel.nifti1.Nifti1Image object at 0x7fddf08c3220>],\n",
       "       ['/data/TrainingSet/images/hippocampus_332.nii.gz',\n",
       "        <nibabel.nifti1.Nifti1Image object at 0x7fddf08c3580>],\n",
       "       ['/data/TrainingSet/images/hippocampus_099.nii.gz',\n",
       "        <nibabel.nifti1.Nifti1Image object at 0x7fddf08c35e0>],\n",
       "       ['/data/TrainingSet/images/hippocampus_234.nii.gz',\n",
       "        <nibabel.nifti1.Nifti1Image object at 0x7fddf08c3ca0>],\n",
       "       ['/data/TrainingSet/images/hippocampus_052.nii.gz',\n",
       "        <nibabel.nifti1.Nifti1Image object at 0x7fddf08c50d0>],\n",
       "       ['/data/TrainingSet/images/hippocampus_199.nii.gz',\n",
       "        <nibabel.nifti1.Nifti1Image object at 0x7fddf08c5190>],\n",
       "       ['/data/TrainingSet/images/hippocampus_169.nii.gz',\n",
       "        <nibabel.nifti1.Nifti1Image object at 0x7fddf08c5550>],\n",
       "       ['/data/TrainingSet/images/hippocampus_280.nii.gz',\n",
       "        <nibabel.nifti1.Nifti1Image object at 0x7fddf08c3400>],\n",
       "       ['/data/TrainingSet/images/hippocampus_020.nii.gz',\n",
       "        <nibabel.nifti1.Nifti1Image object at 0x7fddf08ea6d0>],\n",
       "       ['/data/TrainingSet/images/hippocampus_265.nii.gz',\n",
       "        <nibabel.nifti1.Nifti1Image object at 0x7fddf08ea850>],\n",
       "       ['/data/TrainingSet/images/hippocampus_135.nii.gz',\n",
       "        <nibabel.nifti1.Nifti1Image object at 0x7fde3c173d60>],\n",
       "       ['/data/TrainingSet/images/hippocampus_212.nii.gz',\n",
       "        <nibabel.nifti1.Nifti1Image object at 0x7fde3c15c820>],\n",
       "       ['/data/TrainingSet/images/hippocampus_175.nii.gz',\n",
       "        <nibabel.nifti1.Nifti1Image object at 0x7fde3c16e130>],\n",
       "       ['/data/TrainingSet/images/hippocampus_133.nii.gz',\n",
       "        <nibabel.nifti1.Nifti1Image object at 0x7fddf08c5520>],\n",
       "       ['/data/TrainingSet/images/hippocampus_006.nii.gz',\n",
       "        <nibabel.nifti1.Nifti1Image object at 0x7fddf08c54c0>],\n",
       "       ['/data/TrainingSet/images/hippocampus_015.nii.gz',\n",
       "        <nibabel.nifti1.Nifti1Image object at 0x7fddf08c5790>],\n",
       "       ['/data/TrainingSet/images/hippocampus_360.nii.gz',\n",
       "        <nibabel.nifti1.Nifti1Image object at 0x7fddf08dc3a0>],\n",
       "       ['/data/TrainingSet/images/hippocampus_322.nii.gz',\n",
       "        <nibabel.nifti1.Nifti1Image object at 0x7fddf08dc130>],\n",
       "       ['/data/TrainingSet/images/hippocampus_101.nii.gz',\n",
       "        <nibabel.nifti1.Nifti1Image object at 0x7fddf08dc1c0>],\n",
       "       ['/data/TrainingSet/images/hippocampus_144.nii.gz',\n",
       "        <nibabel.nifti1.Nifti1Image object at 0x7fddf08dcf10>],\n",
       "       ['/data/TrainingSet/images/hippocampus_311.nii.gz',\n",
       "        <nibabel.nifti1.Nifti1Image object at 0x7fddf08dcd00>],\n",
       "       ['/data/TrainingSet/images/hippocampus_238.nii.gz',\n",
       "        <nibabel.nifti1.Nifti1Image object at 0x7fddf08e83d0>],\n",
       "       ['/data/TrainingSet/images/hippocampus_001.nii.gz',\n",
       "        <nibabel.nifti1.Nifti1Image object at 0x7fddf08e8130>],\n",
       "       ['/data/TrainingSet/images/hippocampus_261.nii.gz',\n",
       "        <nibabel.nifti1.Nifti1Image object at 0x7fddf08e80a0>],\n",
       "       ['/data/TrainingSet/images/hippocampus_207.nii.gz',\n",
       "        <nibabel.nifti1.Nifti1Image object at 0x7fddf08e8fd0>],\n",
       "       ['/data/TrainingSet/images/hippocampus_184.nii.gz',\n",
       "        <nibabel.nifti1.Nifti1Image object at 0x7fddf08e3430>],\n",
       "       ['/data/TrainingSet/images/hippocampus_044.nii.gz',\n",
       "        <nibabel.nifti1.Nifti1Image object at 0x7fddf08e33a0>],\n",
       "       ['/data/TrainingSet/images/hippocampus_386.nii.gz',\n",
       "        <nibabel.nifti1.Nifti1Image object at 0x7fddf08e3190>],\n",
       "       ['/data/TrainingSet/images/hippocampus_290.nii.gz',\n",
       "        <nibabel.nifti1.Nifti1Image object at 0x7fddf08e30a0>],\n",
       "       ['/data/TrainingSet/images/hippocampus_310.nii.gz',\n",
       "        <nibabel.nifti1.Nifti1Image object at 0x7fddf08e3550>],\n",
       "       ['/data/TrainingSet/images/hippocampus_148.nii.gz',\n",
       "        <nibabel.nifti1.Nifti1Image object at 0x7fddf08df6a0>],\n",
       "       ['/data/TrainingSet/images/hippocampus_118.nii.gz',\n",
       "        <nibabel.nifti1.Nifti1Image object at 0x7fddf08df460>],\n",
       "       ['/data/TrainingSet/images/hippocampus_231.nii.gz',\n",
       "        <nibabel.nifti1.Nifti1Image object at 0x7fddf08df400>],\n",
       "       ['/data/TrainingSet/images/hippocampus_178.nii.gz',\n",
       "        <nibabel.nifti1.Nifti1Image object at 0x7fddf08df190>],\n",
       "       ['/data/TrainingSet/images/hippocampus_264.nii.gz',\n",
       "        <nibabel.nifti1.Nifti1Image object at 0x7fddf08dfd60>],\n",
       "       ['/data/TrainingSet/images/hippocampus_358.nii.gz',\n",
       "        <nibabel.nifti1.Nifti1Image object at 0x7fddf08dfa30>],\n",
       "       ['/data/TrainingSet/images/hippocampus_276.nii.gz',\n",
       "        <nibabel.nifti1.Nifti1Image object at 0x7fddf08df9a0>],\n",
       "       ['/data/TrainingSet/images/hippocampus_363.nii.gz',\n",
       "        <nibabel.nifti1.Nifti1Image object at 0x7fddf08e3d00>],\n",
       "       ['/data/TrainingSet/images/hippocampus_193.nii.gz',\n",
       "        <nibabel.nifti1.Nifti1Image object at 0x7fddf08e80d0>],\n",
       "       ['/data/TrainingSet/images/hippocampus_204.nii.gz',\n",
       "        <nibabel.nifti1.Nifti1Image object at 0x7fddf08dc490>],\n",
       "       ['/data/TrainingSet/images/hippocampus_389.nii.gz',\n",
       "        <nibabel.nifti1.Nifti1Image object at 0x7fde3c16eac0>],\n",
       "       ['/data/TrainingSet/images/hippocampus_343.nii.gz',\n",
       "        <nibabel.nifti1.Nifti1Image object at 0x7fddf08c5820>],\n",
       "       ['/data/TrainingSet/images/hippocampus_230.nii.gz',\n",
       "        <nibabel.nifti1.Nifti1Image object at 0x7fddf08db250>],\n",
       "       ['/data/TrainingSet/images/hippocampus_350.nii.gz',\n",
       "        <nibabel.nifti1.Nifti1Image object at 0x7fddf08db0d0>],\n",
       "       ['/data/TrainingSet/images/hippocampus_125.nii.gz',\n",
       "        <nibabel.nifti1.Nifti1Image object at 0x7fddf08db460>],\n",
       "       ['/data/TrainingSet/images/hippocampus_051.nii.gz',\n",
       "        <nibabel.nifti1.Nifti1Image object at 0x7fddf08db4f0>],\n",
       "       ['/data/TrainingSet/images/hippocampus_304.nii.gz',\n",
       "        <nibabel.nifti1.Nifti1Image object at 0x7fddf08dbf10>],\n",
       "       ['/data/TrainingSet/images/hippocampus_188.nii.gz',\n",
       "        <nibabel.nifti1.Nifti1Image object at 0x7fddf08d1280>],\n",
       "       ['/data/TrainingSet/images/hippocampus_143.nii.gz',\n",
       "        <nibabel.nifti1.Nifti1Image object at 0x7fddf08d10d0>],\n",
       "       ['/data/TrainingSet/images/hippocampus_353.nii.gz',\n",
       "        <nibabel.nifti1.Nifti1Image object at 0x7fddf08d1400>],\n",
       "       ['/data/TrainingSet/images/hippocampus_065.nii.gz',\n",
       "        <nibabel.nifti1.Nifti1Image object at 0x7fddf08d15e0>],\n",
       "       ['/data/TrainingSet/images/hippocampus_104.nii.gz',\n",
       "        <nibabel.nifti1.Nifti1Image object at 0x7fddf08d1c70>],\n",
       "       ['/data/TrainingSet/images/hippocampus_351.nii.gz',\n",
       "        <nibabel.nifti1.Nifti1Image object at 0x7fddf08d0220>],\n",
       "       ['/data/TrainingSet/images/hippocampus_008.nii.gz',\n",
       "        <nibabel.nifti1.Nifti1Image object at 0x7fddf08d00a0>],\n",
       "       ['/data/TrainingSet/images/hippocampus_281.nii.gz',\n",
       "        <nibabel.nifti1.Nifti1Image object at 0x7fddf08d02e0>],\n",
       "       ['/data/TrainingSet/images/hippocampus_317.nii.gz',\n",
       "        <nibabel.nifti1.Nifti1Image object at 0x7fddf08d0550>],\n",
       "       ['/data/TrainingSet/images/hippocampus_236.nii.gz',\n",
       "        <nibabel.nifti1.Nifti1Image object at 0x7fddf08d0820>],\n",
       "       ['/data/TrainingSet/images/hippocampus_170.nii.gz',\n",
       "        <nibabel.nifti1.Nifti1Image object at 0x7fddf08c2280>],\n",
       "       ['/data/TrainingSet/images/hippocampus_077.nii.gz',\n",
       "        <nibabel.nifti1.Nifti1Image object at 0x7fddf08c21f0>],\n",
       "       ['/data/TrainingSet/images/hippocampus_173.nii.gz',\n",
       "        <nibabel.nifti1.Nifti1Image object at 0x7fddf08c2070>],\n",
       "       ['/data/TrainingSet/images/hippocampus_049.nii.gz',\n",
       "        <nibabel.nifti1.Nifti1Image object at 0x7fddf08c2640>],\n",
       "       ['/data/TrainingSet/images/hippocampus_292.nii.gz',\n",
       "        <nibabel.nifti1.Nifti1Image object at 0x7fddf08c2910>],\n",
       "       ['/data/TrainingSet/images/hippocampus_229.nii.gz',\n",
       "        <nibabel.nifti1.Nifti1Image object at 0x7fddf08b42b0>],\n",
       "       ['/data/TrainingSet/images/hippocampus_335.nii.gz',\n",
       "        <nibabel.nifti1.Nifti1Image object at 0x7fddf08c2160>],\n",
       "       ['/data/TrainingSet/images/hippocampus_253.nii.gz',\n",
       "        <nibabel.nifti1.Nifti1Image object at 0x7fddf08d0640>],\n",
       "       ['/data/TrainingSet/images/hippocampus_263.nii.gz',\n",
       "        <nibabel.nifti1.Nifti1Image object at 0x7fddf08d13a0>],\n",
       "       ['/data/TrainingSet/images/hippocampus_314.nii.gz',\n",
       "        <nibabel.nifti1.Nifti1Image object at 0x7fddf08d1550>],\n",
       "       ['/data/TrainingSet/images/hippocampus_355.nii.gz',\n",
       "        <nibabel.nifti1.Nifti1Image object at 0x7fddf08e81f0>],\n",
       "       ['/data/TrainingSet/images/hippocampus_221.nii.gz',\n",
       "        <nibabel.nifti1.Nifti1Image object at 0x7fddf08db820>],\n",
       "       ['/data/TrainingSet/images/hippocampus_320.nii.gz',\n",
       "        <nibabel.nifti1.Nifti1Image object at 0x7fddf08b44f0>],\n",
       "       ['/data/TrainingSet/images/hippocampus_011.nii.gz',\n",
       "        <nibabel.nifti1.Nifti1Image object at 0x7fddf08b49d0>],\n",
       "       ['/data/TrainingSet/images/hippocampus_098.nii.gz',\n",
       "        <nibabel.nifti1.Nifti1Image object at 0x7fddf08b48b0>],\n",
       "       ['/data/TrainingSet/images/hippocampus_161.nii.gz',\n",
       "        <nibabel.nifti1.Nifti1Image object at 0x7fddf08b4f10>],\n",
       "       ['/data/TrainingSet/images/hippocampus_102.nii.gz',\n",
       "        <nibabel.nifti1.Nifti1Image object at 0x7fddf08d90a0>],\n",
       "       ['/data/TrainingSet/images/hippocampus_154.nii.gz',\n",
       "        <nibabel.nifti1.Nifti1Image object at 0x7fddf08d9490>],\n",
       "       ['/data/TrainingSet/images/hippocampus_157.nii.gz',\n",
       "        <nibabel.nifti1.Nifti1Image object at 0x7fddf08d9310>],\n",
       "       ['/data/TrainingSet/images/hippocampus_274.nii.gz',\n",
       "        <nibabel.nifti1.Nifti1Image object at 0x7fddf08d9250>],\n",
       "       ['/data/TrainingSet/images/hippocampus_327.nii.gz',\n",
       "        <nibabel.nifti1.Nifti1Image object at 0x7fddf08d9f40>],\n",
       "       ['/data/TrainingSet/images/hippocampus_297.nii.gz',\n",
       "        <nibabel.nifti1.Nifti1Image object at 0x7fddf08cd190>],\n",
       "       ['/data/TrainingSet/images/hippocampus_215.nii.gz',\n",
       "        <nibabel.nifti1.Nifti1Image object at 0x7fddf08cd4f0>],\n",
       "       ['/data/TrainingSet/images/hippocampus_074.nii.gz',\n",
       "        <nibabel.nifti1.Nifti1Image object at 0x7fddf08cd430>],\n",
       "       ['/data/TrainingSet/images/hippocampus_242.nii.gz',\n",
       "        <nibabel.nifti1.Nifti1Image object at 0x7fddf08cd340>],\n",
       "       ['/data/TrainingSet/images/hippocampus_319.nii.gz',\n",
       "        <nibabel.nifti1.Nifti1Image object at 0x7fddf08cdca0>],\n",
       "       ['/data/TrainingSet/images/hippocampus_046.nii.gz',\n",
       "        <nibabel.nifti1.Nifti1Image object at 0x7fddf20b1070>],\n",
       "       ['/data/TrainingSet/images/hippocampus_034.nii.gz',\n",
       "        <nibabel.nifti1.Nifti1Image object at 0x7fddf20b14f0>],\n",
       "       ['/data/TrainingSet/images/hippocampus_223.nii.gz',\n",
       "        <nibabel.nifti1.Nifti1Image object at 0x7fddf20b1400>],\n",
       "       ['/data/TrainingSet/images/hippocampus_328.nii.gz',\n",
       "        <nibabel.nifti1.Nifti1Image object at 0x7fddf20b1250>],\n",
       "       ['/data/TrainingSet/images/hippocampus_038.nii.gz',\n",
       "        <nibabel.nifti1.Nifti1Image object at 0x7fddf20b1cd0>],\n",
       "       ['/data/TrainingSet/images/hippocampus_180.nii.gz',\n",
       "        <nibabel.nifti1.Nifti1Image object at 0x7fddf20b6070>],\n",
       "       ['/data/TrainingSet/images/hippocampus_220.nii.gz',\n",
       "        <nibabel.nifti1.Nifti1Image object at 0x7fddf20b6160>],\n",
       "       ['/data/TrainingSet/images/hippocampus_383.nii.gz',\n",
       "        <nibabel.nifti1.Nifti1Image object at 0x7fddf20b6490>],\n",
       "       ['/data/TrainingSet/images/hippocampus_244.nii.gz',\n",
       "        <nibabel.nifti1.Nifti1Image object at 0x7fddf20b1370>],\n",
       "       ['/data/TrainingSet/images/hippocampus_277.nii.gz',\n",
       "        <nibabel.nifti1.Nifti1Image object at 0x7fddf08cd5e0>],\n",
       "       ['/data/TrainingSet/images/hippocampus_083.nii.gz',\n",
       "        <nibabel.nifti1.Nifti1Image object at 0x7fddf08cd370>],\n",
       "       ['/data/TrainingSet/images/hippocampus_010.nii.gz',\n",
       "        <nibabel.nifti1.Nifti1Image object at 0x7fddf08b4a90>],\n",
       "       ['/data/TrainingSet/images/hippocampus_042.nii.gz',\n",
       "        <nibabel.nifti1.Nifti1Image object at 0x7fddf08d9550>],\n",
       "       ['/data/TrainingSet/images/hippocampus_349.nii.gz',\n",
       "        <nibabel.nifti1.Nifti1Image object at 0x7fddf08d1a90>],\n",
       "       ['/data/TrainingSet/images/hippocampus_300.nii.gz',\n",
       "        <nibabel.nifti1.Nifti1Image object at 0x7fddf20b6400>],\n",
       "       ['/data/TrainingSet/images/hippocampus_164.nii.gz',\n",
       "        <nibabel.nifti1.Nifti1Image object at 0x7fddf20b6be0>],\n",
       "       ['/data/TrainingSet/images/hippocampus_303.nii.gz',\n",
       "        <nibabel.nifti1.Nifti1Image object at 0x7fddf20b66a0>],\n",
       "       ['/data/TrainingSet/images/hippocampus_326.nii.gz',\n",
       "        <nibabel.nifti1.Nifti1Image object at 0x7fddf20bb2e0>],\n",
       "       ['/data/TrainingSet/images/hippocampus_124.nii.gz',\n",
       "        <nibabel.nifti1.Nifti1Image object at 0x7fddf20bb070>],\n",
       "       ['/data/TrainingSet/images/hippocampus_268.nii.gz',\n",
       "        <nibabel.nifti1.Nifti1Image object at 0x7fddf20bb0a0>],\n",
       "       ['/data/TrainingSet/images/hippocampus_222.nii.gz',\n",
       "        <nibabel.nifti1.Nifti1Image object at 0x7fddf20bb5e0>],\n",
       "       ['/data/TrainingSet/images/hippocampus_053.nii.gz',\n",
       "        <nibabel.nifti1.Nifti1Image object at 0x7fddf20bb9a0>],\n",
       "       ['/data/TrainingSet/images/hippocampus_172.nii.gz',\n",
       "        <nibabel.nifti1.Nifti1Image object at 0x7fddf20bf340>],\n",
       "       ['/data/TrainingSet/images/hippocampus_156.nii.gz',\n",
       "        <nibabel.nifti1.Nifti1Image object at 0x7fddf20bf130>],\n",
       "       ['/data/TrainingSet/images/hippocampus_136.nii.gz',\n",
       "        <nibabel.nifti1.Nifti1Image object at 0x7fddf20bf190>],\n",
       "       ['/data/TrainingSet/images/hippocampus_177.nii.gz',\n",
       "        <nibabel.nifti1.Nifti1Image object at 0x7fddf20bfe50>],\n",
       "       ['/data/TrainingSet/images/hippocampus_181.nii.gz',\n",
       "        <nibabel.nifti1.Nifti1Image object at 0x7fddf20bfc40>],\n",
       "       ['/data/TrainingSet/images/hippocampus_354.nii.gz',\n",
       "        <nibabel.nifti1.Nifti1Image object at 0x7fddf20c1310>],\n",
       "       ['/data/TrainingSet/images/hippocampus_359.nii.gz',\n",
       "        <nibabel.nifti1.Nifti1Image object at 0x7fddf20c1100>],\n",
       "       ['/data/TrainingSet/images/hippocampus_141.nii.gz',\n",
       "        <nibabel.nifti1.Nifti1Image object at 0x7fddf20c1040>],\n",
       "       ['/data/TrainingSet/images/hippocampus_356.nii.gz',\n",
       "        <nibabel.nifti1.Nifti1Image object at 0x7fddf20c1f40>],\n",
       "       ['/data/TrainingSet/images/hippocampus_325.nii.gz',\n",
       "        <nibabel.nifti1.Nifti1Image object at 0x7fddf20c5520>],\n",
       "       ['/data/TrainingSet/images/hippocampus_210.nii.gz',\n",
       "        <nibabel.nifti1.Nifti1Image object at 0x7fddf20c53a0>]],\n",
       "      dtype=object)"
      ]
     },
     "execution_count": 7,
     "metadata": {},
     "output_type": "execute_result"
    }
   ],
   "source": [
    "image[0]"
   ]
  },
  {
   "cell_type": "code",
   "execution_count": 8,
   "metadata": {},
   "outputs": [
    {
     "data": {
      "text/plain": [
       "'/data/TrainingSet/images/hippocampus_376.nii.gz'"
      ]
     },
     "execution_count": 8,
     "metadata": {},
     "output_type": "execute_result"
    }
   ],
   "source": [
    "image[0][0][0]"
   ]
  },
  {
   "cell_type": "code",
   "execution_count": 9,
   "metadata": {},
   "outputs": [
    {
     "data": {
      "text/plain": [
       "<nibabel.nifti1.Nifti1Image at 0x7fde6a6f8fa0>"
      ]
     },
     "execution_count": 9,
     "metadata": {},
     "output_type": "execute_result"
    }
   ],
   "source": [
    "k=nib.load(image[0][0][0])\n",
    "k"
   ]
  },
  {
   "cell_type": "code",
   "execution_count": 10,
   "metadata": {},
   "outputs": [
    {
     "data": {
      "text/plain": [
       "(35, 55, 37)"
      ]
     },
     "execution_count": 10,
     "metadata": {},
     "output_type": "execute_result"
    }
   ],
   "source": [
    "k.shape"
   ]
  },
  {
   "cell_type": "code",
   "execution_count": 11,
   "metadata": {},
   "outputs": [
    {
     "data": {
      "text/plain": [
       "dtype('<f4')"
      ]
     },
     "execution_count": 11,
     "metadata": {},
     "output_type": "execute_result"
    }
   ],
   "source": [
    "k.get_data_dtype()"
   ]
  },
  {
   "cell_type": "code",
   "execution_count": 12,
   "metadata": {},
   "outputs": [],
   "source": [
    "hdr = k.header"
   ]
  },
  {
   "cell_type": "code",
   "execution_count": 13,
   "metadata": {},
   "outputs": [
    {
     "data": {
      "text/plain": [
       "<nibabel.nifti1.Nifti1Header at 0x7fde6a6f8790>"
      ]
     },
     "execution_count": 13,
     "metadata": {},
     "output_type": "execute_result"
    }
   ],
   "source": [
    "hdr"
   ]
  },
  {
   "cell_type": "code",
   "execution_count": 14,
   "metadata": {},
   "outputs": [
    {
     "data": {
      "text/plain": [
       "('mm', 'sec')"
      ]
     },
     "execution_count": 14,
     "metadata": {},
     "output_type": "execute_result"
    }
   ],
   "source": [
    "hdr.get_xyzt_units()"
   ]
  },
  {
   "cell_type": "code",
   "execution_count": 15,
   "metadata": {},
   "outputs": [
    {
     "data": {
      "text/plain": [
       "('mm', 'sec')"
      ]
     },
     "execution_count": 15,
     "metadata": {},
     "output_type": "execute_result"
    }
   ],
   "source": [
    "nib.load(image[0][0][0]).header.get_xyzt_units()"
   ]
  },
  {
   "cell_type": "code",
   "execution_count": 16,
   "metadata": {},
   "outputs": [
    {
     "data": {
      "text/plain": [
       "nibabel.nifti1.Nifti1Header"
      ]
     },
     "execution_count": 16,
     "metadata": {},
     "output_type": "execute_result"
    }
   ],
   "source": [
    "nib.load(image[0][0][0]).header_class"
   ]
  },
  {
   "cell_type": "code",
   "execution_count": null,
   "metadata": {},
   "outputs": [],
   "source": []
  },
  {
   "cell_type": "code",
   "execution_count": 17,
   "metadata": {},
   "outputs": [
    {
     "data": {
      "text/plain": [
       "263"
      ]
     },
     "execution_count": 17,
     "metadata": {},
     "output_type": "execute_result"
    }
   ],
   "source": [
    "image_instances = image[0]\n",
    "len(image_instances)"
   ]
  },
  {
   "cell_type": "code",
   "execution_count": 18,
   "metadata": {},
   "outputs": [],
   "source": [
    "path = r\"/data/TrainingSet/labels\"\n",
    "label = np.array([[(os.path.join(dp, f), nib.load(os.path.join(dp, f))) for f in files]\n",
    "                   for dp,_,files in os.walk(path) if len(files) != 0])"
   ]
  },
  {
   "cell_type": "code",
   "execution_count": 19,
   "metadata": {},
   "outputs": [
    {
     "data": {
      "text/plain": [
       "array([[['/data/TrainingSet/labels/hippocampus_376.nii.gz',\n",
       "         <nibabel.nifti1.Nifti1Image object at 0x7fddf20e5190>],\n",
       "        ['/data/TrainingSet/labels/hippocampus_165.nii.gz',\n",
       "         <nibabel.nifti1.Nifti1Image object at 0x7fddf20e50a0>],\n",
       "        ['/data/TrainingSet/labels/hippocampus_286.nii.gz',\n",
       "         <nibabel.nifti1.Nifti1Image object at 0x7fddf20e53d0>],\n",
       "        ['/data/TrainingSet/labels/hippocampus_152.nii.gz',\n",
       "         <nibabel.nifti1.Nifti1Image object at 0x7fddf20e5310>],\n",
       "        ['/data/TrainingSet/labels/hippocampus_176.nii.gz',\n",
       "         <nibabel.nifti1.Nifti1Image object at 0x7fddf20e5f10>],\n",
       "        ['/data/TrainingSet/labels/hippocampus_096.nii.gz',\n",
       "         <nibabel.nifti1.Nifti1Image object at 0x7fddf20ea0a0>],\n",
       "        ['/data/TrainingSet/labels/hippocampus_068.nii.gz',\n",
       "         <nibabel.nifti1.Nifti1Image object at 0x7fddf20ea4f0>],\n",
       "        ['/data/TrainingSet/labels/hippocampus_289.nii.gz',\n",
       "         <nibabel.nifti1.Nifti1Image object at 0x7fddf20ea370>],\n",
       "        ['/data/TrainingSet/labels/hippocampus_260.nii.gz',\n",
       "         <nibabel.nifti1.Nifti1Image object at 0x7fddf20ea2b0>],\n",
       "        ['/data/TrainingSet/labels/hippocampus_171.nii.gz',\n",
       "         <nibabel.nifti1.Nifti1Image object at 0x7fddf20eafd0>],\n",
       "        ['/data/TrainingSet/labels/hippocampus_296.nii.gz',\n",
       "         <nibabel.nifti1.Nifti1Image object at 0x7fddf20ec100>],\n",
       "        ['/data/TrainingSet/labels/hippocampus_142.nii.gz',\n",
       "         <nibabel.nifti1.Nifti1Image object at 0x7fddf20ec430>],\n",
       "        ['/data/TrainingSet/labels/hippocampus_375.nii.gz',\n",
       "         <nibabel.nifti1.Nifti1Image object at 0x7fddf20ec370>],\n",
       "        ['/data/TrainingSet/labels/hippocampus_097.nii.gz',\n",
       "         <nibabel.nifti1.Nifti1Image object at 0x7fddf20ec2b0>],\n",
       "        ['/data/TrainingSet/labels/hippocampus_064.nii.gz',\n",
       "         <nibabel.nifti1.Nifti1Image object at 0x7fddf20ecf70>],\n",
       "        ['/data/TrainingSet/labels/hippocampus_108.nii.gz',\n",
       "         <nibabel.nifti1.Nifti1Image object at 0x7fddf20ef070>],\n",
       "        ['/data/TrainingSet/labels/hippocampus_070.nii.gz',\n",
       "         <nibabel.nifti1.Nifti1Image object at 0x7fddf20ef550>],\n",
       "        ['/data/TrainingSet/labels/hippocampus_329.nii.gz',\n",
       "         <nibabel.nifti1.Nifti1Image object at 0x7fddf20ef400>],\n",
       "        ['/data/TrainingSet/labels/hippocampus_107.nii.gz',\n",
       "         <nibabel.nifti1.Nifti1Image object at 0x7fddf20ef250>],\n",
       "        ['/data/TrainingSet/labels/hippocampus_090.nii.gz',\n",
       "         <nibabel.nifti1.Nifti1Image object at 0x7fddf20ef430>],\n",
       "        ['/data/TrainingSet/labels/hippocampus_092.nii.gz',\n",
       "         <nibabel.nifti1.Nifti1Image object at 0x7fde3c1ba0a0>],\n",
       "        ['/data/TrainingSet/labels/hippocampus_318.nii.gz',\n",
       "         <nibabel.nifti1.Nifti1Image object at 0x7fde3c1ba1c0>],\n",
       "        ['/data/TrainingSet/labels/hippocampus_333.nii.gz',\n",
       "         <nibabel.nifti1.Nifti1Image object at 0x7fde3c1ba490>],\n",
       "        ['/data/TrainingSet/labels/hippocampus_123.nii.gz',\n",
       "         <nibabel.nifti1.Nifti1Image object at 0x7fddf20ef670>],\n",
       "        ['/data/TrainingSet/labels/hippocampus_037.nii.gz',\n",
       "         <nibabel.nifti1.Nifti1Image object at 0x7fddf20ecbe0>],\n",
       "        ['/data/TrainingSet/labels/hippocampus_023.nii.gz',\n",
       "         <nibabel.nifti1.Nifti1Image object at 0x7fddf20ea340>],\n",
       "        ['/data/TrainingSet/labels/hippocampus_330.nii.gz',\n",
       "         <nibabel.nifti1.Nifti1Image object at 0x7fddf20e5c10>],\n",
       "        ['/data/TrainingSet/labels/hippocampus_374.nii.gz',\n",
       "         <nibabel.nifti1.Nifti1Image object at 0x7fddf20ea850>],\n",
       "        ['/data/TrainingSet/labels/hippocampus_380.nii.gz',\n",
       "         <nibabel.nifti1.Nifti1Image object at 0x7fde3c1bad30>],\n",
       "        ['/data/TrainingSet/labels/hippocampus_056.nii.gz',\n",
       "         <nibabel.nifti1.Nifti1Image object at 0x7fde3c1ba460>],\n",
       "        ['/data/TrainingSet/labels/hippocampus_040.nii.gz',\n",
       "         <nibabel.nifti1.Nifti1Image object at 0x7fde3c1ba340>],\n",
       "        ['/data/TrainingSet/labels/hippocampus_127.nii.gz',\n",
       "         <nibabel.nifti1.Nifti1Image object at 0x7fde3c1bd3a0>],\n",
       "        ['/data/TrainingSet/labels/hippocampus_163.nii.gz',\n",
       "         <nibabel.nifti1.Nifti1Image object at 0x7fde3c1bd0d0>],\n",
       "        ['/data/TrainingSet/labels/hippocampus_146.nii.gz',\n",
       "         <nibabel.nifti1.Nifti1Image object at 0x7fde3c1bd1c0>],\n",
       "        ['/data/TrainingSet/labels/hippocampus_050.nii.gz',\n",
       "         <nibabel.nifti1.Nifti1Image object at 0x7fde3c1bdfa0>],\n",
       "        ['/data/TrainingSet/labels/hippocampus_279.nii.gz',\n",
       "         <nibabel.nifti1.Nifti1Image object at 0x7fde3c1bdd90>],\n",
       "        ['/data/TrainingSet/labels/hippocampus_224.nii.gz',\n",
       "         <nibabel.nifti1.Nifti1Image object at 0x7fde3c1bf310>],\n",
       "        ['/data/TrainingSet/labels/hippocampus_301.nii.gz',\n",
       "         <nibabel.nifti1.Nifti1Image object at 0x7fde3c1bf100>],\n",
       "        ['/data/TrainingSet/labels/hippocampus_160.nii.gz',\n",
       "         <nibabel.nifti1.Nifti1Image object at 0x7fde3c1bf040>],\n",
       "        ['/data/TrainingSet/labels/hippocampus_352.nii.gz',\n",
       "         <nibabel.nifti1.Nifti1Image object at 0x7fde3c1bff10>],\n",
       "        ['/data/TrainingSet/labels/hippocampus_114.nii.gz',\n",
       "         <nibabel.nifti1.Nifti1Image object at 0x7fde3c1c1460>],\n",
       "        ['/data/TrainingSet/labels/hippocampus_089.nii.gz',\n",
       "         <nibabel.nifti1.Nifti1Image object at 0x7fde3c1c1070>],\n",
       "        ['/data/TrainingSet/labels/hippocampus_205.nii.gz',\n",
       "         <nibabel.nifti1.Nifti1Image object at 0x7fde3c1c1190>],\n",
       "        ['/data/TrainingSet/labels/hippocampus_026.nii.gz',\n",
       "         <nibabel.nifti1.Nifti1Image object at 0x7fde3c1c1130>],\n",
       "        ['/data/TrainingSet/labels/hippocampus_225.nii.gz',\n",
       "         <nibabel.nifti1.Nifti1Image object at 0x7fde3c1c1d30>],\n",
       "        ['/data/TrainingSet/labels/hippocampus_295.nii.gz',\n",
       "         <nibabel.nifti1.Nifti1Image object at 0x7fde3c1c44f0>],\n",
       "        ['/data/TrainingSet/labels/hippocampus_045.nii.gz',\n",
       "         <nibabel.nifti1.Nifti1Image object at 0x7fde3c1c4370>],\n",
       "        ['/data/TrainingSet/labels/hippocampus_390.nii.gz',\n",
       "         <nibabel.nifti1.Nifti1Image object at 0x7fde3c1c42b0>],\n",
       "        ['/data/TrainingSet/labels/hippocampus_075.nii.gz',\n",
       "         <nibabel.nifti1.Nifti1Image object at 0x7fde3c1c4130>],\n",
       "        ['/data/TrainingSet/labels/hippocampus_197.nii.gz',\n",
       "         <nibabel.nifti1.Nifti1Image object at 0x7fde3c1c4f10>],\n",
       "        ['/data/TrainingSet/labels/hippocampus_087.nii.gz',\n",
       "         <nibabel.nifti1.Nifti1Image object at 0x7fde3c1cc0d0>],\n",
       "        ['/data/TrainingSet/labels/hippocampus_370.nii.gz',\n",
       "         <nibabel.nifti1.Nifti1Image object at 0x7fde3c1cc4f0>],\n",
       "        ['/data/TrainingSet/labels/hippocampus_336.nii.gz',\n",
       "         <nibabel.nifti1.Nifti1Image object at 0x7fde3c1c44c0>],\n",
       "        ['/data/TrainingSet/labels/hippocampus_145.nii.gz',\n",
       "         <nibabel.nifti1.Nifti1Image object at 0x7fde3c1c1cd0>],\n",
       "        ['/data/TrainingSet/labels/hippocampus_035.nii.gz',\n",
       "         <nibabel.nifti1.Nifti1Image object at 0x7fde3c1bfaf0>],\n",
       "        ['/data/TrainingSet/labels/hippocampus_195.nii.gz',\n",
       "         <nibabel.nifti1.Nifti1Image object at 0x7fde3c1bd460>],\n",
       "        ['/data/TrainingSet/labels/hippocampus_385.nii.gz',\n",
       "         <nibabel.nifti1.Nifti1Image object at 0x7fde3c1ba970>],\n",
       "        ['/data/TrainingSet/labels/hippocampus_189.nii.gz',\n",
       "         <nibabel.nifti1.Nifti1Image object at 0x7fde3c1bd910>],\n",
       "        ['/data/TrainingSet/labels/hippocampus_060.nii.gz',\n",
       "         <nibabel.nifti1.Nifti1Image object at 0x7fde3c1cc100>],\n",
       "        ['/data/TrainingSet/labels/hippocampus_132.nii.gz',\n",
       "         <nibabel.nifti1.Nifti1Image object at 0x7fde3c1cc850>],\n",
       "        ['/data/TrainingSet/labels/hippocampus_361.nii.gz',\n",
       "         <nibabel.nifti1.Nifti1Image object at 0x7fde3c1cc9a0>],\n",
       "        ['/data/TrainingSet/labels/hippocampus_174.nii.gz',\n",
       "         <nibabel.nifti1.Nifti1Image object at 0x7fde3c1cce50>],\n",
       "        ['/data/TrainingSet/labels/hippocampus_150.nii.gz',\n",
       "         <nibabel.nifti1.Nifti1Image object at 0x7fde3c1d8190>],\n",
       "        ['/data/TrainingSet/labels/hippocampus_094.nii.gz',\n",
       "         <nibabel.nifti1.Nifti1Image object at 0x7fde3c1d80a0>],\n",
       "        ['/data/TrainingSet/labels/hippocampus_316.nii.gz',\n",
       "         <nibabel.nifti1.Nifti1Image object at 0x7fde3c1d8340>],\n",
       "        ['/data/TrainingSet/labels/hippocampus_345.nii.gz',\n",
       "         <nibabel.nifti1.Nifti1Image object at 0x7fde3c1d8460>],\n",
       "        ['/data/TrainingSet/labels/hippocampus_308.nii.gz',\n",
       "         <nibabel.nifti1.Nifti1Image object at 0x7fde3c1d8e20>],\n",
       "        ['/data/TrainingSet/labels/hippocampus_250.nii.gz',\n",
       "         <nibabel.nifti1.Nifti1Image object at 0x7fde3c1d91f0>],\n",
       "        ['/data/TrainingSet/labels/hippocampus_245.nii.gz',\n",
       "         <nibabel.nifti1.Nifti1Image object at 0x7fde3c1d9070>],\n",
       "        ['/data/TrainingSet/labels/hippocampus_105.nii.gz',\n",
       "         <nibabel.nifti1.Nifti1Image object at 0x7fde3c1d9280>],\n",
       "        ['/data/TrainingSet/labels/hippocampus_039.nii.gz',\n",
       "         <nibabel.nifti1.Nifti1Image object at 0x7fde3c1d9490>],\n",
       "        ['/data/TrainingSet/labels/hippocampus_372.nii.gz',\n",
       "         <nibabel.nifti1.Nifti1Image object at 0x7fde3c1d9eb0>],\n",
       "        ['/data/TrainingSet/labels/hippocampus_003.nii.gz',\n",
       "         <nibabel.nifti1.Nifti1Image object at 0x7fde3c1dc1f0>],\n",
       "        ['/data/TrainingSet/labels/hippocampus_259.nii.gz',\n",
       "         <nibabel.nifti1.Nifti1Image object at 0x7fde3c1dc070>],\n",
       "        ['/data/TrainingSet/labels/hippocampus_340.nii.gz',\n",
       "         <nibabel.nifti1.Nifti1Image object at 0x7fde3c1dc280>],\n",
       "        ['/data/TrainingSet/labels/hippocampus_219.nii.gz',\n",
       "         <nibabel.nifti1.Nifti1Image object at 0x7fde3c1dc4f0>],\n",
       "        ['/data/TrainingSet/labels/hippocampus_302.nii.gz',\n",
       "         <nibabel.nifti1.Nifti1Image object at 0x7fde3c1dcee0>],\n",
       "        ['/data/TrainingSet/labels/hippocampus_366.nii.gz',\n",
       "         <nibabel.nifti1.Nifti1Image object at 0x7fde3c1df220>],\n",
       "        ['/data/TrainingSet/labels/hippocampus_025.nii.gz',\n",
       "         <nibabel.nifti1.Nifti1Image object at 0x7fde3c1df0a0>],\n",
       "        ['/data/TrainingSet/labels/hippocampus_019.nii.gz',\n",
       "         <nibabel.nifti1.Nifti1Image object at 0x7fde3c1df2e0>],\n",
       "        ['/data/TrainingSet/labels/hippocampus_109.nii.gz',\n",
       "         <nibabel.nifti1.Nifti1Image object at 0x7fde3c1dc0a0>],\n",
       "        ['/data/TrainingSet/labels/hippocampus_299.nii.gz',\n",
       "         <nibabel.nifti1.Nifti1Image object at 0x7fde3c1d92e0>],\n",
       "        ['/data/TrainingSet/labels/hippocampus_155.nii.gz',\n",
       "         <nibabel.nifti1.Nifti1Image object at 0x7fde3c1d8970>],\n",
       "        ['/data/TrainingSet/labels/hippocampus_381.nii.gz',\n",
       "         <nibabel.nifti1.Nifti1Image object at 0x7fde3c1d8310>],\n",
       "        ['/data/TrainingSet/labels/hippocampus_057.nii.gz',\n",
       "         <nibabel.nifti1.Nifti1Image object at 0x7fde3c1cc9d0>],\n",
       "        ['/data/TrainingSet/labels/hippocampus_294.nii.gz',\n",
       "         <nibabel.nifti1.Nifti1Image object at 0x7fde3c1dfc10>],\n",
       "        ['/data/TrainingSet/labels/hippocampus_033.nii.gz',\n",
       "         <nibabel.nifti1.Nifti1Image object at 0x7fde3c1dfd30>],\n",
       "        ['/data/TrainingSet/labels/hippocampus_373.nii.gz',\n",
       "         <nibabel.nifti1.Nifti1Image object at 0x7fde3c1df160>],\n",
       "        ['/data/TrainingSet/labels/hippocampus_232.nii.gz',\n",
       "         <nibabel.nifti1.Nifti1Image object at 0x7fde3c1e8130>],\n",
       "        ['/data/TrainingSet/labels/hippocampus_166.nii.gz',\n",
       "         <nibabel.nifti1.Nifti1Image object at 0x7fde3c1e8160>],\n",
       "        ['/data/TrainingSet/labels/hippocampus_305.nii.gz',\n",
       "         <nibabel.nifti1.Nifti1Image object at 0x7fde3c1e83d0>],\n",
       "        ['/data/TrainingSet/labels/hippocampus_233.nii.gz',\n",
       "         <nibabel.nifti1.Nifti1Image object at 0x7fde3c1e8310>],\n",
       "        ['/data/TrainingSet/labels/hippocampus_249.nii.gz',\n",
       "         <nibabel.nifti1.Nifti1Image object at 0x7fde3c1e8fd0>],\n",
       "        ['/data/TrainingSet/labels/hippocampus_203.nii.gz',\n",
       "         <nibabel.nifti1.Nifti1Image object at 0x7fde3c1ed040>],\n",
       "        ['/data/TrainingSet/labels/hippocampus_393.nii.gz',\n",
       "         <nibabel.nifti1.Nifti1Image object at 0x7fde3c1ed490>],\n",
       "        ['/data/TrainingSet/labels/hippocampus_251.nii.gz',\n",
       "         <nibabel.nifti1.Nifti1Image object at 0x7fde3c1ed3d0>],\n",
       "        ['/data/TrainingSet/labels/hippocampus_341.nii.gz',\n",
       "         <nibabel.nifti1.Nifti1Image object at 0x7fde3c1ed1f0>],\n",
       "        ['/data/TrainingSet/labels/hippocampus_287.nii.gz',\n",
       "         <nibabel.nifti1.Nifti1Image object at 0x7fde3c1edfa0>],\n",
       "        ['/data/TrainingSet/labels/hippocampus_126.nii.gz',\n",
       "         <nibabel.nifti1.Nifti1Image object at 0x7fde3c1ea0a0>],\n",
       "        ['/data/TrainingSet/labels/hippocampus_130.nii.gz',\n",
       "         <nibabel.nifti1.Nifti1Image object at 0x7fde3c1ea160>],\n",
       "        ['/data/TrainingSet/labels/hippocampus_158.nii.gz',\n",
       "         <nibabel.nifti1.Nifti1Image object at 0x7fde3c1ea490>],\n",
       "        ['/data/TrainingSet/labels/hippocampus_149.nii.gz',\n",
       "         <nibabel.nifti1.Nifti1Image object at 0x7fde3c1ea3d0>],\n",
       "        ['/data/TrainingSet/labels/hippocampus_190.nii.gz',\n",
       "         <nibabel.nifti1.Nifti1Image object at 0x7fde3c1eaca0>],\n",
       "        ['/data/TrainingSet/labels/hippocampus_084.nii.gz',\n",
       "         <nibabel.nifti1.Nifti1Image object at 0x7fde3c1f00d0>],\n",
       "        ['/data/TrainingSet/labels/hippocampus_269.nii.gz',\n",
       "         <nibabel.nifti1.Nifti1Image object at 0x7fde3c1f01f0>],\n",
       "        ['/data/TrainingSet/labels/hippocampus_257.nii.gz',\n",
       "         <nibabel.nifti1.Nifti1Image object at 0x7fde3c1f04c0>],\n",
       "        ['/data/TrainingSet/labels/hippocampus_067.nii.gz',\n",
       "         <nibabel.nifti1.Nifti1Image object at 0x7fde3c1f0400>],\n",
       "        ['/data/TrainingSet/labels/hippocampus_095.nii.gz',\n",
       "         <nibabel.nifti1.Nifti1Image object at 0x7fde3c1f0fd0>],\n",
       "        ['/data/TrainingSet/labels/hippocampus_298.nii.gz',\n",
       "         <nibabel.nifti1.Nifti1Image object at 0x7fde3c1f0730>],\n",
       "        ['/data/TrainingSet/labels/hippocampus_387.nii.gz',\n",
       "         <nibabel.nifti1.Nifti1Image object at 0x7fde3c1eac70>],\n",
       "        ['/data/TrainingSet/labels/hippocampus_252.nii.gz',\n",
       "         <nibabel.nifti1.Nifti1Image object at 0x7fde3c1ed4c0>],\n",
       "        ['/data/TrainingSet/labels/hippocampus_106.nii.gz',\n",
       "         <nibabel.nifti1.Nifti1Image object at 0x7fde3c1ed280>],\n",
       "        ['/data/TrainingSet/labels/hippocampus_004.nii.gz',\n",
       "         <nibabel.nifti1.Nifti1Image object at 0x7fde3c1e8550>],\n",
       "        ['/data/TrainingSet/labels/hippocampus_235.nii.gz',\n",
       "         <nibabel.nifti1.Nifti1Image object at 0x7fde3c1e8970>],\n",
       "        ['/data/TrainingSet/labels/hippocampus_378.nii.gz',\n",
       "         <nibabel.nifti1.Nifti1Image object at 0x7fde3c1df970>],\n",
       "        ['/data/TrainingSet/labels/hippocampus_194.nii.gz',\n",
       "         <nibabel.nifti1.Nifti1Image object at 0x7fde3c1f1400>],\n",
       "        ['/data/TrainingSet/labels/hippocampus_093.nii.gz',\n",
       "         <nibabel.nifti1.Nifti1Image object at 0x7fde3c1f1040>],\n",
       "        ['/data/TrainingSet/labels/hippocampus_017.nii.gz',\n",
       "         <nibabel.nifti1.Nifti1Image object at 0x7fde3c1f10a0>],\n",
       "        ['/data/TrainingSet/labels/hippocampus_367.nii.gz',\n",
       "         <nibabel.nifti1.Nifti1Image object at 0x7fde3c1f1eb0>],\n",
       "        ['/data/TrainingSet/labels/hippocampus_185.nii.gz',\n",
       "         <nibabel.nifti1.Nifti1Image object at 0x7fde3c1f1c10>],\n",
       "        ['/data/TrainingSet/labels/hippocampus_321.nii.gz',\n",
       "         <nibabel.nifti1.Nifti1Image object at 0x7fddf21b42e0>],\n",
       "        ['/data/TrainingSet/labels/hippocampus_024.nii.gz',\n",
       "         <nibabel.nifti1.Nifti1Image object at 0x7fddf21b4100>],\n",
       "        ['/data/TrainingSet/labels/hippocampus_041.nii.gz',\n",
       "         <nibabel.nifti1.Nifti1Image object at 0x7fddf21b4040>],\n",
       "        ['/data/TrainingSet/labels/hippocampus_162.nii.gz',\n",
       "         <nibabel.nifti1.Nifti1Image object at 0x7fddf21b4eb0>],\n",
       "        ['/data/TrainingSet/labels/hippocampus_138.nii.gz',\n",
       "         <nibabel.nifti1.Nifti1Image object at 0x7fddf21b73d0>],\n",
       "        ['/data/TrainingSet/labels/hippocampus_243.nii.gz',\n",
       "         <nibabel.nifti1.Nifti1Image object at 0x7fddf21b7370>],\n",
       "        ['/data/TrainingSet/labels/hippocampus_338.nii.gz',\n",
       "         <nibabel.nifti1.Nifti1Image object at 0x7fddf21b7130>],\n",
       "        ['/data/TrainingSet/labels/hippocampus_048.nii.gz',\n",
       "         <nibabel.nifti1.Nifti1Image object at 0x7fddf21b70a0>],\n",
       "        ['/data/TrainingSet/labels/hippocampus_331.nii.gz',\n",
       "         <nibabel.nifti1.Nifti1Image object at 0x7fddf21b7f40>],\n",
       "        ['/data/TrainingSet/labels/hippocampus_334.nii.gz',\n",
       "         <nibabel.nifti1.Nifti1Image object at 0x7fddf21ba550>],\n",
       "        ['/data/TrainingSet/labels/hippocampus_217.nii.gz',\n",
       "         <nibabel.nifti1.Nifti1Image object at 0x7fddf21ba3a0>],\n",
       "        ['/data/TrainingSet/labels/hippocampus_282.nii.gz',\n",
       "         <nibabel.nifti1.Nifti1Image object at 0x7fddf21ba2e0>],\n",
       "        ['/data/TrainingSet/labels/hippocampus_228.nii.gz',\n",
       "         <nibabel.nifti1.Nifti1Image object at 0x7fddf21ba160>],\n",
       "        ['/data/TrainingSet/labels/hippocampus_337.nii.gz',\n",
       "         <nibabel.nifti1.Nifti1Image object at 0x7fddf21bafd0>],\n",
       "        ['/data/TrainingSet/labels/hippocampus_368.nii.gz',\n",
       "         <nibabel.nifti1.Nifti1Image object at 0x7fddf21bf0a0>],\n",
       "        ['/data/TrainingSet/labels/hippocampus_226.nii.gz',\n",
       "         <nibabel.nifti1.Nifti1Image object at 0x7fddf21bf490>],\n",
       "        ['/data/TrainingSet/labels/hippocampus_058.nii.gz',\n",
       "         <nibabel.nifti1.Nifti1Image object at 0x7fddf21ba5b0>],\n",
       "        ['/data/TrainingSet/labels/hippocampus_014.nii.gz',\n",
       "         <nibabel.nifti1.Nifti1Image object at 0x7fddf21bad60>],\n",
       "        ['/data/TrainingSet/labels/hippocampus_394.nii.gz',\n",
       "         <nibabel.nifti1.Nifti1Image object at 0x7fddf21b4ee0>],\n",
       "        ['/data/TrainingSet/labels/hippocampus_088.nii.gz',\n",
       "         <nibabel.nifti1.Nifti1Image object at 0x7fddf21b4550>],\n",
       "        ['/data/TrainingSet/labels/hippocampus_309.nii.gz',\n",
       "         <nibabel.nifti1.Nifti1Image object at 0x7fde3c1f1b50>],\n",
       "        ['/data/TrainingSet/labels/hippocampus_091.nii.gz',\n",
       "         <nibabel.nifti1.Nifti1Image object at 0x7fde3c1f1340>],\n",
       "        ['/data/TrainingSet/labels/hippocampus_036.nii.gz',\n",
       "         <nibabel.nifti1.Nifti1Image object at 0x7fddf21bf2b0>],\n",
       "        ['/data/TrainingSet/labels/hippocampus_007.nii.gz',\n",
       "         <nibabel.nifti1.Nifti1Image object at 0x7fddf21bf730>],\n",
       "        ['/data/TrainingSet/labels/hippocampus_288.nii.gz',\n",
       "         <nibabel.nifti1.Nifti1Image object at 0x7fddf21bf7c0>],\n",
       "        ['/data/TrainingSet/labels/hippocampus_216.nii.gz',\n",
       "         <nibabel.nifti1.Nifti1Image object at 0x7fddf21bfeb0>],\n",
       "        ['/data/TrainingSet/labels/hippocampus_248.nii.gz',\n",
       "         <nibabel.nifti1.Nifti1Image object at 0x7fddf21c41f0>],\n",
       "        ['/data/TrainingSet/labels/hippocampus_227.nii.gz',\n",
       "         <nibabel.nifti1.Nifti1Image object at 0x7fddf21c4070>],\n",
       "        ['/data/TrainingSet/labels/hippocampus_332.nii.gz',\n",
       "         <nibabel.nifti1.Nifti1Image object at 0x7fddf21c4280>],\n",
       "        ['/data/TrainingSet/labels/hippocampus_099.nii.gz',\n",
       "         <nibabel.nifti1.Nifti1Image object at 0x7fddf21c44f0>],\n",
       "        ['/data/TrainingSet/labels/hippocampus_234.nii.gz',\n",
       "         <nibabel.nifti1.Nifti1Image object at 0x7fddf21c4ee0>],\n",
       "        ['/data/TrainingSet/labels/hippocampus_052.nii.gz',\n",
       "         <nibabel.nifti1.Nifti1Image object at 0x7fddf21c8220>],\n",
       "        ['/data/TrainingSet/labels/hippocampus_199.nii.gz',\n",
       "         <nibabel.nifti1.Nifti1Image object at 0x7fddf21c80a0>],\n",
       "        ['/data/TrainingSet/labels/hippocampus_169.nii.gz',\n",
       "         <nibabel.nifti1.Nifti1Image object at 0x7fddf21c82e0>],\n",
       "        ['/data/TrainingSet/labels/hippocampus_280.nii.gz',\n",
       "         <nibabel.nifti1.Nifti1Image object at 0x7fddf21c8550>],\n",
       "        ['/data/TrainingSet/labels/hippocampus_020.nii.gz',\n",
       "         <nibabel.nifti1.Nifti1Image object at 0x7fddf21c8820>],\n",
       "        ['/data/TrainingSet/labels/hippocampus_265.nii.gz',\n",
       "         <nibabel.nifti1.Nifti1Image object at 0x7fddf21ca250>],\n",
       "        ['/data/TrainingSet/labels/hippocampus_135.nii.gz',\n",
       "         <nibabel.nifti1.Nifti1Image object at 0x7fddf21ca040>],\n",
       "        ['/data/TrainingSet/labels/hippocampus_212.nii.gz',\n",
       "         <nibabel.nifti1.Nifti1Image object at 0x7fddf21ca070>],\n",
       "        ['/data/TrainingSet/labels/hippocampus_175.nii.gz',\n",
       "         <nibabel.nifti1.Nifti1Image object at 0x7fddf21ca580>],\n",
       "        ['/data/TrainingSet/labels/hippocampus_133.nii.gz',\n",
       "         <nibabel.nifti1.Nifti1Image object at 0x7fddf21ca850>],\n",
       "        ['/data/TrainingSet/labels/hippocampus_006.nii.gz',\n",
       "         <nibabel.nifti1.Nifti1Image object at 0x7fddf21ce280>],\n",
       "        ['/data/TrainingSet/labels/hippocampus_015.nii.gz',\n",
       "         <nibabel.nifti1.Nifti1Image object at 0x7fddf21ce070>],\n",
       "        ['/data/TrainingSet/labels/hippocampus_360.nii.gz',\n",
       "         <nibabel.nifti1.Nifti1Image object at 0x7fddf21ce0a0>],\n",
       "        ['/data/TrainingSet/labels/hippocampus_322.nii.gz',\n",
       "         <nibabel.nifti1.Nifti1Image object at 0x7fddf21cee80>],\n",
       "        ['/data/TrainingSet/labels/hippocampus_101.nii.gz',\n",
       "         <nibabel.nifti1.Nifti1Image object at 0x7fddf21ce580>],\n",
       "        ['/data/TrainingSet/labels/hippocampus_144.nii.gz',\n",
       "         <nibabel.nifti1.Nifti1Image object at 0x7fddf21cee50>],\n",
       "        ['/data/TrainingSet/labels/hippocampus_311.nii.gz',\n",
       "         <nibabel.nifti1.Nifti1Image object at 0x7fddf21ca400>],\n",
       "        ['/data/TrainingSet/labels/hippocampus_238.nii.gz',\n",
       "         <nibabel.nifti1.Nifti1Image object at 0x7fddf21c8070>],\n",
       "        ['/data/TrainingSet/labels/hippocampus_001.nii.gz',\n",
       "         <nibabel.nifti1.Nifti1Image object at 0x7fddf21c4370>],\n",
       "        ['/data/TrainingSet/labels/hippocampus_261.nii.gz',\n",
       "         <nibabel.nifti1.Nifti1Image object at 0x7fde3c1cc280>],\n",
       "        ['/data/TrainingSet/labels/hippocampus_207.nii.gz',\n",
       "         <nibabel.nifti1.Nifti1Image object at 0x7fddf21bf3a0>],\n",
       "        ['/data/TrainingSet/labels/hippocampus_184.nii.gz',\n",
       "         <nibabel.nifti1.Nifti1Image object at 0x7fddf21cf0d0>],\n",
       "        ['/data/TrainingSet/labels/hippocampus_044.nii.gz',\n",
       "         <nibabel.nifti1.Nifti1Image object at 0x7fddf21cf190>],\n",
       "        ['/data/TrainingSet/labels/hippocampus_386.nii.gz',\n",
       "         <nibabel.nifti1.Nifti1Image object at 0x7fddf21cf460>],\n",
       "        ['/data/TrainingSet/labels/hippocampus_290.nii.gz',\n",
       "         <nibabel.nifti1.Nifti1Image object at 0x7fddf21cf3a0>],\n",
       "        ['/data/TrainingSet/labels/hippocampus_310.nii.gz',\n",
       "         <nibabel.nifti1.Nifti1Image object at 0x7fddf21cff10>],\n",
       "        ['/data/TrainingSet/labels/hippocampus_148.nii.gz',\n",
       "         <nibabel.nifti1.Nifti1Image object at 0x7fddf21d8130>],\n",
       "        ['/data/TrainingSet/labels/hippocampus_231.nii.gz',\n",
       "         <nibabel.nifti1.Nifti1Image object at 0x7fddf21d8040>],\n",
       "        ['/data/TrainingSet/labels/hippocampus_178.nii.gz',\n",
       "         <nibabel.nifti1.Nifti1Image object at 0x7fddf21d8190>],\n",
       "        ['/data/TrainingSet/labels/hippocampus_264.nii.gz',\n",
       "         <nibabel.nifti1.Nifti1Image object at 0x7fddf21d8400>],\n",
       "        ['/data/TrainingSet/labels/hippocampus_358.nii.gz',\n",
       "         <nibabel.nifti1.Nifti1Image object at 0x7fddf21d8d90>],\n",
       "        ['/data/TrainingSet/labels/hippocampus_276.nii.gz',\n",
       "         <nibabel.nifti1.Nifti1Image object at 0x7fddf21db190>],\n",
       "        ['/data/TrainingSet/labels/hippocampus_363.nii.gz',\n",
       "         <nibabel.nifti1.Nifti1Image object at 0x7fddf21db0a0>],\n",
       "        ['/data/TrainingSet/labels/hippocampus_193.nii.gz',\n",
       "         <nibabel.nifti1.Nifti1Image object at 0x7fddf21db340>],\n",
       "        ['/data/TrainingSet/labels/hippocampus_204.nii.gz',\n",
       "         <nibabel.nifti1.Nifti1Image object at 0x7fddf21db430>],\n",
       "        ['/data/TrainingSet/labels/hippocampus_389.nii.gz',\n",
       "         <nibabel.nifti1.Nifti1Image object at 0x7fddf21dbe50>],\n",
       "        ['/data/TrainingSet/labels/hippocampus_343.nii.gz',\n",
       "         <nibabel.nifti1.Nifti1Image object at 0x7fddf21df1f0>],\n",
       "        ['/data/TrainingSet/labels/hippocampus_230.nii.gz',\n",
       "         <nibabel.nifti1.Nifti1Image object at 0x7fddf21df0a0>],\n",
       "        ['/data/TrainingSet/labels/hippocampus_350.nii.gz',\n",
       "         <nibabel.nifti1.Nifti1Image object at 0x7fddf21df3a0>],\n",
       "        ['/data/TrainingSet/labels/hippocampus_125.nii.gz',\n",
       "         <nibabel.nifti1.Nifti1Image object at 0x7fddf21df4c0>],\n",
       "        ['/data/TrainingSet/labels/hippocampus_051.nii.gz',\n",
       "         <nibabel.nifti1.Nifti1Image object at 0x7fddf21dfe20>],\n",
       "        ['/data/TrainingSet/labels/hippocampus_304.nii.gz',\n",
       "         <nibabel.nifti1.Nifti1Image object at 0x7fddf21df760>],\n",
       "        ['/data/TrainingSet/labels/hippocampus_188.nii.gz',\n",
       "         <nibabel.nifti1.Nifti1Image object at 0x7fddf21dbc40>],\n",
       "        ['/data/TrainingSet/labels/hippocampus_143.nii.gz',\n",
       "         <nibabel.nifti1.Nifti1Image object at 0x7fddf21d83a0>],\n",
       "        ['/data/TrainingSet/labels/hippocampus_353.nii.gz',\n",
       "         <nibabel.nifti1.Nifti1Image object at 0x7fddf21d82b0>],\n",
       "        ['/data/TrainingSet/labels/hippocampus_065.nii.gz',\n",
       "         <nibabel.nifti1.Nifti1Image object at 0x7fddf21c4fa0>],\n",
       "        ['/data/TrainingSet/labels/hippocampus_104.nii.gz',\n",
       "         <nibabel.nifti1.Nifti1Image object at 0x7fddf21cfd00>],\n",
       "        ['/data/TrainingSet/labels/hippocampus_351.nii.gz',\n",
       "         <nibabel.nifti1.Nifti1Image object at 0x7fddf21cf940>],\n",
       "        ['/data/TrainingSet/labels/hippocampus_008.nii.gz',\n",
       "         <nibabel.nifti1.Nifti1Image object at 0x7fddf21e34c0>],\n",
       "        ['/data/TrainingSet/labels/hippocampus_281.nii.gz',\n",
       "         <nibabel.nifti1.Nifti1Image object at 0x7fddf21e3160>],\n",
       "        ['/data/TrainingSet/labels/hippocampus_317.nii.gz',\n",
       "         <nibabel.nifti1.Nifti1Image object at 0x7fddf21e31c0>],\n",
       "        ['/data/TrainingSet/labels/hippocampus_236.nii.gz',\n",
       "         <nibabel.nifti1.Nifti1Image object at 0x7fddf21e3f10>],\n",
       "        ['/data/TrainingSet/labels/hippocampus_170.nii.gz',\n",
       "         <nibabel.nifti1.Nifti1Image object at 0x7fddf21e90a0>],\n",
       "        ['/data/TrainingSet/labels/hippocampus_077.nii.gz',\n",
       "         <nibabel.nifti1.Nifti1Image object at 0x7fddf21e9490>],\n",
       "        ['/data/TrainingSet/labels/hippocampus_173.nii.gz',\n",
       "         <nibabel.nifti1.Nifti1Image object at 0x7fddf21e9310>],\n",
       "        ['/data/TrainingSet/labels/hippocampus_049.nii.gz',\n",
       "         <nibabel.nifti1.Nifti1Image object at 0x7fddf21e9250>],\n",
       "        ['/data/TrainingSet/labels/hippocampus_292.nii.gz',\n",
       "         <nibabel.nifti1.Nifti1Image object at 0x7fddf21e9f40>],\n",
       "        ['/data/TrainingSet/labels/hippocampus_229.nii.gz',\n",
       "         <nibabel.nifti1.Nifti1Image object at 0x7fddf21ee100>],\n",
       "        ['/data/TrainingSet/labels/hippocampus_335.nii.gz',\n",
       "         <nibabel.nifti1.Nifti1Image object at 0x7fddf21ee460>],\n",
       "        ['/data/TrainingSet/labels/hippocampus_253.nii.gz',\n",
       "         <nibabel.nifti1.Nifti1Image object at 0x7fddf21ee3a0>],\n",
       "        ['/data/TrainingSet/labels/hippocampus_263.nii.gz',\n",
       "         <nibabel.nifti1.Nifti1Image object at 0x7fddf21ee2e0>],\n",
       "        ['/data/TrainingSet/labels/hippocampus_314.nii.gz',\n",
       "         <nibabel.nifti1.Nifti1Image object at 0x7fddf21eecd0>],\n",
       "        ['/data/TrainingSet/labels/hippocampus_355.nii.gz',\n",
       "         <nibabel.nifti1.Nifti1Image object at 0x7fddf2130040>],\n",
       "        ['/data/TrainingSet/labels/hippocampus_221.nii.gz',\n",
       "         <nibabel.nifti1.Nifti1Image object at 0x7fddf2130490>],\n",
       "        ['/data/TrainingSet/labels/hippocampus_320.nii.gz',\n",
       "         <nibabel.nifti1.Nifti1Image object at 0x7fddf21303d0>],\n",
       "        ['/data/TrainingSet/labels/hippocampus_011.nii.gz',\n",
       "         <nibabel.nifti1.Nifti1Image object at 0x7fddf21301f0>],\n",
       "        ['/data/TrainingSet/labels/hippocampus_098.nii.gz',\n",
       "         <nibabel.nifti1.Nifti1Image object at 0x7fddf2130fa0>],\n",
       "        ['/data/TrainingSet/labels/hippocampus_161.nii.gz',\n",
       "         <nibabel.nifti1.Nifti1Image object at 0x7fddf21340a0>],\n",
       "        ['/data/TrainingSet/labels/hippocampus_102.nii.gz',\n",
       "         <nibabel.nifti1.Nifti1Image object at 0x7fddf2134160>],\n",
       "        ['/data/TrainingSet/labels/hippocampus_154.nii.gz',\n",
       "         <nibabel.nifti1.Nifti1Image object at 0x7fddf21305b0>],\n",
       "        ['/data/TrainingSet/labels/hippocampus_157.nii.gz',\n",
       "         <nibabel.nifti1.Nifti1Image object at 0x7fddf2130fd0>],\n",
       "        ['/data/TrainingSet/labels/hippocampus_274.nii.gz',\n",
       "         <nibabel.nifti1.Nifti1Image object at 0x7fddf21e9f70>],\n",
       "        ['/data/TrainingSet/labels/hippocampus_327.nii.gz',\n",
       "         <nibabel.nifti1.Nifti1Image object at 0x7fddf21e9640>],\n",
       "        ['/data/TrainingSet/labels/hippocampus_297.nii.gz',\n",
       "         <nibabel.nifti1.Nifti1Image object at 0x7fddf21e3b80>],\n",
       "        ['/data/TrainingSet/labels/hippocampus_215.nii.gz',\n",
       "         <nibabel.nifti1.Nifti1Image object at 0x7fddf21e3400>],\n",
       "        ['/data/TrainingSet/labels/hippocampus_074.nii.gz',\n",
       "         <nibabel.nifti1.Nifti1Image object at 0x7fddf21343a0>],\n",
       "        ['/data/TrainingSet/labels/hippocampus_242.nii.gz',\n",
       "         <nibabel.nifti1.Nifti1Image object at 0x7fddf21347c0>],\n",
       "        ['/data/TrainingSet/labels/hippocampus_319.nii.gz',\n",
       "         <nibabel.nifti1.Nifti1Image object at 0x7fddf2134430>],\n",
       "        ['/data/TrainingSet/labels/hippocampus_046.nii.gz',\n",
       "         <nibabel.nifti1.Nifti1Image object at 0x7fddf2134700>],\n",
       "        ['/data/TrainingSet/labels/hippocampus_034.nii.gz',\n",
       "         <nibabel.nifti1.Nifti1Image object at 0x7fddf213a280>],\n",
       "        ['/data/TrainingSet/labels/hippocampus_223.nii.gz',\n",
       "         <nibabel.nifti1.Nifti1Image object at 0x7fddf213a070>],\n",
       "        ['/data/TrainingSet/labels/hippocampus_328.nii.gz',\n",
       "         <nibabel.nifti1.Nifti1Image object at 0x7fddf213a0a0>],\n",
       "        ['/data/TrainingSet/labels/hippocampus_038.nii.gz',\n",
       "         <nibabel.nifti1.Nifti1Image object at 0x7fddf213a5b0>],\n",
       "        ['/data/TrainingSet/labels/hippocampus_180.nii.gz',\n",
       "         <nibabel.nifti1.Nifti1Image object at 0x7fddf213a8e0>],\n",
       "        ['/data/TrainingSet/labels/hippocampus_220.nii.gz',\n",
       "         <nibabel.nifti1.Nifti1Image object at 0x7fddf213d2b0>],\n",
       "        ['/data/TrainingSet/labels/hippocampus_383.nii.gz',\n",
       "         <nibabel.nifti1.Nifti1Image object at 0x7fddf213d0d0>],\n",
       "        ['/data/TrainingSet/labels/hippocampus_244.nii.gz',\n",
       "         <nibabel.nifti1.Nifti1Image object at 0x7fddf213d130>],\n",
       "        ['/data/TrainingSet/labels/hippocampus_277.nii.gz',\n",
       "         <nibabel.nifti1.Nifti1Image object at 0x7fddf213de50>],\n",
       "        ['/data/TrainingSet/labels/hippocampus_083.nii.gz',\n",
       "         <nibabel.nifti1.Nifti1Image object at 0x7fddf213dbe0>],\n",
       "        ['/data/TrainingSet/labels/hippocampus_010.nii.gz',\n",
       "         <nibabel.nifti1.Nifti1Image object at 0x7fddf21412e0>],\n",
       "        ['/data/TrainingSet/labels/hippocampus_042.nii.gz',\n",
       "         <nibabel.nifti1.Nifti1Image object at 0x7fddf2141100>],\n",
       "        ['/data/TrainingSet/labels/hippocampus_349.nii.gz',\n",
       "         <nibabel.nifti1.Nifti1Image object at 0x7fddf2141040>],\n",
       "        ['/data/TrainingSet/labels/hippocampus_300.nii.gz',\n",
       "         <nibabel.nifti1.Nifti1Image object at 0x7fddf2141eb0>],\n",
       "        ['/data/TrainingSet/labels/hippocampus_164.nii.gz',\n",
       "         <nibabel.nifti1.Nifti1Image object at 0x7fddf2144370>],\n",
       "        ['/data/TrainingSet/labels/hippocampus_303.nii.gz',\n",
       "         <nibabel.nifti1.Nifti1Image object at 0x7fddf2144430>],\n",
       "        ['/data/TrainingSet/labels/hippocampus_326.nii.gz',\n",
       "         <nibabel.nifti1.Nifti1Image object at 0x7fddf2144310>],\n",
       "        ['/data/TrainingSet/labels/hippocampus_124.nii.gz',\n",
       "         <nibabel.nifti1.Nifti1Image object at 0x7fddf2144790>],\n",
       "        ['/data/TrainingSet/labels/hippocampus_268.nii.gz',\n",
       "         <nibabel.nifti1.Nifti1Image object at 0x7fddf2144fd0>],\n",
       "        ['/data/TrainingSet/labels/hippocampus_222.nii.gz',\n",
       "         <nibabel.nifti1.Nifti1Image object at 0x7fddf21440d0>],\n",
       "        ['/data/TrainingSet/labels/hippocampus_053.nii.gz',\n",
       "         <nibabel.nifti1.Nifti1Image object at 0x7fddf2141550>],\n",
       "        ['/data/TrainingSet/labels/hippocampus_172.nii.gz',\n",
       "         <nibabel.nifti1.Nifti1Image object at 0x7fddf213da00>],\n",
       "        ['/data/TrainingSet/labels/hippocampus_156.nii.gz',\n",
       "         <nibabel.nifti1.Nifti1Image object at 0x7fddf213d430>],\n",
       "        ['/data/TrainingSet/labels/hippocampus_136.nii.gz',\n",
       "         <nibabel.nifti1.Nifti1Image object at 0x7fddf213adf0>],\n",
       "        ['/data/TrainingSet/labels/hippocampus_177.nii.gz',\n",
       "         <nibabel.nifti1.Nifti1Image object at 0x7fddf213a040>],\n",
       "        ['/data/TrainingSet/labels/hippocampus_181.nii.gz',\n",
       "         <nibabel.nifti1.Nifti1Image object at 0x7fddf21344f0>],\n",
       "        ['/data/TrainingSet/labels/hippocampus_354.nii.gz',\n",
       "         <nibabel.nifti1.Nifti1Image object at 0x7fddf2146100>],\n",
       "        ['/data/TrainingSet/labels/hippocampus_359.nii.gz',\n",
       "         <nibabel.nifti1.Nifti1Image object at 0x7fddf21461f0>],\n",
       "        ['/data/TrainingSet/labels/hippocampus_141.nii.gz',\n",
       "         <nibabel.nifti1.Nifti1Image object at 0x7fddf2146490>],\n",
       "        ['/data/TrainingSet/labels/hippocampus_356.nii.gz',\n",
       "         <nibabel.nifti1.Nifti1Image object at 0x7fddf21463d0>],\n",
       "        ['/data/TrainingSet/labels/hippocampus_325.nii.gz',\n",
       "         <nibabel.nifti1.Nifti1Image object at 0x7fddf2146d90>],\n",
       "        ['/data/TrainingSet/labels/hippocampus_210.nii.gz',\n",
       "         <nibabel.nifti1.Nifti1Image object at 0x7fddf214e160>]]],\n",
       "      dtype=object)"
      ]
     },
     "execution_count": 19,
     "metadata": {},
     "output_type": "execute_result"
    }
   ],
   "source": [
    "label"
   ]
  },
  {
   "cell_type": "code",
   "execution_count": 20,
   "metadata": {},
   "outputs": [
    {
     "data": {
      "text/plain": [
       "1"
      ]
     },
     "execution_count": 20,
     "metadata": {},
     "output_type": "execute_result"
    }
   ],
   "source": [
    "len(label)"
   ]
  },
  {
   "cell_type": "code",
   "execution_count": 21,
   "metadata": {},
   "outputs": [
    {
     "data": {
      "text/plain": [
       "262"
      ]
     },
     "execution_count": 21,
     "metadata": {},
     "output_type": "execute_result"
    }
   ],
   "source": [
    "label_instances = label[0]\n",
    "len(label_instances)"
   ]
  },
  {
   "cell_type": "code",
   "execution_count": 22,
   "metadata": {},
   "outputs": [],
   "source": [
    "# Nibabel can present your image data as a Numpy array by calling the method get_fdata()\n",
    "# The array will contain a multi-dimensional Numpy array with numerical values representing voxel intensities. \n",
    "# In our case, images and labels are 3-dimensional, so get_fdata will return a 3-dimensional array. You can verify this\n",
    "# by accessing the .shape attribute. What are the dimensions of the input arrays?\n",
    "image_pixel=[]\n",
    "#image_pixel=np.zeros((1000,1000,1000))\n",
    "for i in image_instances:\n",
    "    image_pixel.append(nib.load(i[0]).get_fdata())\n",
    "    \n",
    "\n",
    "\n",
    "    #image_pixel=(nib.load(i[0]).get_fdata())\n",
    "# TASK: using matplotlib, visualize a few slices from the dataset, along with their labels. \n",
    "# You can adjust plot sizes like so if you find them too small:\n",
    "# plt.rcParams[\"figure.figsize\"] = (10,10)\n"
   ]
  },
  {
   "cell_type": "code",
   "execution_count": 23,
   "metadata": {},
   "outputs": [],
   "source": [
    "label_pixel=[]\n",
    "for i in label_instances:\n",
    "    label_pixel.append(nib.load(i[0]).get_fdata())"
   ]
  },
  {
   "cell_type": "code",
   "execution_count": 24,
   "metadata": {},
   "outputs": [
    {
     "data": {
      "text/plain": [
       "(263,)"
      ]
     },
     "execution_count": 24,
     "metadata": {},
     "output_type": "execute_result"
    }
   ],
   "source": [
    "np.shape(image_pixel)"
   ]
  },
  {
   "cell_type": "code",
   "execution_count": 25,
   "metadata": {},
   "outputs": [
    {
     "data": {
      "text/plain": [
       "(262,)"
      ]
     },
     "execution_count": 25,
     "metadata": {},
     "output_type": "execute_result"
    }
   ],
   "source": [
    "np.shape(label_pixel)"
   ]
  },
  {
   "cell_type": "code",
   "execution_count": 26,
   "metadata": {},
   "outputs": [
    {
     "data": {
      "text/plain": [
       "(35, 55, 37)"
      ]
     },
     "execution_count": 26,
     "metadata": {},
     "output_type": "execute_result"
    }
   ],
   "source": [
    "np.shape(image_pixel[0])"
   ]
  },
  {
   "cell_type": "code",
   "execution_count": 27,
   "metadata": {},
   "outputs": [
    {
     "data": {
      "text/plain": [
       "35"
      ]
     },
     "execution_count": 27,
     "metadata": {},
     "output_type": "execute_result"
    }
   ],
   "source": [
    "np.shape(image_pixel[0])[0]"
   ]
  },
  {
   "cell_type": "code",
   "execution_count": 28,
   "metadata": {},
   "outputs": [
    {
     "data": {
      "text/plain": [
       "array([[[192.2256012 , 151.03439331, 116.70840454, ..., 768.90240479,\n",
       "         768.90240479, 816.95880127],\n",
       "        [192.2256012 , 192.2256012 , 151.03439331, ..., 755.17199707,\n",
       "         748.30682373, 810.09362793],\n",
       "        [185.36039734, 157.89959717, 178.49520874, ..., 789.49798584,\n",
       "         803.22839355, 816.95880127],\n",
       "        ...,\n",
       "        [350.12521362, 274.60800171, 350.12521362, ..., 336.39480591,\n",
       "         199.09080505,  54.92160034],\n",
       "        [356.99041748, 260.87759399, 322.66439819, ..., 288.33840942,\n",
       "         164.76480103, 212.82119751],\n",
       "        [377.58599854, 356.99041748, 308.93399048, ..., 288.33840942,\n",
       "         260.87759399, 308.93399048]],\n",
       "\n",
       "       [[ 82.38240051,  96.1128006 , 144.16920471, ..., 755.17199707,\n",
       "         796.36322021, 810.09362793],\n",
       "        [171.63000488, 116.70840454, 102.97799683, ..., 789.49798584,\n",
       "         789.49798584, 816.95880127],\n",
       "        [137.30400085, 109.84320068, 185.36039734, ..., 782.6328125 ,\n",
       "         782.6328125 , 823.82397461],\n",
       "        ...,\n",
       "        [350.12521362, 370.72079468, 329.52960205, ..., 308.93399048,\n",
       "         260.87759399, 137.30400085],\n",
       "        [281.47320557, 308.93399048, 302.06878662, ..., 274.60800171,\n",
       "         219.68640137, 185.36039734],\n",
       "        [302.06878662, 315.79919434, 233.41680908, ..., 308.93399048,\n",
       "         247.14720154, 274.60800171]],\n",
       "\n",
       "       [[260.87759399, 267.74279785, 171.63000488, ..., 720.8460083 ,\n",
       "         823.82397461, 762.03723145],\n",
       "        [247.14720154, 185.36039734, 185.36039734, ..., 782.6328125 ,\n",
       "         816.95880127, 796.36322021],\n",
       "        [315.79919434, 164.76480103,  89.24760437, ..., 789.49798584,\n",
       "         755.17199707, 803.22839355],\n",
       "        ...,\n",
       "        [384.45120239, 363.85559082, 363.85559082, ..., 274.60800171,\n",
       "         226.55160522, 199.09080505],\n",
       "        [302.06878662, 363.85559082, 350.12521362, ..., 247.14720154,\n",
       "         274.60800171, 205.95599365],\n",
       "        [274.60800171, 308.93399048, 356.99041748, ..., 260.87759399,\n",
       "         302.06878662, 288.33840942]],\n",
       "\n",
       "       ...,\n",
       "\n",
       "       [[645.32879639, 556.08117676, 274.60800171, ..., 556.08117676,\n",
       "         597.2723999 , 665.92437744],\n",
       "        [659.0592041 , 604.13757324, 549.21600342, ..., 837.55438232,\n",
       "         885.61077881, 926.80200195],\n",
       "        [693.38519287, 727.71118164, 775.76757812, ..., 851.28479004,\n",
       "         830.68920898, 830.68920898],\n",
       "        ...,\n",
       "        [247.14720154, 164.76480103,  82.38240051, ..., 425.64239502,\n",
       "         343.26000977, 336.39480591],\n",
       "        [315.79919434, 254.0124054 ,  96.1128006 , ..., 418.77719116,\n",
       "         384.45120239, 308.93399048],\n",
       "        [137.30400085, 281.47320557, 199.09080505, ..., 446.23800659,\n",
       "         453.10321045, 302.06878662]],\n",
       "\n",
       "       [[617.86798096, 604.13757324, 350.12521362, ..., 473.6987915 ,\n",
       "         562.94641113, 542.35083008],\n",
       "        [700.25042725, 686.52001953, 638.46362305, ..., 796.36322021,\n",
       "         871.88043213, 871.88043213],\n",
       "        [713.98083496, 645.32879639, 768.90240479, ..., 892.47601318,\n",
       "         844.4196167 , 837.55438232],\n",
       "        ...,\n",
       "        [219.68640137, 192.2256012 , 219.68640137, ..., 535.4855957 ,\n",
       "         473.6987915 , 453.10321045],\n",
       "        [199.09080505, 109.84320068, 205.95599365, ..., 528.62042236,\n",
       "         549.21600342, 446.23800659],\n",
       "        [109.84320068,  96.1128006 , 164.76480103, ..., 508.02481079,\n",
       "         480.56399536, 439.37280273]],\n",
       "\n",
       "       [[611.00280762, 611.00280762, 597.2723999 , ..., 480.56399536,\n",
       "         556.08117676, 549.21600342],\n",
       "        [755.17199707, 741.44158936, 720.8460083 , ..., 823.82397461,\n",
       "         892.47601318, 878.74560547],\n",
       "        [645.32879639, 597.2723999 , 762.03723145, ..., 899.34118652,\n",
       "         899.34118652, 871.88043213],\n",
       "        ...,\n",
       "        [171.63000488,  89.24760437,  41.19120026, ..., 549.21600342,\n",
       "         617.86798096, 528.62042236],\n",
       "        [ 89.24760437,  41.19120026,  27.46080017, ..., 398.18161011,\n",
       "         343.26000977, 459.96841431],\n",
       "        [ 82.38240051,  54.92160034,  75.51719666, ..., 336.39480591,\n",
       "         254.0124054 , 363.85559082]]])"
      ]
     },
     "execution_count": 28,
     "metadata": {},
     "output_type": "execute_result"
    }
   ],
   "source": [
    "image_pixel[0]"
   ]
  },
  {
   "cell_type": "code",
   "execution_count": 29,
   "metadata": {},
   "outputs": [
    {
     "data": {
      "text/plain": [
       "numpy.ndarray"
      ]
     },
     "execution_count": 29,
     "metadata": {},
     "output_type": "execute_result"
    }
   ],
   "source": [
    "type(image_pixel[0])"
   ]
  },
  {
   "cell_type": "code",
   "execution_count": 30,
   "metadata": {},
   "outputs": [
    {
     "data": {
      "text/plain": [
       "array([[308.93399048, 336.39480591, 254.0124054 , ..., 755.17199707,\n",
       "        700.25042725, 762.03723145],\n",
       "       [508.02481079, 370.72079468, 226.55160522, ..., 727.71118164,\n",
       "        693.38519287, 762.03723145],\n",
       "       [432.50759888, 370.72079468, 260.87759399, ..., 734.57641602,\n",
       "        713.98083496, 741.44158936],\n",
       "       ...,\n",
       "       [260.87759399, 295.20361328, 212.82119751, ..., 480.56399536,\n",
       "        528.62042236, 542.35083008],\n",
       "       [329.52960205, 274.60800171, 281.47320557, ..., 473.6987915 ,\n",
       "        459.96841431, 528.62042236],\n",
       "       [315.79919434, 295.20361328, 212.82119751, ..., 514.89001465,\n",
       "        501.15960693, 473.6987915 ]])"
      ]
     },
     "execution_count": 30,
     "metadata": {},
     "output_type": "execute_result"
    }
   ],
   "source": [
    "image_pixel[0][10,:,:]"
   ]
  },
  {
   "cell_type": "code",
   "execution_count": 51,
   "metadata": {},
   "outputs": [
    {
     "data": {
      "text/plain": [
       "<matplotlib.image.AxesImage at 0x7fddeef4f160>"
      ]
     },
     "execution_count": 51,
     "metadata": {},
     "output_type": "execute_result"
    },
    {
     "data": {
      "image/png": "[encoded data removed]",
      "text/plain": [
       "<Figure size 432x288 with 1 Axes>"
      ]
     },
     "metadata": {
      "needs_background": "light"
     },
     "output_type": "display_data"
    }
   ],
   "source": [
    "plt.imshow(image_pixel[0][30,:,:])"
   ]
  },
  {
   "cell_type": "code",
   "execution_count": 52,
   "metadata": {},
   "outputs": [
    {
     "data": {
      "text/plain": [
       "<matplotlib.image.AxesImage at 0x7fddeed762b0>"
      ]
     },
     "execution_count": 52,
     "metadata": {},
     "output_type": "execute_result"
    },
    {
     "data": {
      "image/png": "[encoded data removed]",
      "text/plain": [
       "<Figure size 432x288 with 1 Axes>"
      ]
     },
     "metadata": {
      "needs_background": "light"
     },
     "output_type": "display_data"
    }
   ],
   "source": [
    "plt.imshow(label_pixel[0][30,:,:])"
   ]
  },
  {
   "cell_type": "code",
   "execution_count": 33,
   "metadata": {},
   "outputs": [
    {
     "data": {
      "text/plain": [
       "<matplotlib.image.AxesImage at 0x7fddf20030d0>"
      ]
     },
     "execution_count": 33,
     "metadata": {},
     "output_type": "execute_result"
    },
    {
     "data": {
      "image/png": "[encoded data removed]",
      "text/plain": [
       "<Figure size 432x288 with 1 Axes>"
      ]
     },
     "metadata": {
      "needs_background": "light"
     },
     "output_type": "display_data"
    }
   ],
   "source": [
    "plt.imshow(image_pixel[1][30,:,:],cmap='gray')"
   ]
  },
  {
   "cell_type": "code",
   "execution_count": 34,
   "metadata": {},
   "outputs": [
    {
     "data": {
      "text/plain": [
       "<matplotlib.image.AxesImage at 0x7fddf202efa0>"
      ]
     },
     "execution_count": 34,
     "metadata": {},
     "output_type": "execute_result"
    },
    {
     "data": {
      "image/png": "[encoded data removed]",
      "text/plain": [
       "<Figure size 432x288 with 1 Axes>"
      ]
     },
     "metadata": {
      "needs_background": "light"
     },
     "output_type": "display_data"
    }
   ],
   "source": [
    "plt.imshow(label_pixel[1][30,:,:],cmap='gray')"
   ]
  },
  {
   "cell_type": "code",
   "execution_count": 35,
   "metadata": {},
   "outputs": [],
   "source": [
    "a=nib.load(image_instances[0][0]).get_fdata()"
   ]
  },
  {
   "cell_type": "code",
   "execution_count": 36,
   "metadata": {},
   "outputs": [
    {
     "data": {
      "text/plain": [
       "array([[[192.2256012 , 151.03439331, 116.70840454, ..., 768.90240479,\n",
       "         768.90240479, 816.95880127],\n",
       "        [192.2256012 , 192.2256012 , 151.03439331, ..., 755.17199707,\n",
       "         748.30682373, 810.09362793],\n",
       "        [185.36039734, 157.89959717, 178.49520874, ..., 789.49798584,\n",
       "         803.22839355, 816.95880127],\n",
       "        ...,\n",
       "        [350.12521362, 274.60800171, 350.12521362, ..., 336.39480591,\n",
       "         199.09080505,  54.92160034],\n",
       "        [356.99041748, 260.87759399, 322.66439819, ..., 288.33840942,\n",
       "         164.76480103, 212.82119751],\n",
       "        [377.58599854, 356.99041748, 308.93399048, ..., 288.33840942,\n",
       "         260.87759399, 308.93399048]],\n",
       "\n",
       "       [[ 82.38240051,  96.1128006 , 144.16920471, ..., 755.17199707,\n",
       "         796.36322021, 810.09362793],\n",
       "        [171.63000488, 116.70840454, 102.97799683, ..., 789.49798584,\n",
       "         789.49798584, 816.95880127],\n",
       "        [137.30400085, 109.84320068, 185.36039734, ..., 782.6328125 ,\n",
       "         782.6328125 , 823.82397461],\n",
       "        ...,\n",
       "        [350.12521362, 370.72079468, 329.52960205, ..., 308.93399048,\n",
       "         260.87759399, 137.30400085],\n",
       "        [281.47320557, 308.93399048, 302.06878662, ..., 274.60800171,\n",
       "         219.68640137, 185.36039734],\n",
       "        [302.06878662, 315.79919434, 233.41680908, ..., 308.93399048,\n",
       "         247.14720154, 274.60800171]],\n",
       "\n",
       "       [[260.87759399, 267.74279785, 171.63000488, ..., 720.8460083 ,\n",
       "         823.82397461, 762.03723145],\n",
       "        [247.14720154, 185.36039734, 185.36039734, ..., 782.6328125 ,\n",
       "         816.95880127, 796.36322021],\n",
       "        [315.79919434, 164.76480103,  89.24760437, ..., 789.49798584,\n",
       "         755.17199707, 803.22839355],\n",
       "        ...,\n",
       "        [384.45120239, 363.85559082, 363.85559082, ..., 274.60800171,\n",
       "         226.55160522, 199.09080505],\n",
       "        [302.06878662, 363.85559082, 350.12521362, ..., 247.14720154,\n",
       "         274.60800171, 205.95599365],\n",
       "        [274.60800171, 308.93399048, 356.99041748, ..., 260.87759399,\n",
       "         302.06878662, 288.33840942]],\n",
       "\n",
       "       ...,\n",
       "\n",
       "       [[645.32879639, 556.08117676, 274.60800171, ..., 556.08117676,\n",
       "         597.2723999 , 665.92437744],\n",
       "        [659.0592041 , 604.13757324, 549.21600342, ..., 837.55438232,\n",
       "         885.61077881, 926.80200195],\n",
       "        [693.38519287, 727.71118164, 775.76757812, ..., 851.28479004,\n",
       "         830.68920898, 830.68920898],\n",
       "        ...,\n",
       "        [247.14720154, 164.76480103,  82.38240051, ..., 425.64239502,\n",
       "         343.26000977, 336.39480591],\n",
       "        [315.79919434, 254.0124054 ,  96.1128006 , ..., 418.77719116,\n",
       "         384.45120239, 308.93399048],\n",
       "        [137.30400085, 281.47320557, 199.09080505, ..., 446.23800659,\n",
       "         453.10321045, 302.06878662]],\n",
       "\n",
       "       [[617.86798096, 604.13757324, 350.12521362, ..., 473.6987915 ,\n",
       "         562.94641113, 542.35083008],\n",
       "        [700.25042725, 686.52001953, 638.46362305, ..., 796.36322021,\n",
       "         871.88043213, 871.88043213],\n",
       "        [713.98083496, 645.32879639, 768.90240479, ..., 892.47601318,\n",
       "         844.4196167 , 837.55438232],\n",
       "        ...,\n",
       "        [219.68640137, 192.2256012 , 219.68640137, ..., 535.4855957 ,\n",
       "         473.6987915 , 453.10321045],\n",
       "        [199.09080505, 109.84320068, 205.95599365, ..., 528.62042236,\n",
       "         549.21600342, 446.23800659],\n",
       "        [109.84320068,  96.1128006 , 164.76480103, ..., 508.02481079,\n",
       "         480.56399536, 439.37280273]],\n",
       "\n",
       "       [[611.00280762, 611.00280762, 597.2723999 , ..., 480.56399536,\n",
       "         556.08117676, 549.21600342],\n",
       "        [755.17199707, 741.44158936, 720.8460083 , ..., 823.82397461,\n",
       "         892.47601318, 878.74560547],\n",
       "        [645.32879639, 597.2723999 , 762.03723145, ..., 899.34118652,\n",
       "         899.34118652, 871.88043213],\n",
       "        ...,\n",
       "        [171.63000488,  89.24760437,  41.19120026, ..., 549.21600342,\n",
       "         617.86798096, 528.62042236],\n",
       "        [ 89.24760437,  41.19120026,  27.46080017, ..., 398.18161011,\n",
       "         343.26000977, 459.96841431],\n",
       "        [ 82.38240051,  54.92160034,  75.51719666, ..., 336.39480591,\n",
       "         254.0124054 , 363.85559082]]])"
      ]
     },
     "execution_count": 36,
     "metadata": {},
     "output_type": "execute_result"
    }
   ],
   "source": [
    "a"
   ]
  },
  {
   "cell_type": "code",
   "execution_count": 37,
   "metadata": {},
   "outputs": [
    {
     "data": {
      "text/plain": [
       "(35, 55, 37)"
      ]
     },
     "execution_count": 37,
     "metadata": {},
     "output_type": "execute_result"
    }
   ],
   "source": [
    "np.shape(a)"
   ]
  },
  {
   "cell_type": "code",
   "execution_count": 56,
   "metadata": {},
   "outputs": [
    {
     "data": {
      "text/plain": [
       "Text(0.5, 1.0, 'Mask')"
      ]
     },
     "execution_count": 56,
     "metadata": {},
     "output_type": "execute_result"
    },
    {
     "data": {
      "image/png": "[encoded data removed]",
      "text/plain": [
       "<Figure size 864x432 with 2 Axes>"
      ]
     },
     "metadata": {
      "needs_background": "light"
     },
     "output_type": "display_data"
    }
   ],
   "source": [
    "test_image=nib.load(image[0][0][0]).get_fdata()\n",
    "test_mask=nib.load(label[0][0][0]).get_fdata()\n",
    "fig, (ax1, ax2) = plt.subplots(1,2, figsize = (12, 6))\n",
    "ax1.imshow(test_image[test_image.shape[0]//2],cmap='gray')\n",
    "ax1.set_title('Image')\n",
    "ax2.imshow(test_mask[test_image.shape[0]//2],cmap='gray')\n",
    "ax2.set_title('Mask')"
   ]
  },
  {
   "cell_type": "code",
   "execution_count": 55,
   "metadata": {},
   "outputs": [
    {
     "data": {
      "text/plain": [
       "Text(0.5, 1.0, 'Mask')"
      ]
     },
     "execution_count": 55,
     "metadata": {},
     "output_type": "execute_result"
    },
    {
     "data": {
      "image/png": "[encoded data removed]",
      "text/plain": [
       "<Figure size 864x432 with 2 Axes>"
      ]
     },
     "metadata": {
      "needs_background": "light"
     },
     "output_type": "display_data"
    }
   ],
   "source": [
    "test_image=nib.load(image[0][1][0]).get_fdata()\n",
    "test_mask=nib.load(label[0][1][0]).get_fdata()\n",
    "fig, (ax1, ax2) = plt.subplots(1,2, figsize = (12, 6))\n",
    "ax1.imshow(test_image[test_image.shape[0]//2])\n",
    "ax1.set_title('Image')\n",
    "ax2.imshow(test_mask[test_image.shape[0]//2])\n",
    "ax2.set_title('Mask')"
   ]
  },
  {
   "cell_type": "code",
   "execution_count": 57,
   "metadata": {},
   "outputs": [
    {
     "data": {
      "text/plain": [
       "Text(0.5, 1.0, 'Mask')"
      ]
     },
     "execution_count": 57,
     "metadata": {},
     "output_type": "execute_result"
    },
    {
     "data": {
      "image/png": "[encoded data removed]",
      "text/plain": [
       "<Figure size 864x432 with 2 Axes>"
      ]
     },
     "metadata": {
      "needs_background": "light"
     },
     "output_type": "display_data"
    }
   ],
   "source": [
    "test_image=nib.load(image[0][260][0]).get_fdata()\n",
    "test_mask=nib.load(label[0][260][0]).get_fdata()\n",
    "fig, (ax1, ax2) = plt.subplots(1,2, figsize = (12, 6))\n",
    "ax1.imshow(test_image[test_image.shape[0]//2])\n",
    "ax1.set_title('Image')\n",
    "ax2.imshow(test_mask[test_image.shape[0]//2])\n",
    "ax2.set_title('Mask')"
   ]
  },
  {
   "cell_type": "code",
   "execution_count": 58,
   "metadata": {},
   "outputs": [
    {
     "data": {
      "text/plain": [
       "Text(0.5, 1.0, 'Mask')"
      ]
     },
     "execution_count": 58,
     "metadata": {},
     "output_type": "execute_result"
    },
    {
     "data": {
      "image/png": "[encoded data removed]",
      "text/plain": [
       "<Figure size 864x432 with 2 Axes>"
      ]
     },
     "metadata": {
      "needs_background": "light"
     },
     "output_type": "display_data"
    }
   ],
   "source": [
    "test_image=nib.load(image[0][100][0]).get_fdata()\n",
    "test_mask=nib.load(label[0][100][0]).get_fdata()\n",
    "fig, (ax1, ax2) = plt.subplots(1,2, figsize = (12, 6))\n",
    "ax1.imshow(test_image[test_image.shape[0]//2])\n",
    "ax1.set_title('Image')\n",
    "ax2.imshow(test_mask[test_image.shape[0]//2])\n",
    "ax2.set_title('Mask')"
   ]
  },
  {
   "cell_type": "markdown",
   "metadata": {},
   "source": [
    "Load volume into 3D Slicer to validate that your visualization is correct and get a feel for the shape of structures.Try to get a visualization like the one below (hint: while Slicer documentation is not particularly great, there are plenty of YouTube videos available! Just look it up on YouTube if you are not sure how to do something)\n",
    "\n",
    "![3D slicer](img/Slicer.png)"
   ]
  },
  {
   "cell_type": "code",
   "execution_count": 39,
   "metadata": {},
   "outputs": [],
   "source": [
    "# Stand out suggestion: use one of the simple Volume Rendering algorithms that we've\n",
    "# implemented in one of our earlier lessons to visualize some of these volumes"
   ]
  },
  {
   "cell_type": "markdown",
   "metadata": {},
   "source": [
    "## Looking at single image data\n",
    "In this section we will look closer at the NIFTI representation of our volumes. In order to measure the physical volume of hippocampi, we need to understand the relationship between the sizes of our voxels and the physical world."
   ]
  },
  {
   "cell_type": "code",
   "execution_count": 40,
   "metadata": {
    "scrolled": true
   },
   "outputs": [],
   "source": [
    "# Nibabel supports many imaging formats, NIFTI being just one of them. I told you that our images \n",
    "# are in NIFTI, but you should confirm if this is indeed the format that we are dealing with\n",
    "# TASK: using .header_class attribute - what is the format of our images?"
   ]
  },
  {
   "cell_type": "code",
   "execution_count": 41,
   "metadata": {},
   "outputs": [],
   "source": [
    "import re\n",
    "count=0\n",
    "for i in image_instances:\n",
    "    text = i[0]\n",
    "    m = re.search('.nii.gz', text)\n",
    "    if m:\n",
    "        count+=1\n"
   ]
  },
  {
   "cell_type": "code",
   "execution_count": 42,
   "metadata": {},
   "outputs": [
    {
     "data": {
      "text/plain": [
       "263"
      ]
     },
     "execution_count": 42,
     "metadata": {},
     "output_type": "execute_result"
    }
   ],
   "source": [
    "count"
   ]
  },
  {
   "cell_type": "code",
   "execution_count": 43,
   "metadata": {},
   "outputs": [],
   "source": [
    "import re\n",
    "count=0\n",
    "for i in label_instances:\n",
    "    text = i[0]\n",
    "    m = re.search('.nii.gz', text)\n",
    "    if m:\n",
    "        count+=1\n"
   ]
  },
  {
   "cell_type": "code",
   "execution_count": 44,
   "metadata": {},
   "outputs": [
    {
     "data": {
      "text/plain": [
       "262"
      ]
     },
     "execution_count": 44,
     "metadata": {},
     "output_type": "execute_result"
    }
   ],
   "source": [
    "count"
   ]
  },
  {
   "cell_type": "markdown",
   "metadata": {},
   "source": [
    "Further down we will be inspecting .header attribute that provides access to NIFTI metadata. You can use this resource as a reference for various fields: https://brainder.org/2012/09/23/the-nifti-file-format/"
   ]
  },
  {
   "cell_type": "code",
   "execution_count": 45,
   "metadata": {},
   "outputs": [],
   "source": [
    "# TASK: How many bits per pixel are used?"
   ]
  },
  {
   "cell_type": "code",
   "execution_count": 46,
   "metadata": {},
   "outputs": [
    {
     "name": "stdout",
     "output_type": "stream",
     "text": [
      "(ITK_FileNotes) = =\"5.0.10\"\n",
      "(aux_file) = =\"none\"\n",
      "(bitpix) = =\"32\"\n",
      "(cal_max) = =\"0\"\n",
      "(cal_min) = =\"0\"\n",
      "(datatype) = =\"16\"\n",
      "(descrip) = =\"5.0.10\"\n",
      "(dim[0]) = =\"3\"\n",
      "(dim[1]) = =\"35\"\n",
      "(dim[2]) = =\"55\"\n",
      "(dim[3]) = =\"37\"\n",
      "(dim[4]) = =\"1\"\n",
      "(dim[5]) = =\"1\"\n",
      "(dim[6]) = =\"1\"\n",
      "(dim[7]) = =\"1\"\n",
      "(dim_info) = =\"\u0000\"\n",
      "(intent_code) = =\"0\"\n",
      "(intent_name) = =\"\"\n",
      "(intent_p1) = =\"0\"\n",
      "(intent_p2) = =\"0\"\n",
      "(intent_p3) = =\"0\"\n",
      "(pixdim[0]) = =\"1\"\n",
      "(pixdim[1]) = =\"1\"\n",
      "(pixdim[2]) = =\"1\"\n",
      "(pixdim[3]) = =\"1\"\n",
      "(pixdim[4]) = =\"1\"\n",
      "(pixdim[5]) = =\"0\"\n",
      "(pixdim[6]) = =\"0\"\n",
      "(pixdim[7]) = =\"0\"\n",
      "(qform_code) = =\"1\"\n",
      "(qform_code_name) = =\"NIFTI_XFORM_SCANNER_ANAT\"\n",
      "(qoffset_x) = =\"0\"\n",
      "(qoffset_y) = =\"0\"\n",
      "(qoffset_z) = =\"0\"\n",
      "(quatern_b) = =\"0\"\n",
      "(quatern_c) = =\"0\"\n",
      "(quatern_d) = =\"0\"\n",
      "(scl_inter) = =\"0\"\n",
      "(scl_slope) = =\"1\"\n",
      "(sform_code) = =\"1\"\n",
      "(sform_code_name) = =\"NIFTI_XFORM_SCANNER_ANAT\"\n",
      "(slice_code) = =\"\u0000\"\n",
      "(slice_duration) = =\"0\"\n",
      "(slice_end) = =\"0\"\n",
      "(slice_start) = =\"0\"\n",
      "(srow_x) = =\"1 0 0 0\"\n",
      "(srow_y) = =\"0 1 0 0\"\n",
      "(srow_z) = =\"0 0 1 0\"\n",
      "(toffset) = =\"0\"\n",
      "(vox_offset) = =\"352\"\n",
      "(xyzt_units) = =\"\n",
      "\"\n",
      "Image Size: (35, 55, 37)\n",
      "Image PixelType: 32-bit float\n"
     ]
    }
   ],
   "source": [
    "import SimpleITK as sitk\n",
    "flair_file = image[0][0][0]\n",
    "\n",
    "reader = sitk.ImageFileReader()\n",
    "reader.SetFileName(flair_file)\n",
    "\n",
    "reader.LoadPrivateTagsOn()\n",
    "reader.ReadImageInformation()\n",
    "for k in reader.GetMetaDataKeys():\n",
    "  v = reader.GetMetaData(k)\n",
    "  print(\"({0}) = =\\\"{1}\\\"\".format(k,v))\n",
    "\n",
    "print(\"Image Size: {0}\".format(reader.GetSize()))\n",
    "print(\"Image PixelType: {0}\".format(sitk.GetPixelIDValueAsString(reader.GetPixelID())))"
   ]
  },
  {
   "cell_type": "code",
   "execution_count": 47,
   "metadata": {},
   "outputs": [],
   "source": [
    "# TASK: What are the units of measurement?"
   ]
  },
  {
   "cell_type": "code",
   "execution_count": 48,
   "metadata": {},
   "outputs": [
    {
     "data": {
      "text/plain": [
       "('mm', 'sec')"
      ]
     },
     "execution_count": 48,
     "metadata": {},
     "output_type": "execute_result"
    }
   ],
   "source": [
    "nib.load(image[0][0][0]).header.get_xyzt_units()"
   ]
  },
  {
   "cell_type": "code",
   "execution_count": 49,
   "metadata": {},
   "outputs": [
    {
     "data": {
      "text/plain": [
       "tuple"
      ]
     },
     "execution_count": 49,
     "metadata": {},
     "output_type": "execute_result"
    }
   ],
   "source": [
    "type(nib.load(image[0][0][0]).header.get_xyzt_units())"
   ]
  },
  {
   "cell_type": "code",
   "execution_count": 50,
   "metadata": {},
   "outputs": [
    {
     "data": {
      "text/plain": [
       "dtype('<f4')"
      ]
     },
     "execution_count": 50,
     "metadata": {},
     "output_type": "execute_result"
    }
   ],
   "source": [
    "nib.load(image[0][0][0]).header.get_data_dtype()"
   ]
  },
  {
   "cell_type": "code",
   "execution_count": null,
   "metadata": {},
   "outputs": [],
   "source": [
    "# TASK: Do we have a regular grid? What are grid spacings?"
   ]
  },
  {
   "cell_type": "code",
   "execution_count": null,
   "metadata": {},
   "outputs": [],
   "source": []
  },
  {
   "cell_type": "code",
   "execution_count": null,
   "metadata": {},
   "outputs": [],
   "source": [
    "# TASK: What dimensions represent axial, sagittal, and coronal slices? How do you know?"
   ]
  },
  {
   "cell_type": "code",
   "execution_count": null,
   "metadata": {},
   "outputs": [],
   "source": [
    "# By now you should have enough information to decide what are dimensions of a single voxel\n",
    "# TASK: Compute the volume (in mm³) of a hippocampus using one of the labels you've loaded. \n",
    "# You should get a number between ~2200 and ~4500"
   ]
  },
  {
   "cell_type": "markdown",
   "metadata": {},
   "source": [
    "## Plotting some charts"
   ]
  },
  {
   "cell_type": "code",
   "execution_count": null,
   "metadata": {},
   "outputs": [],
   "source": [
    "# TASK: Plot a histogram of all volumes that we have in our dataset and see how \n",
    "# our dataset measures against a slice of a normal population represented by the chart below."
   ]
  },
  {
   "cell_type": "markdown",
   "metadata": {},
   "source": [
    "<img src=\"img/nomogram_fem_right.svg\" width=400 align=left>"
   ]
  },
  {
   "cell_type": "markdown",
   "metadata": {},
   "source": [
    "Do you see any outliers? Why do you think it's so (might be not immediately obvious, but it's always a good idea to inspect) outliers closer. If you haven't found the images that do not belong, the histogram may help you."
   ]
  },
  {
   "cell_type": "markdown",
   "metadata": {},
   "source": [
    "In the real world we would have precise information about the ages and conditions of our patients, and understanding how our dataset measures against population norm would be the integral part of clinical validation that we talked about in last lesson. Unfortunately, we do not have this information about this dataset, so we can only guess why it measures the way it is. If you would like to explore further, you can use the [calculator from HippoFit project](http://www.smanohar.com/biobank/calculator.html) to see how our dataset compares against different population slices"
   ]
  },
  {
   "cell_type": "markdown",
   "metadata": {},
   "source": [
    "Did you notice anything odd about the label files? We hope you did! The mask seems to have two classes, labeled with values `1` and `2` respectively. If you visualized sagittal or axial views, you might have gotten a good guess of what those are. Class 1 is the anterior segment of the hippocampus and class 2 is the posterior one. \n",
    "\n",
    "For the purpose of volume calculation we do not care about the distinction, however we will still train our network to differentiate between these two classes and the background"
   ]
  },
  {
   "cell_type": "code",
   "execution_count": null,
   "metadata": {},
   "outputs": [],
   "source": [
    "# TASK: Copy the clean dataset to the output folder inside section1/out. You will use it in the next Section"
   ]
  },
  {
   "cell_type": "markdown",
   "metadata": {},
   "source": [
    "## Final remarks\n",
    "\n",
    "Congratulations! You have finished Section 1. \n",
    "\n",
    "In this section you have inspected a dataset of MRI scans and related segmentations, represented as NIFTI files. We have visualized some slices, and understood the layout of the data. We have inspected file headers to understand what how the image dimensions relate to the physical world and we have understood how to measure our volume. We have then inspected dataset for outliers, and have created a clean set that is ready for consumption by our ML algorithm. \n",
    "\n",
    "In the next section you will create training and testing pipelines for a UNet-based machine learning model, run and monitor the execution, and will produce test metrics. This will arm you with all you need to use the model in the clinical context and reason about its performance!"
   ]
  }
 ],
 "metadata": {
  "kernelspec": {
   "display_name": "Python 3",
   "language": "python",
   "name": "python3"
  },
  "language_info": {
   "codemirror_mode": {
    "name": "ipython",
    "version": 3
   },
   "file_extension": ".py",
   "mimetype": "text/x-python",
   "name": "python",
   "nbconvert_exporter": "python",
   "pygments_lexer": "ipython3",
   "version": "3.8.2"
  }
 },
 "nbformat": 4,
 "nbformat_minor": 2
}
